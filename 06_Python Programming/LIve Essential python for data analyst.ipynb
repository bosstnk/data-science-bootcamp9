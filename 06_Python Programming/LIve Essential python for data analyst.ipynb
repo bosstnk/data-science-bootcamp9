{
 "cells":[
  {
   "cell_type":"markdown",
   "source":[
    "# Object Oriented Programming (OOP)"
   ],
   "attachments":{},
   "metadata":{
    "datalore":{
     "node_id":"wVOYBOLWvqhk5OT8D6F9kZ",
     "type":"MD",
     "hide_input_from_viewers":true,
     "hide_output_from_viewers":true
    }
   }
  },
  {
   "cell_type":"code",
   "source":[
    "from random import randint\n",
    "\n",
    "class ATM:\n",
    "    def __init__(self, account_name, bank_name, initial): ## double underscore (dunder)\n",
    "        self.account_name =account_name\n",
    "        self.bank_name = bank_name\n",
    "        self.balance = initial\n",
    "\n",
    "    ## stromg representation\n",
    "    def __str__(self):\n",
    "        return f\"This is an account of {self.account_name}, bank: {self.bank_name}\"\n",
    "\n",
    "    ## method => function\n",
    "    def check_balance(self):\n",
    "        print(f\"Balance: {self.balance}\")\n",
    "\n",
    "    def deposit(self, money):\n",
    "        self.balance += money\n",
    "        print(f\"Deposit successfully: your new balance: {self.balance} THB\")\n",
    "\n",
    "    def withdraw(self, money):\n",
    "        self.balance -= money\n",
    "        print(f\"Withdraw successfully: your new balance: {self.balance} THB\")\n",
    "\n",
    "    def get_OTP(self):\n",
    "        otp = randint(1000, 9999)\n",
    "        print(f\"Your OTP: {otp} This OTP will be available in the next 2 minutes.\")"
   ],
   "execution_count":2,
   "outputs":[],
   "metadata":{
    "datalore":{
     "node_id":"deQQXjSmgXoToeVzHCC8fW",
     "type":"CODE",
     "hide_input_from_viewers":true,
     "hide_output_from_viewers":true
    }
   }
  },
  {
   "cell_type":"code",
   "source":[
    "# create an instance from ATM class\n",
    "acc1 = ATM(\"Boss\", \"KBANK\", 500)"
   ],
   "execution_count":3,
   "outputs":[],
   "metadata":{
    "datalore":{
     "node_id":"32wbrQ5CkkABxxgqZOeJcM",
     "type":"CODE",
     "hide_input_from_viewers":true,
     "hide_output_from_viewers":true
    }
   }
  },
  {
   "cell_type":"code",
   "source":[
    "print(acc1)"
   ],
   "execution_count":4,
   "outputs":[
    {
     "name":"stdout",
     "text":[
      "This is an account of Boss, bank: KBANK\n"
     ],
     "output_type":"stream"
    }
   ],
   "metadata":{
    "datalore":{
     "node_id":"xwGGqOR60G9KBdkKXsy44P",
     "type":"CODE",
     "hide_input_from_viewers":true,
     "hide_output_from_viewers":true
    }
   }
  },
  {
   "cell_type":"code",
   "source":[
    "acc1.check_balance()"
   ],
   "execution_count":5,
   "outputs":[
    {
     "name":"stdout",
     "text":[
      "Balance: 500\n"
     ],
     "output_type":"stream"
    }
   ],
   "metadata":{
    "datalore":{
     "node_id":"7kAUYnjGEZhT1YJvUXRTRS",
     "type":"CODE",
     "hide_input_from_viewers":true,
     "hide_output_from_viewers":true
    }
   }
  },
  {
   "cell_type":"code",
   "source":[
    "acc1.deposit(1000)"
   ],
   "execution_count":6,
   "outputs":[
    {
     "name":"stdout",
     "text":[
      "Deposit successfully: your new balance: 1500 THB\n"
     ],
     "output_type":"stream"
    }
   ],
   "metadata":{
    "datalore":{
     "node_id":"Z7BRAwii0i7dXEyLNHF61T",
     "type":"CODE",
     "hide_input_from_viewers":true,
     "hide_output_from_viewers":true
    }
   }
  },
  {
   "cell_type":"code",
   "source":[
    "acc1.withdraw(1000)"
   ],
   "execution_count":7,
   "outputs":[
    {
     "name":"stdout",
     "text":[
      "Withdraw successfully: your new balance: 500 THB\n"
     ],
     "output_type":"stream"
    }
   ],
   "metadata":{
    "datalore":{
     "node_id":"oZC5oMxBs6sxnoMZ9md8b5",
     "type":"CODE",
     "hide_input_from_viewers":true,
     "hide_output_from_viewers":true
    }
   }
  },
  {
   "cell_type":"code",
   "source":[
    "acc1.get_OTP()"
   ],
   "execution_count":8,
   "outputs":[
    {
     "name":"stdout",
     "text":[
      "Your OTP: 7698 This OTP will be available in the next 2 minutes.\n"
     ],
     "output_type":"stream"
    }
   ],
   "metadata":{
    "datalore":{
     "node_id":"EXaNNg2RLupE6xzJP0bapz",
     "type":"CODE",
     "hide_input_from_viewers":true,
     "hide_output_from_viewers":true
    }
   }
  },
  {
   "cell_type":"markdown",
   "source":[
    "# Try Except Block"
   ],
   "attachments":{},
   "metadata":{
    "datalore":{
     "node_id":"FfnaPsznhS5ywJ7BnaO2kw",
     "type":"MD",
     "hide_input_from_viewers":true,
     "hide_output_from_viewers":true
    }
   }
  },
  {
   "cell_type":"code",
   "source":[
    "## Error divide by zero\n",
    "# 1\/0\n",
    "try:\n",
    "    1\/0\n",
    "except:\n",
    "    print(\"cannot divide by zero\")"
   ],
   "execution_count":9,
   "outputs":[
    {
     "name":"stdout",
     "text":[
      "cannot divide by zero\n"
     ],
     "output_type":"stream"
    }
   ],
   "metadata":{
    "datalore":{
     "node_id":"mzc2vacnVUVP7fr31WY2ST",
     "type":"CODE",
     "hide_input_from_viewers":true,
     "hide_output_from_viewers":true
    }
   }
  },
  {
   "cell_type":"code",
   "source":[
    "try:\n",
    "    1\/0\n",
    "except ZeroDivisionError:\n",
    "    print(\"cannot divide by zero\")\n",
    "except NameError:\n",
    "    print(\"variable not defined\")"
   ],
   "execution_count":10,
   "outputs":[
    {
     "name":"stdout",
     "text":[
      "cannot divide by zero\n"
     ],
     "output_type":"stream"
    }
   ],
   "metadata":{
    "datalore":{
     "node_id":"kirGqE8NvCdZFTrmNdn7wc",
     "type":"CODE",
     "hide_input_from_viewers":true,
     "hide_output_from_viewers":true
    }
   }
  },
  {
   "cell_type":"code",
   "source":[
    "try:\n",
    "    number\/0\n",
    "except ZeroDivisionError:\n",
    "    print(\"cannot divide by zero\")\n",
    "except NameError:\n",
    "    print(\"variable not defined\")"
   ],
   "execution_count":11,
   "outputs":[
    {
     "name":"stdout",
     "text":[
      "variable not defined\n"
     ],
     "output_type":"stream"
    }
   ],
   "metadata":{
    "datalore":{
     "node_id":"LjP8g16q45w6Kx5Xd8TZmC",
     "type":"CODE",
     "hide_input_from_viewers":true,
     "hide_output_from_viewers":true
    }
   }
  },
  {
   "cell_type":"code",
   "source":[
    "try:\n",
    "    1\/5\n",
    "except ZeroDivisionError:\n",
    "    print(\"cannot divide by zero\")\n",
    "except NameError:\n",
    "    print(\"variable not defined\")\n",
    "else:\n",
    "    print(\"Done\")"
   ],
   "execution_count":12,
   "outputs":[
    {
     "name":"stdout",
     "text":[
      "Done\n"
     ],
     "output_type":"stream"
    }
   ],
   "metadata":{
    "datalore":{
     "node_id":"BxeO7MQeALAu9HWRRwlLKv",
     "type":"CODE",
     "hide_input_from_viewers":true,
     "hide_output_from_viewers":true
    }
   }
  },
  {
   "cell_type":"code",
   "source":[
    "try:\n",
    "    1\/5\n",
    "except ZeroDivisionError:\n",
    "    print(\"cannot divide by zero\")\n",
    "except NameError:\n",
    "    print(\"variable not defined\")\n",
    "else:\n",
    "    print(\"Done\")\n",
    "finally:\n",
    "    print(\"Complete!\")"
   ],
   "execution_count":13,
   "outputs":[
    {
     "name":"stdout",
     "text":[
      "Done\n",
      "Complete!\n"
     ],
     "output_type":"stream"
    }
   ],
   "metadata":{
    "datalore":{
     "node_id":"MeJ7tkAIHfVMTIfxfl4N7G",
     "type":"CODE",
     "hide_input_from_viewers":true,
     "hide_output_from_viewers":true
    }
   }
  },
  {
   "cell_type":"code",
   "source":[
    "try:\n",
    "    1\/0\n",
    "except ZeroDivisionError:\n",
    "    print(\"cannot divide by zero\")\n",
    "except NameError:\n",
    "    print(\"variable not defined\")\n",
    "else:\n",
    "    print(\"Done\")\n",
    "finally:\n",
    "    print(\"Complete!\")"
   ],
   "execution_count":14,
   "outputs":[
    {
     "name":"stdout",
     "text":[
      "cannot divide by zero\n",
      "Complete!\n"
     ],
     "output_type":"stream"
    }
   ],
   "metadata":{
    "datalore":{
     "node_id":"ekI8cdvaX3xSiTuR1JaCS8",
     "type":"CODE",
     "hide_input_from_viewers":true,
     "hide_output_from_viewers":true
    }
   }
  },
  {
   "cell_type":"markdown",
   "source":[
    "## import csv"
   ],
   "attachments":{},
   "metadata":{
    "datalore":{
     "node_id":"T7le7fbL8XdyROlBphz2zl",
     "type":"MD",
     "hide_input_from_viewers":true,
     "hide_output_from_viewers":true
    }
   }
  },
  {
   "cell_type":"code",
   "source":[
    "## manual version\n",
    "# import csv (manual version)\n",
    "import csv\n",
    "\n",
    "# 3 steps เหมือนกับตอนเปิดโปรแกรมในคอมพิวเตอร์\n",
    "\n",
    "# 1. Open file\n",
    "file = open(\"friends.csv\")\n",
    "\n",
    "# 2. Read file\n",
    "data = csv.reader(file)\n",
    "for row in data: # อ่านไฟล์ทีละ row\n",
    "    print(row)\n",
    "\n",
    "# 3. Close file\n",
    "file.close()"
   ],
   "execution_count":15,
   "outputs":[
    {
     "name":"stdout",
     "text":[
      "['id', 'name', 'age', 'city']\n",
      "['1', 'toy', '35', 'bangkok']\n",
      "['2', 'john', '32', 'london']\n",
      "['3', 'marry', '28', 'seoul']\n"
     ],
     "output_type":"stream"
    }
   ],
   "metadata":{
    "datalore":{
     "node_id":"BAF6Rs6RsCQTSWbcurzzyi",
     "type":"CODE",
     "hide_input_from_viewers":true,
     "hide_output_from_viewers":true
    }
   }
  },
  {
   "cell_type":"code",
   "source":[
    "import csv\n",
    "\n",
    "# import csv (manual version)\n",
    "try:\n",
    "    file = open(\"friends.csv\")\n",
    "    data = csv.reader(file)\n",
    "    for row in data: # อ่านไฟล์ทีละ row\n",
    "        print(row)\n",
    "    file.close()\n",
    "except FileNotFoundError:\n",
    "    print(\"File not found.\")"
   ],
   "execution_count":16,
   "outputs":[
    {
     "name":"stdout",
     "text":[
      "['id', 'name', 'age', 'city']\n",
      "['1', 'toy', '35', 'bangkok']\n",
      "['2', 'john', '32', 'london']\n",
      "['3', 'marry', '28', 'seoul']\n"
     ],
     "output_type":"stream"
    }
   ],
   "metadata":{
    "datalore":{
     "node_id":"cS0NkOu1cvzwzSpsf7WEyI",
     "type":"CODE",
     "hide_input_from_viewers":true,
     "hide_output_from_viewers":true
    }
   }
  },
  {
   "cell_type":"markdown",
   "source":[
    "## Context manager version"
   ],
   "attachments":{},
   "metadata":{
    "datalore":{
     "node_id":"xhYpsylB8Y118M0zBALdB8",
     "type":"MD",
     "hide_input_from_viewers":true,
     "hide_output_from_viewers":true
    }
   }
  },
  {
   "cell_type":"code",
   "source":[
    "import csv\n",
    "# Context manager\n",
    "result = []\n",
    "\n",
    "# open and close file automatically\n",
    "with open(\"friends.csv\", \"r\") as file: # เปิดไฟล์ แล้วเก็บ(as)ไว้ในชื่อ file\n",
    "    data = csv.reader(file)\n",
    "    for row in data:\n",
    "        result.append(row) # append file to result\n",
    "try:\n",
    "    # open and close file automatically\n",
    "    with open(\"friends.csv\", \"r\") as file:\n",
    "        data = csv.reader(file)\n",
    "        for row in data:\n",
    "            result.append(row)\n",
    "except:\n",
    "    print(\"file not found\")\n",
    "else:\n",
    "    print(\"lod data successfully!\")\n",
    "finally:\n",
    "    print(result)"
   ],
   "execution_count":17,
   "outputs":[
    {
     "name":"stdout",
     "text":[
      "lod data successfully!\n",
      "[['id', 'name', 'age', 'city'], ['1', 'toy', '35', 'bangkok'], ['2', 'john', '32', 'london'], ['3', 'marry', '28', 'seoul'], ['id', 'name', 'age', 'city'], ['1', 'toy', '35', 'bangkok'], ['2', 'john', '32', 'london'], ['3', 'marry', '28', 'seoul']]\n"
     ],
     "output_type":"stream"
    }
   ],
   "metadata":{
    "datalore":{
     "node_id":"QEuibZPQeyEdhJtIrnpaXA",
     "type":"CODE",
     "hide_input_from_viewers":true,
     "hide_output_from_viewers":true
    }
   }
  },
  {
   "cell_type":"markdown",
   "source":[
    "## import csv with Pandas"
   ],
   "attachments":{},
   "metadata":{
    "datalore":{
     "node_id":"2p1ojJLJGmHFdXPKBafi7E",
     "type":"MD",
     "hide_input_from_viewers":true,
     "hide_output_from_viewers":true
    }
   }
  },
  {
   "cell_type":"code",
   "source":[
    "# import csv (easy version)\n",
    "import pandas as pd\n",
    "try:\n",
    "    df = pd.read_csv(\"friends.csv\")\n",
    "except:\n",
    "    print(\"a little error.\")\n",
    "finally:\n",
    "    print(\"import file complete!\")"
   ],
   "execution_count":18,
   "outputs":[
    {
     "name":"stdout",
     "text":[
      "import file complete!\n"
     ],
     "output_type":"stream"
    }
   ],
   "metadata":{
    "datalore":{
     "node_id":"gXsVIR67BtXUMeIK9Ic6Xn",
     "type":"CODE",
     "hide_input_from_viewers":true,
     "hide_output_from_viewers":true
    }
   }
  },
  {
   "cell_type":"code",
   "source":[
    "df"
   ],
   "execution_count":19,
   "outputs":[
    {
     "data":{
      "text\/html":[
       "<div>\n",
       "<style scoped>\n",
       "    .dataframe tbody tr th:only-of-type {\n",
       "        vertical-align: middle;\n",
       "    }\n",
       "\n",
       "    .dataframe tbody tr th {\n",
       "        vertical-align: top;\n",
       "    }\n",
       "\n",
       "    .dataframe thead th {\n",
       "        text-align: right;\n",
       "    }\n",
       "<\/style>\n",
       "<table border=\"1\" class=\"dataframe\">\n",
       "  <thead>\n",
       "    <tr style=\"text-align: right;\">\n",
       "      <th><\/th>\n",
       "      <th>id<\/th>\n",
       "      <th>name<\/th>\n",
       "      <th>age<\/th>\n",
       "      <th>city<\/th>\n",
       "    <\/tr>\n",
       "  <\/thead>\n",
       "  <tbody>\n",
       "    <tr>\n",
       "      <th>0<\/th>\n",
       "      <td>1<\/td>\n",
       "      <td>toy<\/td>\n",
       "      <td>35<\/td>\n",
       "      <td>bangkok<\/td>\n",
       "    <\/tr>\n",
       "    <tr>\n",
       "      <th>1<\/th>\n",
       "      <td>2<\/td>\n",
       "      <td>john<\/td>\n",
       "      <td>32<\/td>\n",
       "      <td>london<\/td>\n",
       "    <\/tr>\n",
       "    <tr>\n",
       "      <th>2<\/th>\n",
       "      <td>3<\/td>\n",
       "      <td>marry<\/td>\n",
       "      <td>28<\/td>\n",
       "      <td>seoul<\/td>\n",
       "    <\/tr>\n",
       "  <\/tbody>\n",
       "<\/table>\n",
       "<\/div>"
      ]
     },
     "metadata":{},
     "output_type":"display_data"
    }
   ],
   "metadata":{
    "datalore":{
     "node_id":"pyWQ8yAVIWiPxqZ2P0fWEF",
     "type":"CODE",
     "hide_input_from_viewers":true,
     "hide_output_from_viewers":true
    }
   }
  },
  {
   "cell_type":"markdown",
   "source":[
    "## Write csv file"
   ],
   "attachments":{},
   "metadata":{
    "datalore":{
     "node_id":"5YiXWhss7JLPTSw7eb94TS",
     "type":"MD",
     "hide_input_from_viewers":true,
     "hide_output_from_viewers":true
    }
   }
  },
  {
   "cell_type":"markdown",
   "source":[
    "### pandas version"
   ],
   "attachments":{},
   "metadata":{
    "datalore":{
     "node_id":"D4xNGOFfGZozkaKxsz3sDi",
     "type":"MD",
     "hide_input_from_viewers":true,
     "hide_output_from_viewers":true
    }
   }
  },
  {
   "cell_type":"code",
   "source":[
    "# import csv (easy version)\n",
    "import pandas as pd\n",
    "df.to_csv(\"newCSVFile.csv\")"
   ],
   "execution_count":20,
   "outputs":[],
   "metadata":{
    "datalore":{
     "node_id":"SyF4OZOHXJqIHmiNUNDui0",
     "type":"CODE",
     "hide_input_from_viewers":true,
     "hide_output_from_viewers":true
    }
   }
  },
  {
   "cell_type":"markdown",
   "source":[
    "### Manual version"
   ],
   "attachments":{},
   "metadata":{
    "datalore":{
     "node_id":"4QeRwYjwVDRgbOC8dpp9qF",
     "type":"MD",
     "hide_input_from_viewers":true,
     "hide_output_from_viewers":true
    }
   }
  },
  {
   "cell_type":"code",
   "source":[
    "import csv\n",
    "\n",
    "col_names = [\"food_id\", \"food\", \"price\"]\n",
    "data = [\n",
    "    [1, \"pizza\", 200],\n",
    "    [2, \"french fried\", 50],\n",
    "    [3, \"coke\", 10]\n",
    "]\n",
    "\n",
    "with open(\"food.csv\", \"w\") as file:\n",
    "    writer = csv.writer(file)\n",
    "    writer.writerow(col_names)\n",
    "    writer.writerows(data)"
   ],
   "execution_count":21,
   "outputs":[],
   "metadata":{
    "datalore":{
     "node_id":"faP1GIKXcZDKv23ykYTL4m",
     "type":"CODE",
     "hide_input_from_viewers":true,
     "hide_output_from_viewers":true
    }
   }
  },
  {
   "cell_type":"markdown",
   "source":[
    "## JSON"
   ],
   "attachments":{},
   "metadata":{
    "datalore":{
     "node_id":"lP1KbRahBAc7ts921urcpF",
     "type":"MD",
     "hide_input_from_viewers":true,
     "hide_output_from_viewers":true
    }
   }
  },
  {
   "cell_type":"markdown",
   "source":[
    "### Read json file by context manager"
   ],
   "attachments":{},
   "metadata":{
    "datalore":{
     "node_id":"omhuj6SqVNlCSUEi7oJNmq",
     "type":"MD",
     "hide_input_from_viewers":true,
     "hide_output_from_viewers":true
    }
   }
  },
  {
   "cell_type":"code",
   "source":[
    "import json\n",
    "\n",
    "with open(\"data.json\") as file:\n",
    "    result = json.load(file)\n",
    "\n",
    "print(result)"
   ],
   "execution_count":22,
   "outputs":[
    {
     "name":"stdout",
     "text":[
      "{'id': 1, 'name': 'boss', 'favorite_food': ['coke', 'pizza']}\n"
     ],
     "output_type":"stream"
    }
   ],
   "metadata":{
    "datalore":{
     "node_id":"CsJfLbzKGmrFeTr2kvoCUV",
     "type":"CODE",
     "hide_input_from_viewers":true,
     "hide_output_from_viewers":true
    }
   }
  },
  {
   "cell_type":"code",
   "source":[
    "result[\"favorite_food\"][0]"
   ],
   "execution_count":23,
   "outputs":[
    {
     "data":{
      "text\/plain":[
       "'coke'"
      ]
     },
     "metadata":{},
     "output_type":"display_data"
    }
   ],
   "metadata":{
    "datalore":{
     "node_id":"qXA9H2cTvelQLwLvUFVNqe",
     "type":"CODE",
     "hide_input_from_viewers":true,
     "hide_output_from_viewers":true
    }
   }
  },
  {
   "cell_type":"code",
   "source":[
    "result[\"favorite_food\"].append(\"hamburger\")"
   ],
   "execution_count":24,
   "outputs":[],
   "metadata":{
    "datalore":{
     "node_id":"NzGqRsp4cRHDxIWa8UZd9j",
     "type":"CODE",
     "hide_input_from_viewers":true,
     "hide_output_from_viewers":true
    }
   }
  },
  {
   "cell_type":"code",
   "source":[
    "result[\"name\"] = \"John Wock\""
   ],
   "execution_count":25,
   "outputs":[],
   "metadata":{
    "datalore":{
     "node_id":"ZOV2Q7dszoCM5ljmX8Lt8B",
     "type":"CODE",
     "hide_input_from_viewers":true,
     "hide_output_from_viewers":true
    }
   }
  },
  {
   "cell_type":"code",
   "source":[
    "result[\"city\"] = \"New York\""
   ],
   "execution_count":26,
   "outputs":[],
   "metadata":{
    "datalore":{
     "node_id":"vswzSyQPoRTEcUoVQJwMF7",
     "type":"CODE",
     "hide_input_from_viewers":true,
     "hide_output_from_viewers":true
    }
   }
  },
  {
   "cell_type":"code",
   "source":[
    "result"
   ],
   "execution_count":27,
   "outputs":[
    {
     "data":{
      "text\/plain":[
       "{'id': 1,\n",
       " 'name': 'John Wock',\n",
       " 'favorite_food': ['coke', 'pizza', 'hamburger'],\n",
       " 'city': 'New York'}"
      ]
     },
     "metadata":{},
     "output_type":"display_data"
    }
   ],
   "metadata":{
    "datalore":{
     "node_id":"qMCs9Jatjwv0ksVrDhiT0t",
     "type":"CODE",
     "hide_input_from_viewers":true,
     "hide_output_from_viewers":true
    }
   }
  },
  {
   "cell_type":"markdown",
   "source":[
    "### Write json file by context manager"
   ],
   "attachments":{},
   "metadata":{
    "datalore":{
     "node_id":"0XEpKBIybY5Ux8gVTR8h8o",
     "type":"MD",
     "hide_input_from_viewers":true,
     "hide_output_from_viewers":true
    }
   }
  },
  {
   "cell_type":"code",
   "source":[
    "from json import load, dump\n",
    "\n",
    "# dump file (in json) = write file\n",
    "\n",
    "with open(\"JohnWick.json\", \"w\") as file:\n",
    "    result = json.dump(result, file, indent=6) # indent คือ ย่อหน้า\n",
    "    print(\"successfully dump a new json file.\")"
   ],
   "execution_count":28,
   "outputs":[
    {
     "name":"stdout",
     "text":[
      "successfully dump a new json file.\n"
     ],
     "output_type":"stream"
    }
   ],
   "metadata":{
    "datalore":{
     "node_id":"BQXsjBaij7nvOAGXAR3GbG",
     "type":"CODE",
     "hide_input_from_viewers":true,
     "hide_output_from_viewers":true
    }
   }
  },
  {
   "cell_type":"code",
   "source":[
    "!cat JohnWick.json"
   ],
   "execution_count":29,
   "outputs":[
    {
     "name":"stdout",
     "text":[
      "{\r\n",
      "      \"id\": 1,\r\n",
      "      \"name\": \"John Wock\",\r\n",
      "      \"favorite_food\": [\r\n",
      "            \"coke\",\r\n",
      "            \"pizza\",\r\n",
      "            \"hamburger\"\r\n",
      "      ],\r\n",
      "      \"city\": \"New York\"\r\n",
      "}"
     ],
     "output_type":"stream"
    }
   ],
   "metadata":{
    "datalore":{
     "node_id":"mrWTE4hDzIAUWQmAtwY8f2",
     "type":"CODE",
     "hide_input_from_viewers":true,
     "hide_output_from_viewers":true
    }
   }
  },
  {
   "cell_type":"markdown",
   "source":[
    "# Numpy and Pandas\n",
    "\n",
    "numerical python \n",
    "\n",
    "pandas dataframe"
   ],
   "attachments":{},
   "metadata":{
    "datalore":{
     "node_id":"CfjzhkQ2va2zeb1gAOkHOP",
     "type":"MD",
     "hide_input_from_viewers":true,
     "hide_output_from_viewers":true
    }
   }
  },
  {
   "cell_type":"code",
   "source":[
    "import numpy as np\n",
    "import pandas as pd"
   ],
   "execution_count":30,
   "outputs":[],
   "metadata":{
    "datalore":{
     "node_id":"2eRZk1ygKWmM3LBLm7g8hE",
     "type":"CODE",
     "hide_input_from_viewers":true,
     "hide_output_from_viewers":true
    }
   }
  },
  {
   "cell_type":"code",
   "source":[
    "## numpy array\n",
    "nums = [1,20,25,30,100] #vector c(1,20,25,30,100)\n",
    "arr_nums = np.array(nums)\n",
    "arr_nums"
   ],
   "execution_count":31,
   "outputs":[
    {
     "data":{
      "text\/html":[
       "<pre>array([  1,  20,  25,  30, 100])<\/pre>"
      ]
     },
     "metadata":{},
     "output_type":"display_data"
    }
   ],
   "metadata":{
    "datalore":{
     "node_id":"jPj7meyn5inb8CLmPEmnPq",
     "type":"CODE",
     "hide_input_from_viewers":true,
     "hide_output_from_viewers":true
    }
   }
  },
  {
   "cell_type":"code",
   "source":[
    "print(\n",
    "    np.sum(arr_nums),\n",
    "    np.mean(arr_nums),\n",
    "    np.median(arr_nums),\n",
    "    np.min(arr_nums),\n",
    "    np.max(arr_nums),\n",
    "    np.std(arr_nums),\n",
    ")\n",
    "     "
   ],
   "execution_count":32,
   "outputs":[
    {
     "name":"stdout",
     "text":[
      "176 35.2 25.0 1 100 33.85498486190771\n"
     ],
     "output_type":"stream"
    }
   ],
   "metadata":{
    "datalore":{
     "node_id":"sp7chCoCR3ZLDoje35DOhj",
     "type":"CODE",
     "hide_input_from_viewers":true,
     "hide_output_from_viewers":true
    }
   }
  },
  {
   "cell_type":"code",
   "source":[
    "m1 = np.array([\n",
    "    [1,2],\n",
    "    [3,4]\n",
    "])\n",
    "m1"
   ],
   "execution_count":33,
   "outputs":[
    {
     "data":{
      "text\/html":[
       "<pre>array([[1, 2],\n",
       "       [3, 4]])<\/pre>"
      ]
     },
     "metadata":{},
     "output_type":"display_data"
    }
   ],
   "metadata":{
    "datalore":{
     "node_id":"iAC7Qiz24sB0C6XW7SJrw4",
     "type":"CODE",
     "hide_input_from_viewers":true,
     "hide_output_from_viewers":true
    }
   }
  },
  {
   "cell_type":"code",
   "source":[
    "# Broadcasting\n",
    "m1 + 100"
   ],
   "execution_count":34,
   "outputs":[
    {
     "data":{
      "text\/html":[
       "<pre>array([[101, 102],\n",
       "       [103, 104]])<\/pre>"
      ]
     },
     "metadata":{},
     "output_type":"display_data"
    }
   ],
   "metadata":{
    "datalore":{
     "node_id":"al61QJQTeRF9uqQ3tTJwwv",
     "type":"CODE",
     "hide_input_from_viewers":true,
     "hide_output_from_viewers":true
    }
   }
  },
  {
   "cell_type":"code",
   "source":[
    "# element wise computation\n",
    "m1 + m1"
   ],
   "execution_count":35,
   "outputs":[
    {
     "data":{
      "text\/html":[
       "<pre>array([[2, 4],\n",
       "       [6, 8]])<\/pre>"
      ]
     },
     "metadata":{},
     "output_type":"display_data"
    }
   ],
   "metadata":{
    "datalore":{
     "node_id":"qelJh6rGmsrQsK068jvxkN",
     "type":"CODE",
     "hide_input_from_viewers":true,
     "hide_output_from_viewers":true
    }
   }
  },
  {
   "cell_type":"code",
   "source":[
    "\n",
    "np.ones((3,3))"
   ],
   "execution_count":36,
   "outputs":[
    {
     "data":{
      "text\/html":[
       "<pre>array([[1., 1., 1.],\n",
       "       [1., 1., 1.],\n",
       "       [1., 1., 1.]])<\/pre>"
      ]
     },
     "metadata":{},
     "output_type":"display_data"
    }
   ],
   "metadata":{
    "datalore":{
     "node_id":"FMOuPxmhXnpPqqTc1dICpF",
     "type":"CODE",
     "hide_input_from_viewers":true,
     "hide_output_from_viewers":true
    }
   }
  },
  {
   "cell_type":"code",
   "source":[
    "np.zeros((3,3))"
   ],
   "execution_count":37,
   "outputs":[
    {
     "data":{
      "text\/html":[
       "<pre>array([[0., 0., 0.],\n",
       "       [0., 0., 0.],\n",
       "       [0., 0., 0.]])<\/pre>"
      ]
     },
     "metadata":{},
     "output_type":"display_data"
    }
   ],
   "metadata":{
    "datalore":{
     "node_id":"E7nofEdVAUV3nZa3R74jbc",
     "type":"CODE",
     "hide_input_from_viewers":true,
     "hide_output_from_viewers":true
    }
   }
  },
  {
   "cell_type":"code",
   "source":[
    "np.arange(1,101,1)"
   ],
   "execution_count":38,
   "outputs":[
    {
     "data":{
      "text\/html":[
       "<pre>array([  1,   2,   3,   4,   5,   6,   7,   8,   9,  10,  11,  12,  13,\n",
       "        14,  15,  16,  17,  18,  19,  20,  21,  22,  23,  24,  25,  26,\n",
       "        27,  28,  29,  30,  31,  32,  33,  34,  35,  36,  37,  38,  39,\n",
       "        40,  41,  42,  43,  44,  45,  46,  47,  48,  49,  50,  51,  52,\n",
       "        53,  54,  55,  56,  57,  58,  59,  60,  61,  62,  63,  64,  65,\n",
       "        66,  67,  68,  69,  70,  71,  72,  73,  74,  75,  76,  77,  78,\n",
       "        79,  80,  81,  82,  83,  84,  85,  86,  87,  88,  89,  90,  91,\n",
       "        92,  93,  94,  95,  96,  97,  98,  99, 100])<\/pre>"
      ]
     },
     "metadata":{},
     "output_type":"display_data"
    }
   ],
   "metadata":{
    "datalore":{
     "node_id":"aRpa2ZrsiLccA712gWkiwh",
     "type":"CODE",
     "hide_input_from_viewers":true,
     "hide_output_from_viewers":true
    }
   }
  },
  {
   "cell_type":"code",
   "source":[
    "np.linspace(1, 101, 5)"
   ],
   "execution_count":39,
   "outputs":[
    {
     "data":{
      "text\/html":[
       "<pre>array([  1.,  26.,  51.,  76., 101.])<\/pre>"
      ]
     },
     "metadata":{},
     "output_type":"display_data"
    }
   ],
   "metadata":{
    "datalore":{
     "node_id":"z9TYDM9vFAeSfe45ktRzNr",
     "type":"CODE",
     "hide_input_from_viewers":true,
     "hide_output_from_viewers":true
    }
   }
  },
  {
   "cell_type":"code",
   "source":[
    "## matrix dot notation\n",
    "m1 = np.array([\n",
    "    [1,2],\n",
    "    [3,4]\n",
    "])\n",
    "\n",
    "m2 = np.array([\n",
    "    [5,5],\n",
    "    [3,2]\n",
    "])"
   ],
   "execution_count":42,
   "outputs":[],
   "metadata":{
    "datalore":{
     "node_id":"X2ON2MGeWSB64MLeN2i3Xe",
     "type":"CODE",
     "hide_input_from_viewers":true,
     "hide_output_from_viewers":true
    }
   }
  },
  {
   "cell_type":"code",
   "source":[
    "np.dot(m1, m2)"
   ],
   "execution_count":43,
   "outputs":[
    {
     "data":{
      "text\/html":[
       "<pre>array([[11,  9],\n",
       "       [27, 23]])<\/pre>"
      ]
     },
     "metadata":{},
     "output_type":"display_data"
    }
   ],
   "metadata":{
    "datalore":{
     "node_id":"Zk0FRp84PNktpumvqq7Rkc",
     "type":"CODE",
     "hide_input_from_viewers":true,
     "hide_output_from_viewers":true
    }
   }
  },
  {
   "cell_type":"code",
   "source":[
    "np.dot(m2, m1)"
   ],
   "execution_count":44,
   "outputs":[
    {
     "data":{
      "text\/html":[
       "<pre>array([[20, 30],\n",
       "       [ 9, 14]])<\/pre>"
      ]
     },
     "metadata":{},
     "output_type":"display_data"
    }
   ],
   "metadata":{
    "datalore":{
     "node_id":"VnZsnqLVSlLrkGeGc0eH2P",
     "type":"CODE",
     "hide_input_from_viewers":true,
     "hide_output_from_viewers":true
    }
   }
  },
  {
   "cell_type":"markdown",
   "source":[
    "# Pandas"
   ],
   "attachments":{},
   "metadata":{
    "datalore":{
     "node_id":"F5tXhKGHYPcKHyAg8uOggL",
     "type":"MD",
     "hide_input_from_viewers":true,
     "hide_output_from_viewers":true
    }
   }
  },
  {
   "cell_type":"code",
   "source":[
    "import pandas as pd\n",
    "## create dataframe from scratch\n",
    "data = {\n",
    "    \"id\": [1,2,3],\n",
    "    \"name\": [\"toy\", \"anna\", \"jessica\"],\n",
    "    \"city\": [\"BKK\", \"JPN\", \"LON\"]\n",
    "}\n",
    "\n",
    "df = pd.DataFrame(data)"
   ],
   "execution_count":45,
   "outputs":[],
   "metadata":{
    "datalore":{
     "node_id":"Rcoqxz3UmLv5zBxKifUe56",
     "type":"CODE",
     "hide_input_from_viewers":true,
     "hide_output_from_viewers":true
    }
   }
  },
  {
   "cell_type":"code",
   "source":[
    "df"
   ],
   "execution_count":46,
   "outputs":[
    {
     "data":{
      "text\/html":[
       "<div>\n",
       "<style scoped>\n",
       "    .dataframe tbody tr th:only-of-type {\n",
       "        vertical-align: middle;\n",
       "    }\n",
       "\n",
       "    .dataframe tbody tr th {\n",
       "        vertical-align: top;\n",
       "    }\n",
       "\n",
       "    .dataframe thead th {\n",
       "        text-align: right;\n",
       "    }\n",
       "<\/style>\n",
       "<table border=\"1\" class=\"dataframe\">\n",
       "  <thead>\n",
       "    <tr style=\"text-align: right;\">\n",
       "      <th><\/th>\n",
       "      <th>id<\/th>\n",
       "      <th>name<\/th>\n",
       "      <th>city<\/th>\n",
       "    <\/tr>\n",
       "  <\/thead>\n",
       "  <tbody>\n",
       "    <tr>\n",
       "      <th>0<\/th>\n",
       "      <td>1<\/td>\n",
       "      <td>toy<\/td>\n",
       "      <td>BKK<\/td>\n",
       "    <\/tr>\n",
       "    <tr>\n",
       "      <th>1<\/th>\n",
       "      <td>2<\/td>\n",
       "      <td>anna<\/td>\n",
       "      <td>JPN<\/td>\n",
       "    <\/tr>\n",
       "    <tr>\n",
       "      <th>2<\/th>\n",
       "      <td>3<\/td>\n",
       "      <td>jessica<\/td>\n",
       "      <td>LON<\/td>\n",
       "    <\/tr>\n",
       "  <\/tbody>\n",
       "<\/table>\n",
       "<\/div>"
      ]
     },
     "metadata":{},
     "output_type":"display_data"
    }
   ],
   "metadata":{
    "datalore":{
     "node_id":"eJtL8GOgoX5vWMg9TUDewV",
     "type":"CODE",
     "hide_input_from_viewers":true,
     "hide_output_from_viewers":true
    }
   }
  },
  {
   "cell_type":"code",
   "source":[
    "# add a new column\n",
    "df[\"age\"] = [35,28,29]\n",
    "df"
   ],
   "execution_count":47,
   "outputs":[
    {
     "data":{
      "text\/html":[
       "<div>\n",
       "<style scoped>\n",
       "    .dataframe tbody tr th:only-of-type {\n",
       "        vertical-align: middle;\n",
       "    }\n",
       "\n",
       "    .dataframe tbody tr th {\n",
       "        vertical-align: top;\n",
       "    }\n",
       "\n",
       "    .dataframe thead th {\n",
       "        text-align: right;\n",
       "    }\n",
       "<\/style>\n",
       "<table border=\"1\" class=\"dataframe\">\n",
       "  <thead>\n",
       "    <tr style=\"text-align: right;\">\n",
       "      <th><\/th>\n",
       "      <th>id<\/th>\n",
       "      <th>name<\/th>\n",
       "      <th>city<\/th>\n",
       "      <th>age<\/th>\n",
       "    <\/tr>\n",
       "  <\/thead>\n",
       "  <tbody>\n",
       "    <tr>\n",
       "      <th>0<\/th>\n",
       "      <td>1<\/td>\n",
       "      <td>toy<\/td>\n",
       "      <td>BKK<\/td>\n",
       "      <td>35<\/td>\n",
       "    <\/tr>\n",
       "    <tr>\n",
       "      <th>1<\/th>\n",
       "      <td>2<\/td>\n",
       "      <td>anna<\/td>\n",
       "      <td>JPN<\/td>\n",
       "      <td>28<\/td>\n",
       "    <\/tr>\n",
       "    <tr>\n",
       "      <th>2<\/th>\n",
       "      <td>3<\/td>\n",
       "      <td>jessica<\/td>\n",
       "      <td>LON<\/td>\n",
       "      <td>29<\/td>\n",
       "    <\/tr>\n",
       "  <\/tbody>\n",
       "<\/table>\n",
       "<\/div>"
      ]
     },
     "metadata":{},
     "output_type":"display_data"
    }
   ],
   "metadata":{
    "datalore":{
     "node_id":"j7ukWzLqJ3dyIFjeo3QZYM",
     "type":"CODE",
     "hide_input_from_viewers":true,
     "hide_output_from_viewers":true
    }
   }
  },
  {
   "cell_type":"code",
   "source":[
    "df.drop(\"age\", axis=\"columns\")"
   ],
   "execution_count":48,
   "outputs":[
    {
     "data":{
      "text\/html":[
       "<div>\n",
       "<style scoped>\n",
       "    .dataframe tbody tr th:only-of-type {\n",
       "        vertical-align: middle;\n",
       "    }\n",
       "\n",
       "    .dataframe tbody tr th {\n",
       "        vertical-align: top;\n",
       "    }\n",
       "\n",
       "    .dataframe thead th {\n",
       "        text-align: right;\n",
       "    }\n",
       "<\/style>\n",
       "<table border=\"1\" class=\"dataframe\">\n",
       "  <thead>\n",
       "    <tr style=\"text-align: right;\">\n",
       "      <th><\/th>\n",
       "      <th>id<\/th>\n",
       "      <th>name<\/th>\n",
       "      <th>city<\/th>\n",
       "    <\/tr>\n",
       "  <\/thead>\n",
       "  <tbody>\n",
       "    <tr>\n",
       "      <th>0<\/th>\n",
       "      <td>1<\/td>\n",
       "      <td>toy<\/td>\n",
       "      <td>BKK<\/td>\n",
       "    <\/tr>\n",
       "    <tr>\n",
       "      <th>1<\/th>\n",
       "      <td>2<\/td>\n",
       "      <td>anna<\/td>\n",
       "      <td>JPN<\/td>\n",
       "    <\/tr>\n",
       "    <tr>\n",
       "      <th>2<\/th>\n",
       "      <td>3<\/td>\n",
       "      <td>jessica<\/td>\n",
       "      <td>LON<\/td>\n",
       "    <\/tr>\n",
       "  <\/tbody>\n",
       "<\/table>\n",
       "<\/div>"
      ]
     },
     "metadata":{},
     "output_type":"display_data"
    }
   ],
   "metadata":{
    "datalore":{
     "node_id":"yBqSElU9kDR6ofOntqzBXm",
     "type":"CODE",
     "hide_input_from_viewers":true,
     "hide_output_from_viewers":true
    }
   }
  },
  {
   "cell_type":"code",
   "source":[
    "# read csv file from pandas\n",
    "df = pd.read_csv(\"store.csv\")\n",
    "df"
   ],
   "execution_count":50,
   "outputs":[
    {
     "data":{
      "text\/html":[
       "<div>\n",
       "<style scoped>\n",
       "    .dataframe tbody tr th:only-of-type {\n",
       "        vertical-align: middle;\n",
       "    }\n",
       "\n",
       "    .dataframe tbody tr th {\n",
       "        vertical-align: top;\n",
       "    }\n",
       "\n",
       "    .dataframe thead th {\n",
       "        text-align: right;\n",
       "    }\n",
       "<\/style>\n",
       "<table border=\"1\" class=\"dataframe\">\n",
       "  <thead>\n",
       "    <tr style=\"text-align: right;\">\n",
       "      <th><\/th>\n",
       "      <th>Row ID<\/th>\n",
       "      <th>Order ID<\/th>\n",
       "      <th>Order Date<\/th>\n",
       "      <th>Ship Date<\/th>\n",
       "      <th>Ship Mode<\/th>\n",
       "      <th>Customer ID<\/th>\n",
       "      <th>Customer Name<\/th>\n",
       "      <th>Segment<\/th>\n",
       "      <th>Country<\/th>\n",
       "      <th>City<\/th>\n",
       "      <th>...<\/th>\n",
       "      <th>Postal Code<\/th>\n",
       "      <th>Region<\/th>\n",
       "      <th>Product ID<\/th>\n",
       "      <th>Category<\/th>\n",
       "      <th>Sub-Category<\/th>\n",
       "      <th>Product Name<\/th>\n",
       "      <th>Sales<\/th>\n",
       "      <th>Quantity<\/th>\n",
       "      <th>Discount<\/th>\n",
       "      <th>Profit<\/th>\n",
       "    <\/tr>\n",
       "  <\/thead>\n",
       "  <tbody>\n",
       "    <tr>\n",
       "      <th>0<\/th>\n",
       "      <td>1<\/td>\n",
       "      <td>CA-2016-152156<\/td>\n",
       "      <td>2016-11-08<\/td>\n",
       "      <td>2016-11-11<\/td>\n",
       "      <td>Second Class<\/td>\n",
       "      <td>CG-12520<\/td>\n",
       "      <td>Claire Gute<\/td>\n",
       "      <td>Consumer<\/td>\n",
       "      <td>United States<\/td>\n",
       "      <td>Henderson<\/td>\n",
       "      <td>...<\/td>\n",
       "      <td>42420<\/td>\n",
       "      <td>South<\/td>\n",
       "      <td>FUR-BO-10001798<\/td>\n",
       "      <td>Furniture<\/td>\n",
       "      <td>Bookcases<\/td>\n",
       "      <td>Bush Somerset Collection Bookcase<\/td>\n",
       "      <td>261.9600<\/td>\n",
       "      <td>2<\/td>\n",
       "      <td>0.00<\/td>\n",
       "      <td>41.9136<\/td>\n",
       "    <\/tr>\n",
       "    <tr>\n",
       "      <th>1<\/th>\n",
       "      <td>2<\/td>\n",
       "      <td>CA-2016-152156<\/td>\n",
       "      <td>2016-11-08<\/td>\n",
       "      <td>2016-11-11<\/td>\n",
       "      <td>Second Class<\/td>\n",
       "      <td>CG-12520<\/td>\n",
       "      <td>Claire Gute<\/td>\n",
       "      <td>Consumer<\/td>\n",
       "      <td>United States<\/td>\n",
       "      <td>Henderson<\/td>\n",
       "      <td>...<\/td>\n",
       "      <td>42420<\/td>\n",
       "      <td>South<\/td>\n",
       "      <td>FUR-CH-10000454<\/td>\n",
       "      <td>Furniture<\/td>\n",
       "      <td>Chairs<\/td>\n",
       "      <td>Hon Deluxe Fabric Upholstered Stacking Chairs,...<\/td>\n",
       "      <td>731.9400<\/td>\n",
       "      <td>3<\/td>\n",
       "      <td>0.00<\/td>\n",
       "      <td>219.5820<\/td>\n",
       "    <\/tr>\n",
       "    <tr>\n",
       "      <th>2<\/th>\n",
       "      <td>3<\/td>\n",
       "      <td>CA-2016-138688<\/td>\n",
       "      <td>2016-06-12<\/td>\n",
       "      <td>2016-06-16<\/td>\n",
       "      <td>Second Class<\/td>\n",
       "      <td>DV-13045<\/td>\n",
       "      <td>Darrin Van Huff<\/td>\n",
       "      <td>Corporate<\/td>\n",
       "      <td>United States<\/td>\n",
       "      <td>Los Angeles<\/td>\n",
       "      <td>...<\/td>\n",
       "      <td>90036<\/td>\n",
       "      <td>West<\/td>\n",
       "      <td>OFF-LA-10000240<\/td>\n",
       "      <td>Office Supplies<\/td>\n",
       "      <td>Labels<\/td>\n",
       "      <td>Self-Adhesive Address Labels for Typewriters b...<\/td>\n",
       "      <td>14.6200<\/td>\n",
       "      <td>2<\/td>\n",
       "      <td>0.00<\/td>\n",
       "      <td>6.8714<\/td>\n",
       "    <\/tr>\n",
       "    <tr>\n",
       "      <th>3<\/th>\n",
       "      <td>4<\/td>\n",
       "      <td>US-2015-108966<\/td>\n",
       "      <td>2015-10-11<\/td>\n",
       "      <td>2015-10-18<\/td>\n",
       "      <td>Standard Class<\/td>\n",
       "      <td>SO-20335<\/td>\n",
       "      <td>Sean O'Donnell<\/td>\n",
       "      <td>Consumer<\/td>\n",
       "      <td>United States<\/td>\n",
       "      <td>Fort Lauderdale<\/td>\n",
       "      <td>...<\/td>\n",
       "      <td>33311<\/td>\n",
       "      <td>South<\/td>\n",
       "      <td>FUR-TA-10000577<\/td>\n",
       "      <td>Furniture<\/td>\n",
       "      <td>Tables<\/td>\n",
       "      <td>Bretford CR4500 Series Slim Rectangular Table<\/td>\n",
       "      <td>957.5775<\/td>\n",
       "      <td>5<\/td>\n",
       "      <td>0.45<\/td>\n",
       "      <td>-383.0310<\/td>\n",
       "    <\/tr>\n",
       "    <tr>\n",
       "      <th>4<\/th>\n",
       "      <td>5<\/td>\n",
       "      <td>US-2015-108966<\/td>\n",
       "      <td>2015-10-11<\/td>\n",
       "      <td>2015-10-18<\/td>\n",
       "      <td>Standard Class<\/td>\n",
       "      <td>SO-20335<\/td>\n",
       "      <td>Sean O'Donnell<\/td>\n",
       "      <td>Consumer<\/td>\n",
       "      <td>United States<\/td>\n",
       "      <td>Fort Lauderdale<\/td>\n",
       "      <td>...<\/td>\n",
       "      <td>33311<\/td>\n",
       "      <td>South<\/td>\n",
       "      <td>OFF-ST-10000760<\/td>\n",
       "      <td>Office Supplies<\/td>\n",
       "      <td>Storage<\/td>\n",
       "      <td>Eldon Fold 'N Roll Cart System<\/td>\n",
       "      <td>22.3680<\/td>\n",
       "      <td>2<\/td>\n",
       "      <td>0.20<\/td>\n",
       "      <td>2.5164<\/td>\n",
       "    <\/tr>\n",
       "    <tr>\n",
       "      <th>...<\/th>\n",
       "      <td>...<\/td>\n",
       "      <td>...<\/td>\n",
       "      <td>...<\/td>\n",
       "      <td>...<\/td>\n",
       "      <td>...<\/td>\n",
       "      <td>...<\/td>\n",
       "      <td>...<\/td>\n",
       "      <td>...<\/td>\n",
       "      <td>...<\/td>\n",
       "      <td>...<\/td>\n",
       "      <td>...<\/td>\n",
       "      <td>...<\/td>\n",
       "      <td>...<\/td>\n",
       "      <td>...<\/td>\n",
       "      <td>...<\/td>\n",
       "      <td>...<\/td>\n",
       "      <td>...<\/td>\n",
       "      <td>...<\/td>\n",
       "      <td>...<\/td>\n",
       "      <td>...<\/td>\n",
       "      <td>...<\/td>\n",
       "    <\/tr>\n",
       "    <tr>\n",
       "      <th>9989<\/th>\n",
       "      <td>9990<\/td>\n",
       "      <td>CA-2014-110422<\/td>\n",
       "      <td>2014-01-21<\/td>\n",
       "      <td>2014-01-23<\/td>\n",
       "      <td>Second Class<\/td>\n",
       "      <td>TB-21400<\/td>\n",
       "      <td>Tom Boeckenhauer<\/td>\n",
       "      <td>Consumer<\/td>\n",
       "      <td>United States<\/td>\n",
       "      <td>Miami<\/td>\n",
       "      <td>...<\/td>\n",
       "      <td>33180<\/td>\n",
       "      <td>South<\/td>\n",
       "      <td>FUR-FU-10001889<\/td>\n",
       "      <td>Furniture<\/td>\n",
       "      <td>Furnishings<\/td>\n",
       "      <td>Ultra Door Pull Handle<\/td>\n",
       "      <td>25.2480<\/td>\n",
       "      <td>3<\/td>\n",
       "      <td>0.20<\/td>\n",
       "      <td>4.1028<\/td>\n",
       "    <\/tr>\n",
       "    <tr>\n",
       "      <th>9990<\/th>\n",
       "      <td>9991<\/td>\n",
       "      <td>CA-2017-121258<\/td>\n",
       "      <td>2017-02-26<\/td>\n",
       "      <td>2017-03-03<\/td>\n",
       "      <td>Standard Class<\/td>\n",
       "      <td>DB-13060<\/td>\n",
       "      <td>Dave Brooks<\/td>\n",
       "      <td>Consumer<\/td>\n",
       "      <td>United States<\/td>\n",
       "      <td>Costa Mesa<\/td>\n",
       "      <td>...<\/td>\n",
       "      <td>92627<\/td>\n",
       "      <td>West<\/td>\n",
       "      <td>FUR-FU-10000747<\/td>\n",
       "      <td>Furniture<\/td>\n",
       "      <td>Furnishings<\/td>\n",
       "      <td>Tenex B1-RE Series Chair Mats for Low Pile Car...<\/td>\n",
       "      <td>91.9600<\/td>\n",
       "      <td>2<\/td>\n",
       "      <td>0.00<\/td>\n",
       "      <td>15.6332<\/td>\n",
       "    <\/tr>\n",
       "    <tr>\n",
       "      <th>9991<\/th>\n",
       "      <td>9992<\/td>\n",
       "      <td>CA-2017-121258<\/td>\n",
       "      <td>2017-02-26<\/td>\n",
       "      <td>2017-03-03<\/td>\n",
       "      <td>Standard Class<\/td>\n",
       "      <td>DB-13060<\/td>\n",
       "      <td>Dave Brooks<\/td>\n",
       "      <td>Consumer<\/td>\n",
       "      <td>United States<\/td>\n",
       "      <td>Costa Mesa<\/td>\n",
       "      <td>...<\/td>\n",
       "      <td>92627<\/td>\n",
       "      <td>West<\/td>\n",
       "      <td>TEC-PH-10003645<\/td>\n",
       "      <td>Technology<\/td>\n",
       "      <td>Phones<\/td>\n",
       "      <td>Aastra 57i VoIP phone<\/td>\n",
       "      <td>258.5760<\/td>\n",
       "      <td>2<\/td>\n",
       "      <td>0.20<\/td>\n",
       "      <td>19.3932<\/td>\n",
       "    <\/tr>\n",
       "    <tr>\n",
       "      <th>9992<\/th>\n",
       "      <td>9993<\/td>\n",
       "      <td>CA-2017-121258<\/td>\n",
       "      <td>2017-02-26<\/td>\n",
       "      <td>2017-03-03<\/td>\n",
       "      <td>Standard Class<\/td>\n",
       "      <td>DB-13060<\/td>\n",
       "      <td>Dave Brooks<\/td>\n",
       "      <td>Consumer<\/td>\n",
       "      <td>United States<\/td>\n",
       "      <td>Costa Mesa<\/td>\n",
       "      <td>...<\/td>\n",
       "      <td>92627<\/td>\n",
       "      <td>West<\/td>\n",
       "      <td>OFF-PA-10004041<\/td>\n",
       "      <td>Office Supplies<\/td>\n",
       "      <td>Paper<\/td>\n",
       "      <td>It's Hot Message Books with Stickers, 2 3\/4\" x 5\"<\/td>\n",
       "      <td>29.6000<\/td>\n",
       "      <td>4<\/td>\n",
       "      <td>0.00<\/td>\n",
       "      <td>13.3200<\/td>\n",
       "    <\/tr>\n",
       "    <tr>\n",
       "      <th>9993<\/th>\n",
       "      <td>9994<\/td>\n",
       "      <td>CA-2017-119914<\/td>\n",
       "      <td>2017-05-04<\/td>\n",
       "      <td>2017-05-09<\/td>\n",
       "      <td>Second Class<\/td>\n",
       "      <td>CC-12220<\/td>\n",
       "      <td>Chris Cortes<\/td>\n",
       "      <td>Consumer<\/td>\n",
       "      <td>United States<\/td>\n",
       "      <td>Westminster<\/td>\n",
       "      <td>...<\/td>\n",
       "      <td>92683<\/td>\n",
       "      <td>West<\/td>\n",
       "      <td>OFF-AP-10002684<\/td>\n",
       "      <td>Office Supplies<\/td>\n",
       "      <td>Appliances<\/td>\n",
       "      <td>Acco 7-Outlet Masterpiece Power Center, Wihtou...<\/td>\n",
       "      <td>243.1600<\/td>\n",
       "      <td>2<\/td>\n",
       "      <td>0.00<\/td>\n",
       "      <td>72.9480<\/td>\n",
       "    <\/tr>\n",
       "  <\/tbody>\n",
       "<\/table>\n",
       "<p>9994 rows × 21 columns<\/p>\n",
       "<\/div>"
      ]
     },
     "metadata":{},
     "output_type":"display_data"
    }
   ],
   "metadata":{
    "datalore":{
     "node_id":"M8KSHCIXLXyIcE0BamnEL1",
     "type":"CODE",
     "hide_input_from_viewers":true,
     "hide_output_from_viewers":true
    }
   }
  },
  {
   "cell_type":"code",
   "source":[
    "df.head()"
   ],
   "execution_count":51,
   "outputs":[
    {
     "data":{
      "text\/html":[
       "<div>\n",
       "<style scoped>\n",
       "    .dataframe tbody tr th:only-of-type {\n",
       "        vertical-align: middle;\n",
       "    }\n",
       "\n",
       "    .dataframe tbody tr th {\n",
       "        vertical-align: top;\n",
       "    }\n",
       "\n",
       "    .dataframe thead th {\n",
       "        text-align: right;\n",
       "    }\n",
       "<\/style>\n",
       "<table border=\"1\" class=\"dataframe\">\n",
       "  <thead>\n",
       "    <tr style=\"text-align: right;\">\n",
       "      <th><\/th>\n",
       "      <th>Row ID<\/th>\n",
       "      <th>Order ID<\/th>\n",
       "      <th>Order Date<\/th>\n",
       "      <th>Ship Date<\/th>\n",
       "      <th>Ship Mode<\/th>\n",
       "      <th>Customer ID<\/th>\n",
       "      <th>Customer Name<\/th>\n",
       "      <th>Segment<\/th>\n",
       "      <th>Country<\/th>\n",
       "      <th>City<\/th>\n",
       "      <th>...<\/th>\n",
       "      <th>Postal Code<\/th>\n",
       "      <th>Region<\/th>\n",
       "      <th>Product ID<\/th>\n",
       "      <th>Category<\/th>\n",
       "      <th>Sub-Category<\/th>\n",
       "      <th>Product Name<\/th>\n",
       "      <th>Sales<\/th>\n",
       "      <th>Quantity<\/th>\n",
       "      <th>Discount<\/th>\n",
       "      <th>Profit<\/th>\n",
       "    <\/tr>\n",
       "  <\/thead>\n",
       "  <tbody>\n",
       "    <tr>\n",
       "      <th>0<\/th>\n",
       "      <td>1<\/td>\n",
       "      <td>CA-2016-152156<\/td>\n",
       "      <td>2016-11-08<\/td>\n",
       "      <td>2016-11-11<\/td>\n",
       "      <td>Second Class<\/td>\n",
       "      <td>CG-12520<\/td>\n",
       "      <td>Claire Gute<\/td>\n",
       "      <td>Consumer<\/td>\n",
       "      <td>United States<\/td>\n",
       "      <td>Henderson<\/td>\n",
       "      <td>...<\/td>\n",
       "      <td>42420<\/td>\n",
       "      <td>South<\/td>\n",
       "      <td>FUR-BO-10001798<\/td>\n",
       "      <td>Furniture<\/td>\n",
       "      <td>Bookcases<\/td>\n",
       "      <td>Bush Somerset Collection Bookcase<\/td>\n",
       "      <td>261.9600<\/td>\n",
       "      <td>2<\/td>\n",
       "      <td>0.00<\/td>\n",
       "      <td>41.9136<\/td>\n",
       "    <\/tr>\n",
       "    <tr>\n",
       "      <th>1<\/th>\n",
       "      <td>2<\/td>\n",
       "      <td>CA-2016-152156<\/td>\n",
       "      <td>2016-11-08<\/td>\n",
       "      <td>2016-11-11<\/td>\n",
       "      <td>Second Class<\/td>\n",
       "      <td>CG-12520<\/td>\n",
       "      <td>Claire Gute<\/td>\n",
       "      <td>Consumer<\/td>\n",
       "      <td>United States<\/td>\n",
       "      <td>Henderson<\/td>\n",
       "      <td>...<\/td>\n",
       "      <td>42420<\/td>\n",
       "      <td>South<\/td>\n",
       "      <td>FUR-CH-10000454<\/td>\n",
       "      <td>Furniture<\/td>\n",
       "      <td>Chairs<\/td>\n",
       "      <td>Hon Deluxe Fabric Upholstered Stacking Chairs,...<\/td>\n",
       "      <td>731.9400<\/td>\n",
       "      <td>3<\/td>\n",
       "      <td>0.00<\/td>\n",
       "      <td>219.5820<\/td>\n",
       "    <\/tr>\n",
       "    <tr>\n",
       "      <th>2<\/th>\n",
       "      <td>3<\/td>\n",
       "      <td>CA-2016-138688<\/td>\n",
       "      <td>2016-06-12<\/td>\n",
       "      <td>2016-06-16<\/td>\n",
       "      <td>Second Class<\/td>\n",
       "      <td>DV-13045<\/td>\n",
       "      <td>Darrin Van Huff<\/td>\n",
       "      <td>Corporate<\/td>\n",
       "      <td>United States<\/td>\n",
       "      <td>Los Angeles<\/td>\n",
       "      <td>...<\/td>\n",
       "      <td>90036<\/td>\n",
       "      <td>West<\/td>\n",
       "      <td>OFF-LA-10000240<\/td>\n",
       "      <td>Office Supplies<\/td>\n",
       "      <td>Labels<\/td>\n",
       "      <td>Self-Adhesive Address Labels for Typewriters b...<\/td>\n",
       "      <td>14.6200<\/td>\n",
       "      <td>2<\/td>\n",
       "      <td>0.00<\/td>\n",
       "      <td>6.8714<\/td>\n",
       "    <\/tr>\n",
       "    <tr>\n",
       "      <th>3<\/th>\n",
       "      <td>4<\/td>\n",
       "      <td>US-2015-108966<\/td>\n",
       "      <td>2015-10-11<\/td>\n",
       "      <td>2015-10-18<\/td>\n",
       "      <td>Standard Class<\/td>\n",
       "      <td>SO-20335<\/td>\n",
       "      <td>Sean O'Donnell<\/td>\n",
       "      <td>Consumer<\/td>\n",
       "      <td>United States<\/td>\n",
       "      <td>Fort Lauderdale<\/td>\n",
       "      <td>...<\/td>\n",
       "      <td>33311<\/td>\n",
       "      <td>South<\/td>\n",
       "      <td>FUR-TA-10000577<\/td>\n",
       "      <td>Furniture<\/td>\n",
       "      <td>Tables<\/td>\n",
       "      <td>Bretford CR4500 Series Slim Rectangular Table<\/td>\n",
       "      <td>957.5775<\/td>\n",
       "      <td>5<\/td>\n",
       "      <td>0.45<\/td>\n",
       "      <td>-383.0310<\/td>\n",
       "    <\/tr>\n",
       "    <tr>\n",
       "      <th>4<\/th>\n",
       "      <td>5<\/td>\n",
       "      <td>US-2015-108966<\/td>\n",
       "      <td>2015-10-11<\/td>\n",
       "      <td>2015-10-18<\/td>\n",
       "      <td>Standard Class<\/td>\n",
       "      <td>SO-20335<\/td>\n",
       "      <td>Sean O'Donnell<\/td>\n",
       "      <td>Consumer<\/td>\n",
       "      <td>United States<\/td>\n",
       "      <td>Fort Lauderdale<\/td>\n",
       "      <td>...<\/td>\n",
       "      <td>33311<\/td>\n",
       "      <td>South<\/td>\n",
       "      <td>OFF-ST-10000760<\/td>\n",
       "      <td>Office Supplies<\/td>\n",
       "      <td>Storage<\/td>\n",
       "      <td>Eldon Fold 'N Roll Cart System<\/td>\n",
       "      <td>22.3680<\/td>\n",
       "      <td>2<\/td>\n",
       "      <td>0.20<\/td>\n",
       "      <td>2.5164<\/td>\n",
       "    <\/tr>\n",
       "  <\/tbody>\n",
       "<\/table>\n",
       "<p>5 rows × 21 columns<\/p>\n",
       "<\/div>"
      ]
     },
     "metadata":{},
     "output_type":"display_data"
    }
   ],
   "metadata":{
    "datalore":{
     "node_id":"L1EL0rnSoBfcd5f8GMqSyZ",
     "type":"CODE",
     "hide_input_from_viewers":true,
     "hide_output_from_viewers":true
    }
   }
  },
  {
   "cell_type":"code",
   "source":[
    "df.tail()"
   ],
   "execution_count":52,
   "outputs":[
    {
     "data":{
      "text\/html":[
       "<div>\n",
       "<style scoped>\n",
       "    .dataframe tbody tr th:only-of-type {\n",
       "        vertical-align: middle;\n",
       "    }\n",
       "\n",
       "    .dataframe tbody tr th {\n",
       "        vertical-align: top;\n",
       "    }\n",
       "\n",
       "    .dataframe thead th {\n",
       "        text-align: right;\n",
       "    }\n",
       "<\/style>\n",
       "<table border=\"1\" class=\"dataframe\">\n",
       "  <thead>\n",
       "    <tr style=\"text-align: right;\">\n",
       "      <th><\/th>\n",
       "      <th>Row ID<\/th>\n",
       "      <th>Order ID<\/th>\n",
       "      <th>Order Date<\/th>\n",
       "      <th>Ship Date<\/th>\n",
       "      <th>Ship Mode<\/th>\n",
       "      <th>Customer ID<\/th>\n",
       "      <th>Customer Name<\/th>\n",
       "      <th>Segment<\/th>\n",
       "      <th>Country<\/th>\n",
       "      <th>City<\/th>\n",
       "      <th>...<\/th>\n",
       "      <th>Postal Code<\/th>\n",
       "      <th>Region<\/th>\n",
       "      <th>Product ID<\/th>\n",
       "      <th>Category<\/th>\n",
       "      <th>Sub-Category<\/th>\n",
       "      <th>Product Name<\/th>\n",
       "      <th>Sales<\/th>\n",
       "      <th>Quantity<\/th>\n",
       "      <th>Discount<\/th>\n",
       "      <th>Profit<\/th>\n",
       "    <\/tr>\n",
       "  <\/thead>\n",
       "  <tbody>\n",
       "    <tr>\n",
       "      <th>9989<\/th>\n",
       "      <td>9990<\/td>\n",
       "      <td>CA-2014-110422<\/td>\n",
       "      <td>2014-01-21<\/td>\n",
       "      <td>2014-01-23<\/td>\n",
       "      <td>Second Class<\/td>\n",
       "      <td>TB-21400<\/td>\n",
       "      <td>Tom Boeckenhauer<\/td>\n",
       "      <td>Consumer<\/td>\n",
       "      <td>United States<\/td>\n",
       "      <td>Miami<\/td>\n",
       "      <td>...<\/td>\n",
       "      <td>33180<\/td>\n",
       "      <td>South<\/td>\n",
       "      <td>FUR-FU-10001889<\/td>\n",
       "      <td>Furniture<\/td>\n",
       "      <td>Furnishings<\/td>\n",
       "      <td>Ultra Door Pull Handle<\/td>\n",
       "      <td>25.248<\/td>\n",
       "      <td>3<\/td>\n",
       "      <td>0.2<\/td>\n",
       "      <td>4.1028<\/td>\n",
       "    <\/tr>\n",
       "    <tr>\n",
       "      <th>9990<\/th>\n",
       "      <td>9991<\/td>\n",
       "      <td>CA-2017-121258<\/td>\n",
       "      <td>2017-02-26<\/td>\n",
       "      <td>2017-03-03<\/td>\n",
       "      <td>Standard Class<\/td>\n",
       "      <td>DB-13060<\/td>\n",
       "      <td>Dave Brooks<\/td>\n",
       "      <td>Consumer<\/td>\n",
       "      <td>United States<\/td>\n",
       "      <td>Costa Mesa<\/td>\n",
       "      <td>...<\/td>\n",
       "      <td>92627<\/td>\n",
       "      <td>West<\/td>\n",
       "      <td>FUR-FU-10000747<\/td>\n",
       "      <td>Furniture<\/td>\n",
       "      <td>Furnishings<\/td>\n",
       "      <td>Tenex B1-RE Series Chair Mats for Low Pile Car...<\/td>\n",
       "      <td>91.960<\/td>\n",
       "      <td>2<\/td>\n",
       "      <td>0.0<\/td>\n",
       "      <td>15.6332<\/td>\n",
       "    <\/tr>\n",
       "    <tr>\n",
       "      <th>9991<\/th>\n",
       "      <td>9992<\/td>\n",
       "      <td>CA-2017-121258<\/td>\n",
       "      <td>2017-02-26<\/td>\n",
       "      <td>2017-03-03<\/td>\n",
       "      <td>Standard Class<\/td>\n",
       "      <td>DB-13060<\/td>\n",
       "      <td>Dave Brooks<\/td>\n",
       "      <td>Consumer<\/td>\n",
       "      <td>United States<\/td>\n",
       "      <td>Costa Mesa<\/td>\n",
       "      <td>...<\/td>\n",
       "      <td>92627<\/td>\n",
       "      <td>West<\/td>\n",
       "      <td>TEC-PH-10003645<\/td>\n",
       "      <td>Technology<\/td>\n",
       "      <td>Phones<\/td>\n",
       "      <td>Aastra 57i VoIP phone<\/td>\n",
       "      <td>258.576<\/td>\n",
       "      <td>2<\/td>\n",
       "      <td>0.2<\/td>\n",
       "      <td>19.3932<\/td>\n",
       "    <\/tr>\n",
       "    <tr>\n",
       "      <th>9992<\/th>\n",
       "      <td>9993<\/td>\n",
       "      <td>CA-2017-121258<\/td>\n",
       "      <td>2017-02-26<\/td>\n",
       "      <td>2017-03-03<\/td>\n",
       "      <td>Standard Class<\/td>\n",
       "      <td>DB-13060<\/td>\n",
       "      <td>Dave Brooks<\/td>\n",
       "      <td>Consumer<\/td>\n",
       "      <td>United States<\/td>\n",
       "      <td>Costa Mesa<\/td>\n",
       "      <td>...<\/td>\n",
       "      <td>92627<\/td>\n",
       "      <td>West<\/td>\n",
       "      <td>OFF-PA-10004041<\/td>\n",
       "      <td>Office Supplies<\/td>\n",
       "      <td>Paper<\/td>\n",
       "      <td>It's Hot Message Books with Stickers, 2 3\/4\" x 5\"<\/td>\n",
       "      <td>29.600<\/td>\n",
       "      <td>4<\/td>\n",
       "      <td>0.0<\/td>\n",
       "      <td>13.3200<\/td>\n",
       "    <\/tr>\n",
       "    <tr>\n",
       "      <th>9993<\/th>\n",
       "      <td>9994<\/td>\n",
       "      <td>CA-2017-119914<\/td>\n",
       "      <td>2017-05-04<\/td>\n",
       "      <td>2017-05-09<\/td>\n",
       "      <td>Second Class<\/td>\n",
       "      <td>CC-12220<\/td>\n",
       "      <td>Chris Cortes<\/td>\n",
       "      <td>Consumer<\/td>\n",
       "      <td>United States<\/td>\n",
       "      <td>Westminster<\/td>\n",
       "      <td>...<\/td>\n",
       "      <td>92683<\/td>\n",
       "      <td>West<\/td>\n",
       "      <td>OFF-AP-10002684<\/td>\n",
       "      <td>Office Supplies<\/td>\n",
       "      <td>Appliances<\/td>\n",
       "      <td>Acco 7-Outlet Masterpiece Power Center, Wihtou...<\/td>\n",
       "      <td>243.160<\/td>\n",
       "      <td>2<\/td>\n",
       "      <td>0.0<\/td>\n",
       "      <td>72.9480<\/td>\n",
       "    <\/tr>\n",
       "  <\/tbody>\n",
       "<\/table>\n",
       "<p>5 rows × 21 columns<\/p>\n",
       "<\/div>"
      ]
     },
     "metadata":{},
     "output_type":"display_data"
    }
   ],
   "metadata":{
    "datalore":{
     "node_id":"WHwEYU3YL2hiASudmGqHTW",
     "type":"CODE",
     "hide_input_from_viewers":true,
     "hide_output_from_viewers":true
    }
   }
  },
  {
   "cell_type":"code",
   "source":[
    "df.columns"
   ],
   "execution_count":53,
   "outputs":[
    {
     "data":{
      "text\/plain":[
       "Index(['Row ID', 'Order ID', 'Order Date', 'Ship Date', 'Ship Mode',\n",
       "       'Customer ID', 'Customer Name', 'Segment', 'Country', 'City', 'State',\n",
       "       'Postal Code', 'Region', 'Product ID', 'Category', 'Sub-Category',\n",
       "       'Product Name', 'Sales', 'Quantity', 'Discount', 'Profit'],\n",
       "      dtype='object')"
      ]
     },
     "metadata":{},
     "output_type":"display_data"
    }
   ],
   "metadata":{
    "datalore":{
     "node_id":"MfAZXkYveYhho9LcQLxlg4",
     "type":"CODE",
     "hide_input_from_viewers":true,
     "hide_output_from_viewers":true
    }
   }
  },
  {
   "cell_type":"code",
   "source":[
    "df.shape"
   ],
   "execution_count":54,
   "outputs":[
    {
     "data":{
      "text\/plain":[
       "(9994, 21)"
      ]
     },
     "metadata":{},
     "output_type":"display_data"
    }
   ],
   "metadata":{
    "datalore":{
     "node_id":"RnhsyZE8hJBDJtFEMXAN9S",
     "type":"CODE",
     "hide_input_from_viewers":true,
     "hide_output_from_viewers":true
    }
   }
  },
  {
   "cell_type":"code",
   "source":[
    "df.info()"
   ],
   "execution_count":55,
   "outputs":[
    {
     "name":"stdout",
     "text":[
      "<class 'pandas.core.frame.DataFrame'>\n",
      "RangeIndex: 9994 entries, 0 to 9993\n",
      "Data columns (total 21 columns):\n",
      " #   Column         Non-Null Count  Dtype  \n",
      "---  ------         --------------  -----  \n",
      " 0   Row ID         9994 non-null   int64  \n",
      " 1   Order ID       9994 non-null   object \n",
      " 2   Order Date     9994 non-null   object \n",
      " 3   Ship Date      9994 non-null   object \n",
      " 4   Ship Mode      9994 non-null   object \n",
      " 5   Customer ID    9994 non-null   object \n",
      " 6   Customer Name  9994 non-null   object \n",
      " 7   Segment        9994 non-null   object \n",
      " 8   Country        9994 non-null   object \n",
      " 9   City           9994 non-null   object \n",
      " 10  State          9994 non-null   object \n",
      " 11  Postal Code    9994 non-null   int64  \n",
      " 12  Region         9994 non-null   object \n",
      " 13  Product ID     9994 non-null   object \n",
      " 14  Category       9994 non-null   object \n",
      " 15  Sub-Category   9994 non-null   object \n",
      " 16  Product Name   9994 non-null   object \n",
      " 17  Sales          9994 non-null   float64\n",
      " 18  Quantity       9994 non-null   int64  \n",
      " 19  Discount       9994 non-null   float64\n",
      " 20  Profit         9994 non-null   float64\n",
      "dtypes: float64(3), int64(3), object(15)\n",
      "memory usage: 1.6+ MB\n"
     ],
     "output_type":"stream"
    }
   ],
   "metadata":{
    "datalore":{
     "node_id":"YIR0JersXtq6LQsY5l1Ptf",
     "type":"CODE",
     "hide_input_from_viewers":true,
     "hide_output_from_viewers":true
    }
   }
  },
  {
   "cell_type":"code",
   "source":[
    "# clean dataframe column names\n",
    "col_names = list(df.columns)\n",
    "clean_col_names = [name.lower().replace(\" \", \"_\").replace(\"-\", \"_\")\n",
    "                   for name in col_names]\n",
    "\n",
    "# assign clean column names to dataframe\n",
    "df.columns = clean_col_names\n",
    "df.head()"
   ],
   "execution_count":56,
   "outputs":[
    {
     "data":{
      "text\/html":[
       "<div>\n",
       "<style scoped>\n",
       "    .dataframe tbody tr th:only-of-type {\n",
       "        vertical-align: middle;\n",
       "    }\n",
       "\n",
       "    .dataframe tbody tr th {\n",
       "        vertical-align: top;\n",
       "    }\n",
       "\n",
       "    .dataframe thead th {\n",
       "        text-align: right;\n",
       "    }\n",
       "<\/style>\n",
       "<table border=\"1\" class=\"dataframe\">\n",
       "  <thead>\n",
       "    <tr style=\"text-align: right;\">\n",
       "      <th><\/th>\n",
       "      <th>row_id<\/th>\n",
       "      <th>order_id<\/th>\n",
       "      <th>order_date<\/th>\n",
       "      <th>ship_date<\/th>\n",
       "      <th>ship_mode<\/th>\n",
       "      <th>customer_id<\/th>\n",
       "      <th>customer_name<\/th>\n",
       "      <th>segment<\/th>\n",
       "      <th>country<\/th>\n",
       "      <th>city<\/th>\n",
       "      <th>...<\/th>\n",
       "      <th>postal_code<\/th>\n",
       "      <th>region<\/th>\n",
       "      <th>product_id<\/th>\n",
       "      <th>category<\/th>\n",
       "      <th>sub_category<\/th>\n",
       "      <th>product_name<\/th>\n",
       "      <th>sales<\/th>\n",
       "      <th>quantity<\/th>\n",
       "      <th>discount<\/th>\n",
       "      <th>profit<\/th>\n",
       "    <\/tr>\n",
       "  <\/thead>\n",
       "  <tbody>\n",
       "    <tr>\n",
       "      <th>0<\/th>\n",
       "      <td>1<\/td>\n",
       "      <td>CA-2016-152156<\/td>\n",
       "      <td>2016-11-08<\/td>\n",
       "      <td>2016-11-11<\/td>\n",
       "      <td>Second Class<\/td>\n",
       "      <td>CG-12520<\/td>\n",
       "      <td>Claire Gute<\/td>\n",
       "      <td>Consumer<\/td>\n",
       "      <td>United States<\/td>\n",
       "      <td>Henderson<\/td>\n",
       "      <td>...<\/td>\n",
       "      <td>42420<\/td>\n",
       "      <td>South<\/td>\n",
       "      <td>FUR-BO-10001798<\/td>\n",
       "      <td>Furniture<\/td>\n",
       "      <td>Bookcases<\/td>\n",
       "      <td>Bush Somerset Collection Bookcase<\/td>\n",
       "      <td>261.9600<\/td>\n",
       "      <td>2<\/td>\n",
       "      <td>0.00<\/td>\n",
       "      <td>41.9136<\/td>\n",
       "    <\/tr>\n",
       "    <tr>\n",
       "      <th>1<\/th>\n",
       "      <td>2<\/td>\n",
       "      <td>CA-2016-152156<\/td>\n",
       "      <td>2016-11-08<\/td>\n",
       "      <td>2016-11-11<\/td>\n",
       "      <td>Second Class<\/td>\n",
       "      <td>CG-12520<\/td>\n",
       "      <td>Claire Gute<\/td>\n",
       "      <td>Consumer<\/td>\n",
       "      <td>United States<\/td>\n",
       "      <td>Henderson<\/td>\n",
       "      <td>...<\/td>\n",
       "      <td>42420<\/td>\n",
       "      <td>South<\/td>\n",
       "      <td>FUR-CH-10000454<\/td>\n",
       "      <td>Furniture<\/td>\n",
       "      <td>Chairs<\/td>\n",
       "      <td>Hon Deluxe Fabric Upholstered Stacking Chairs,...<\/td>\n",
       "      <td>731.9400<\/td>\n",
       "      <td>3<\/td>\n",
       "      <td>0.00<\/td>\n",
       "      <td>219.5820<\/td>\n",
       "    <\/tr>\n",
       "    <tr>\n",
       "      <th>2<\/th>\n",
       "      <td>3<\/td>\n",
       "      <td>CA-2016-138688<\/td>\n",
       "      <td>2016-06-12<\/td>\n",
       "      <td>2016-06-16<\/td>\n",
       "      <td>Second Class<\/td>\n",
       "      <td>DV-13045<\/td>\n",
       "      <td>Darrin Van Huff<\/td>\n",
       "      <td>Corporate<\/td>\n",
       "      <td>United States<\/td>\n",
       "      <td>Los Angeles<\/td>\n",
       "      <td>...<\/td>\n",
       "      <td>90036<\/td>\n",
       "      <td>West<\/td>\n",
       "      <td>OFF-LA-10000240<\/td>\n",
       "      <td>Office Supplies<\/td>\n",
       "      <td>Labels<\/td>\n",
       "      <td>Self-Adhesive Address Labels for Typewriters b...<\/td>\n",
       "      <td>14.6200<\/td>\n",
       "      <td>2<\/td>\n",
       "      <td>0.00<\/td>\n",
       "      <td>6.8714<\/td>\n",
       "    <\/tr>\n",
       "    <tr>\n",
       "      <th>3<\/th>\n",
       "      <td>4<\/td>\n",
       "      <td>US-2015-108966<\/td>\n",
       "      <td>2015-10-11<\/td>\n",
       "      <td>2015-10-18<\/td>\n",
       "      <td>Standard Class<\/td>\n",
       "      <td>SO-20335<\/td>\n",
       "      <td>Sean O'Donnell<\/td>\n",
       "      <td>Consumer<\/td>\n",
       "      <td>United States<\/td>\n",
       "      <td>Fort Lauderdale<\/td>\n",
       "      <td>...<\/td>\n",
       "      <td>33311<\/td>\n",
       "      <td>South<\/td>\n",
       "      <td>FUR-TA-10000577<\/td>\n",
       "      <td>Furniture<\/td>\n",
       "      <td>Tables<\/td>\n",
       "      <td>Bretford CR4500 Series Slim Rectangular Table<\/td>\n",
       "      <td>957.5775<\/td>\n",
       "      <td>5<\/td>\n",
       "      <td>0.45<\/td>\n",
       "      <td>-383.0310<\/td>\n",
       "    <\/tr>\n",
       "    <tr>\n",
       "      <th>4<\/th>\n",
       "      <td>5<\/td>\n",
       "      <td>US-2015-108966<\/td>\n",
       "      <td>2015-10-11<\/td>\n",
       "      <td>2015-10-18<\/td>\n",
       "      <td>Standard Class<\/td>\n",
       "      <td>SO-20335<\/td>\n",
       "      <td>Sean O'Donnell<\/td>\n",
       "      <td>Consumer<\/td>\n",
       "      <td>United States<\/td>\n",
       "      <td>Fort Lauderdale<\/td>\n",
       "      <td>...<\/td>\n",
       "      <td>33311<\/td>\n",
       "      <td>South<\/td>\n",
       "      <td>OFF-ST-10000760<\/td>\n",
       "      <td>Office Supplies<\/td>\n",
       "      <td>Storage<\/td>\n",
       "      <td>Eldon Fold 'N Roll Cart System<\/td>\n",
       "      <td>22.3680<\/td>\n",
       "      <td>2<\/td>\n",
       "      <td>0.20<\/td>\n",
       "      <td>2.5164<\/td>\n",
       "    <\/tr>\n",
       "  <\/tbody>\n",
       "<\/table>\n",
       "<p>5 rows × 21 columns<\/p>\n",
       "<\/div>"
      ]
     },
     "metadata":{},
     "output_type":"display_data"
    }
   ],
   "metadata":{
    "datalore":{
     "node_id":"H2eDXzgmuyzkjk2DtOGlcC",
     "type":"CODE",
     "hide_input_from_viewers":true,
     "hide_output_from_viewers":true
    }
   }
  },
  {
   "cell_type":"code",
   "source":[
    "## data transformation\n",
    "df[[\"customer_id\", \"customer_name\"]].head(3)"
   ],
   "execution_count":57,
   "outputs":[
    {
     "data":{
      "text\/html":[
       "<div>\n",
       "<style scoped>\n",
       "    .dataframe tbody tr th:only-of-type {\n",
       "        vertical-align: middle;\n",
       "    }\n",
       "\n",
       "    .dataframe tbody tr th {\n",
       "        vertical-align: top;\n",
       "    }\n",
       "\n",
       "    .dataframe thead th {\n",
       "        text-align: right;\n",
       "    }\n",
       "<\/style>\n",
       "<table border=\"1\" class=\"dataframe\">\n",
       "  <thead>\n",
       "    <tr style=\"text-align: right;\">\n",
       "      <th><\/th>\n",
       "      <th>customer_id<\/th>\n",
       "      <th>customer_name<\/th>\n",
       "    <\/tr>\n",
       "  <\/thead>\n",
       "  <tbody>\n",
       "    <tr>\n",
       "      <th>0<\/th>\n",
       "      <td>CG-12520<\/td>\n",
       "      <td>Claire Gute<\/td>\n",
       "    <\/tr>\n",
       "    <tr>\n",
       "      <th>1<\/th>\n",
       "      <td>CG-12520<\/td>\n",
       "      <td>Claire Gute<\/td>\n",
       "    <\/tr>\n",
       "    <tr>\n",
       "      <th>2<\/th>\n",
       "      <td>DV-13045<\/td>\n",
       "      <td>Darrin Van Huff<\/td>\n",
       "    <\/tr>\n",
       "  <\/tbody>\n",
       "<\/table>\n",
       "<\/div>"
      ]
     },
     "metadata":{},
     "output_type":"display_data"
    }
   ],
   "metadata":{
    "datalore":{
     "node_id":"bzHyUMawxlpOCHxYqIBFuQ",
     "type":"CODE",
     "hide_input_from_viewers":true,
     "hide_output_from_viewers":true
    }
   }
  },
  {
   "cell_type":"code",
   "source":[
    "df[ df[\"customer_name\"] == \"Claire Gute\" ].head()"
   ],
   "execution_count":58,
   "outputs":[
    {
     "data":{
      "text\/html":[
       "<div>\n",
       "<style scoped>\n",
       "    .dataframe tbody tr th:only-of-type {\n",
       "        vertical-align: middle;\n",
       "    }\n",
       "\n",
       "    .dataframe tbody tr th {\n",
       "        vertical-align: top;\n",
       "    }\n",
       "\n",
       "    .dataframe thead th {\n",
       "        text-align: right;\n",
       "    }\n",
       "<\/style>\n",
       "<table border=\"1\" class=\"dataframe\">\n",
       "  <thead>\n",
       "    <tr style=\"text-align: right;\">\n",
       "      <th><\/th>\n",
       "      <th>row_id<\/th>\n",
       "      <th>order_id<\/th>\n",
       "      <th>order_date<\/th>\n",
       "      <th>ship_date<\/th>\n",
       "      <th>ship_mode<\/th>\n",
       "      <th>customer_id<\/th>\n",
       "      <th>customer_name<\/th>\n",
       "      <th>segment<\/th>\n",
       "      <th>country<\/th>\n",
       "      <th>city<\/th>\n",
       "      <th>...<\/th>\n",
       "      <th>postal_code<\/th>\n",
       "      <th>region<\/th>\n",
       "      <th>product_id<\/th>\n",
       "      <th>category<\/th>\n",
       "      <th>sub_category<\/th>\n",
       "      <th>product_name<\/th>\n",
       "      <th>sales<\/th>\n",
       "      <th>quantity<\/th>\n",
       "      <th>discount<\/th>\n",
       "      <th>profit<\/th>\n",
       "    <\/tr>\n",
       "  <\/thead>\n",
       "  <tbody>\n",
       "    <tr>\n",
       "      <th>0<\/th>\n",
       "      <td>1<\/td>\n",
       "      <td>CA-2016-152156<\/td>\n",
       "      <td>2016-11-08<\/td>\n",
       "      <td>2016-11-11<\/td>\n",
       "      <td>Second Class<\/td>\n",
       "      <td>CG-12520<\/td>\n",
       "      <td>Claire Gute<\/td>\n",
       "      <td>Consumer<\/td>\n",
       "      <td>United States<\/td>\n",
       "      <td>Henderson<\/td>\n",
       "      <td>...<\/td>\n",
       "      <td>42420<\/td>\n",
       "      <td>South<\/td>\n",
       "      <td>FUR-BO-10001798<\/td>\n",
       "      <td>Furniture<\/td>\n",
       "      <td>Bookcases<\/td>\n",
       "      <td>Bush Somerset Collection Bookcase<\/td>\n",
       "      <td>261.960<\/td>\n",
       "      <td>2<\/td>\n",
       "      <td>0.0<\/td>\n",
       "      <td>41.9136<\/td>\n",
       "    <\/tr>\n",
       "    <tr>\n",
       "      <th>1<\/th>\n",
       "      <td>2<\/td>\n",
       "      <td>CA-2016-152156<\/td>\n",
       "      <td>2016-11-08<\/td>\n",
       "      <td>2016-11-11<\/td>\n",
       "      <td>Second Class<\/td>\n",
       "      <td>CG-12520<\/td>\n",
       "      <td>Claire Gute<\/td>\n",
       "      <td>Consumer<\/td>\n",
       "      <td>United States<\/td>\n",
       "      <td>Henderson<\/td>\n",
       "      <td>...<\/td>\n",
       "      <td>42420<\/td>\n",
       "      <td>South<\/td>\n",
       "      <td>FUR-CH-10000454<\/td>\n",
       "      <td>Furniture<\/td>\n",
       "      <td>Chairs<\/td>\n",
       "      <td>Hon Deluxe Fabric Upholstered Stacking Chairs,...<\/td>\n",
       "      <td>731.940<\/td>\n",
       "      <td>3<\/td>\n",
       "      <td>0.0<\/td>\n",
       "      <td>219.5820<\/td>\n",
       "    <\/tr>\n",
       "    <tr>\n",
       "      <th>5491<\/th>\n",
       "      <td>5492<\/td>\n",
       "      <td>CA-2017-164098<\/td>\n",
       "      <td>2017-01-26<\/td>\n",
       "      <td>2017-01-27<\/td>\n",
       "      <td>First Class<\/td>\n",
       "      <td>CG-12520<\/td>\n",
       "      <td>Claire Gute<\/td>\n",
       "      <td>Consumer<\/td>\n",
       "      <td>United States<\/td>\n",
       "      <td>Houston<\/td>\n",
       "      <td>...<\/td>\n",
       "      <td>77070<\/td>\n",
       "      <td>Central<\/td>\n",
       "      <td>OFF-ST-10000615<\/td>\n",
       "      <td>Office Supplies<\/td>\n",
       "      <td>Storage<\/td>\n",
       "      <td>SimpliFile Personal File, Black Granite, 15w x...<\/td>\n",
       "      <td>18.160<\/td>\n",
       "      <td>2<\/td>\n",
       "      <td>0.2<\/td>\n",
       "      <td>1.8160<\/td>\n",
       "    <\/tr>\n",
       "    <tr>\n",
       "      <th>6877<\/th>\n",
       "      <td>6878<\/td>\n",
       "      <td>US-2015-123918<\/td>\n",
       "      <td>2015-10-15<\/td>\n",
       "      <td>2015-10-15<\/td>\n",
       "      <td>Same Day<\/td>\n",
       "      <td>CG-12520<\/td>\n",
       "      <td>Claire Gute<\/td>\n",
       "      <td>Consumer<\/td>\n",
       "      <td>United States<\/td>\n",
       "      <td>Dallas<\/td>\n",
       "      <td>...<\/td>\n",
       "      <td>75217<\/td>\n",
       "      <td>Central<\/td>\n",
       "      <td>FUR-FU-10004952<\/td>\n",
       "      <td>Furniture<\/td>\n",
       "      <td>Furnishings<\/td>\n",
       "      <td>C-Line Cubicle Keepers Polyproplyene Holder w\/...<\/td>\n",
       "      <td>131.376<\/td>\n",
       "      <td>6<\/td>\n",
       "      <td>0.6<\/td>\n",
       "      <td>-95.2476<\/td>\n",
       "    <\/tr>\n",
       "    <tr>\n",
       "      <th>6878<\/th>\n",
       "      <td>6879<\/td>\n",
       "      <td>US-2015-123918<\/td>\n",
       "      <td>2015-10-15<\/td>\n",
       "      <td>2015-10-15<\/td>\n",
       "      <td>Same Day<\/td>\n",
       "      <td>CG-12520<\/td>\n",
       "      <td>Claire Gute<\/td>\n",
       "      <td>Consumer<\/td>\n",
       "      <td>United States<\/td>\n",
       "      <td>Dallas<\/td>\n",
       "      <td>...<\/td>\n",
       "      <td>75217<\/td>\n",
       "      <td>Central<\/td>\n",
       "      <td>OFF-PA-10003001<\/td>\n",
       "      <td>Office Supplies<\/td>\n",
       "      <td>Paper<\/td>\n",
       "      <td>Xerox 1986<\/td>\n",
       "      <td>5.344<\/td>\n",
       "      <td>1<\/td>\n",
       "      <td>0.2<\/td>\n",
       "      <td>1.8704<\/td>\n",
       "    <\/tr>\n",
       "  <\/tbody>\n",
       "<\/table>\n",
       "<p>5 rows × 21 columns<\/p>\n",
       "<\/div>"
      ]
     },
     "metadata":{},
     "output_type":"display_data"
    }
   ],
   "metadata":{
    "datalore":{
     "node_id":"zzOaJs6XKTmWHhgNt0vvi0",
     "type":"CODE",
     "hide_input_from_viewers":true,
     "hide_output_from_viewers":true
    }
   }
  },
  {
   "cell_type":"code",
   "source":[
    "df[ df[\"customer_name\"] == \"Claire Gute\" ][[\"order_date\", \"customer_id\", \"customer_name\"]].head()"
   ],
   "execution_count":59,
   "outputs":[
    {
     "data":{
      "text\/html":[
       "<div>\n",
       "<style scoped>\n",
       "    .dataframe tbody tr th:only-of-type {\n",
       "        vertical-align: middle;\n",
       "    }\n",
       "\n",
       "    .dataframe tbody tr th {\n",
       "        vertical-align: top;\n",
       "    }\n",
       "\n",
       "    .dataframe thead th {\n",
       "        text-align: right;\n",
       "    }\n",
       "<\/style>\n",
       "<table border=\"1\" class=\"dataframe\">\n",
       "  <thead>\n",
       "    <tr style=\"text-align: right;\">\n",
       "      <th><\/th>\n",
       "      <th>order_date<\/th>\n",
       "      <th>customer_id<\/th>\n",
       "      <th>customer_name<\/th>\n",
       "    <\/tr>\n",
       "  <\/thead>\n",
       "  <tbody>\n",
       "    <tr>\n",
       "      <th>0<\/th>\n",
       "      <td>2016-11-08<\/td>\n",
       "      <td>CG-12520<\/td>\n",
       "      <td>Claire Gute<\/td>\n",
       "    <\/tr>\n",
       "    <tr>\n",
       "      <th>1<\/th>\n",
       "      <td>2016-11-08<\/td>\n",
       "      <td>CG-12520<\/td>\n",
       "      <td>Claire Gute<\/td>\n",
       "    <\/tr>\n",
       "    <tr>\n",
       "      <th>5491<\/th>\n",
       "      <td>2017-01-26<\/td>\n",
       "      <td>CG-12520<\/td>\n",
       "      <td>Claire Gute<\/td>\n",
       "    <\/tr>\n",
       "    <tr>\n",
       "      <th>6877<\/th>\n",
       "      <td>2015-10-15<\/td>\n",
       "      <td>CG-12520<\/td>\n",
       "      <td>Claire Gute<\/td>\n",
       "    <\/tr>\n",
       "    <tr>\n",
       "      <th>6878<\/th>\n",
       "      <td>2015-10-15<\/td>\n",
       "      <td>CG-12520<\/td>\n",
       "      <td>Claire Gute<\/td>\n",
       "    <\/tr>\n",
       "  <\/tbody>\n",
       "<\/table>\n",
       "<\/div>"
      ]
     },
     "metadata":{},
     "output_type":"display_data"
    }
   ],
   "metadata":{
    "datalore":{
     "node_id":"YuW2zevD2dU1cPlYvaXCJ5",
     "type":"CODE",
     "hide_input_from_viewers":true,
     "hide_output_from_viewers":true
    }
   }
  },
  {
   "cell_type":"code",
   "source":[
    "# query => filter rows with conditions\n",
    "df.query(\" city == 'Los Angeles' \").head()"
   ],
   "execution_count":60,
   "outputs":[
    {
     "data":{
      "text\/html":[
       "<div>\n",
       "<style scoped>\n",
       "    .dataframe tbody tr th:only-of-type {\n",
       "        vertical-align: middle;\n",
       "    }\n",
       "\n",
       "    .dataframe tbody tr th {\n",
       "        vertical-align: top;\n",
       "    }\n",
       "\n",
       "    .dataframe thead th {\n",
       "        text-align: right;\n",
       "    }\n",
       "<\/style>\n",
       "<table border=\"1\" class=\"dataframe\">\n",
       "  <thead>\n",
       "    <tr style=\"text-align: right;\">\n",
       "      <th><\/th>\n",
       "      <th>row_id<\/th>\n",
       "      <th>order_id<\/th>\n",
       "      <th>order_date<\/th>\n",
       "      <th>ship_date<\/th>\n",
       "      <th>ship_mode<\/th>\n",
       "      <th>customer_id<\/th>\n",
       "      <th>customer_name<\/th>\n",
       "      <th>segment<\/th>\n",
       "      <th>country<\/th>\n",
       "      <th>city<\/th>\n",
       "      <th>...<\/th>\n",
       "      <th>postal_code<\/th>\n",
       "      <th>region<\/th>\n",
       "      <th>product_id<\/th>\n",
       "      <th>category<\/th>\n",
       "      <th>sub_category<\/th>\n",
       "      <th>product_name<\/th>\n",
       "      <th>sales<\/th>\n",
       "      <th>quantity<\/th>\n",
       "      <th>discount<\/th>\n",
       "      <th>profit<\/th>\n",
       "    <\/tr>\n",
       "  <\/thead>\n",
       "  <tbody>\n",
       "    <tr>\n",
       "      <th>2<\/th>\n",
       "      <td>3<\/td>\n",
       "      <td>CA-2016-138688<\/td>\n",
       "      <td>2016-06-12<\/td>\n",
       "      <td>2016-06-16<\/td>\n",
       "      <td>Second Class<\/td>\n",
       "      <td>DV-13045<\/td>\n",
       "      <td>Darrin Van Huff<\/td>\n",
       "      <td>Corporate<\/td>\n",
       "      <td>United States<\/td>\n",
       "      <td>Los Angeles<\/td>\n",
       "      <td>...<\/td>\n",
       "      <td>90036<\/td>\n",
       "      <td>West<\/td>\n",
       "      <td>OFF-LA-10000240<\/td>\n",
       "      <td>Office Supplies<\/td>\n",
       "      <td>Labels<\/td>\n",
       "      <td>Self-Adhesive Address Labels for Typewriters b...<\/td>\n",
       "      <td>14.620<\/td>\n",
       "      <td>2<\/td>\n",
       "      <td>0.0<\/td>\n",
       "      <td>6.8714<\/td>\n",
       "    <\/tr>\n",
       "    <tr>\n",
       "      <th>5<\/th>\n",
       "      <td>6<\/td>\n",
       "      <td>CA-2014-115812<\/td>\n",
       "      <td>2014-06-09<\/td>\n",
       "      <td>2014-06-14<\/td>\n",
       "      <td>Standard Class<\/td>\n",
       "      <td>BH-11710<\/td>\n",
       "      <td>Brosina Hoffman<\/td>\n",
       "      <td>Consumer<\/td>\n",
       "      <td>United States<\/td>\n",
       "      <td>Los Angeles<\/td>\n",
       "      <td>...<\/td>\n",
       "      <td>90032<\/td>\n",
       "      <td>West<\/td>\n",
       "      <td>FUR-FU-10001487<\/td>\n",
       "      <td>Furniture<\/td>\n",
       "      <td>Furnishings<\/td>\n",
       "      <td>Eldon Expressions Wood and Plastic Desk Access...<\/td>\n",
       "      <td>48.860<\/td>\n",
       "      <td>7<\/td>\n",
       "      <td>0.0<\/td>\n",
       "      <td>14.1694<\/td>\n",
       "    <\/tr>\n",
       "    <tr>\n",
       "      <th>6<\/th>\n",
       "      <td>7<\/td>\n",
       "      <td>CA-2014-115812<\/td>\n",
       "      <td>2014-06-09<\/td>\n",
       "      <td>2014-06-14<\/td>\n",
       "      <td>Standard Class<\/td>\n",
       "      <td>BH-11710<\/td>\n",
       "      <td>Brosina Hoffman<\/td>\n",
       "      <td>Consumer<\/td>\n",
       "      <td>United States<\/td>\n",
       "      <td>Los Angeles<\/td>\n",
       "      <td>...<\/td>\n",
       "      <td>90032<\/td>\n",
       "      <td>West<\/td>\n",
       "      <td>OFF-AR-10002833<\/td>\n",
       "      <td>Office Supplies<\/td>\n",
       "      <td>Art<\/td>\n",
       "      <td>Newell 322<\/td>\n",
       "      <td>7.280<\/td>\n",
       "      <td>4<\/td>\n",
       "      <td>0.0<\/td>\n",
       "      <td>1.9656<\/td>\n",
       "    <\/tr>\n",
       "    <tr>\n",
       "      <th>7<\/th>\n",
       "      <td>8<\/td>\n",
       "      <td>CA-2014-115812<\/td>\n",
       "      <td>2014-06-09<\/td>\n",
       "      <td>2014-06-14<\/td>\n",
       "      <td>Standard Class<\/td>\n",
       "      <td>BH-11710<\/td>\n",
       "      <td>Brosina Hoffman<\/td>\n",
       "      <td>Consumer<\/td>\n",
       "      <td>United States<\/td>\n",
       "      <td>Los Angeles<\/td>\n",
       "      <td>...<\/td>\n",
       "      <td>90032<\/td>\n",
       "      <td>West<\/td>\n",
       "      <td>TEC-PH-10002275<\/td>\n",
       "      <td>Technology<\/td>\n",
       "      <td>Phones<\/td>\n",
       "      <td>Mitel 5320 IP Phone VoIP phone<\/td>\n",
       "      <td>907.152<\/td>\n",
       "      <td>6<\/td>\n",
       "      <td>0.2<\/td>\n",
       "      <td>90.7152<\/td>\n",
       "    <\/tr>\n",
       "    <tr>\n",
       "      <th>8<\/th>\n",
       "      <td>9<\/td>\n",
       "      <td>CA-2014-115812<\/td>\n",
       "      <td>2014-06-09<\/td>\n",
       "      <td>2014-06-14<\/td>\n",
       "      <td>Standard Class<\/td>\n",
       "      <td>BH-11710<\/td>\n",
       "      <td>Brosina Hoffman<\/td>\n",
       "      <td>Consumer<\/td>\n",
       "      <td>United States<\/td>\n",
       "      <td>Los Angeles<\/td>\n",
       "      <td>...<\/td>\n",
       "      <td>90032<\/td>\n",
       "      <td>West<\/td>\n",
       "      <td>OFF-BI-10003910<\/td>\n",
       "      <td>Office Supplies<\/td>\n",
       "      <td>Binders<\/td>\n",
       "      <td>DXL Angle-View Binders with Locking Rings by S...<\/td>\n",
       "      <td>18.504<\/td>\n",
       "      <td>3<\/td>\n",
       "      <td>0.2<\/td>\n",
       "      <td>5.7825<\/td>\n",
       "    <\/tr>\n",
       "  <\/tbody>\n",
       "<\/table>\n",
       "<p>5 rows × 21 columns<\/p>\n",
       "<\/div>"
      ]
     },
     "metadata":{},
     "output_type":"display_data"
    }
   ],
   "metadata":{
    "datalore":{
     "node_id":"F8CJOJoUlK3bDz2ZxzkQ12",
     "type":"CODE",
     "hide_input_from_viewers":true,
     "hide_output_from_viewers":true
    }
   }
  },
  {
   "cell_type":"code",
   "source":[
    "# query => filter rows with conditions\n",
    "df.query(\" city == 'Los Angeles' and category == 'Furniture' \").head()"
   ],
   "execution_count":61,
   "outputs":[
    {
     "data":{
      "text\/html":[
       "<div>\n",
       "<style scoped>\n",
       "    .dataframe tbody tr th:only-of-type {\n",
       "        vertical-align: middle;\n",
       "    }\n",
       "\n",
       "    .dataframe tbody tr th {\n",
       "        vertical-align: top;\n",
       "    }\n",
       "\n",
       "    .dataframe thead th {\n",
       "        text-align: right;\n",
       "    }\n",
       "<\/style>\n",
       "<table border=\"1\" class=\"dataframe\">\n",
       "  <thead>\n",
       "    <tr style=\"text-align: right;\">\n",
       "      <th><\/th>\n",
       "      <th>row_id<\/th>\n",
       "      <th>order_id<\/th>\n",
       "      <th>order_date<\/th>\n",
       "      <th>ship_date<\/th>\n",
       "      <th>ship_mode<\/th>\n",
       "      <th>customer_id<\/th>\n",
       "      <th>customer_name<\/th>\n",
       "      <th>segment<\/th>\n",
       "      <th>country<\/th>\n",
       "      <th>city<\/th>\n",
       "      <th>...<\/th>\n",
       "      <th>postal_code<\/th>\n",
       "      <th>region<\/th>\n",
       "      <th>product_id<\/th>\n",
       "      <th>category<\/th>\n",
       "      <th>sub_category<\/th>\n",
       "      <th>product_name<\/th>\n",
       "      <th>sales<\/th>\n",
       "      <th>quantity<\/th>\n",
       "      <th>discount<\/th>\n",
       "      <th>profit<\/th>\n",
       "    <\/tr>\n",
       "  <\/thead>\n",
       "  <tbody>\n",
       "    <tr>\n",
       "      <th>5<\/th>\n",
       "      <td>6<\/td>\n",
       "      <td>CA-2014-115812<\/td>\n",
       "      <td>2014-06-09<\/td>\n",
       "      <td>2014-06-14<\/td>\n",
       "      <td>Standard Class<\/td>\n",
       "      <td>BH-11710<\/td>\n",
       "      <td>Brosina Hoffman<\/td>\n",
       "      <td>Consumer<\/td>\n",
       "      <td>United States<\/td>\n",
       "      <td>Los Angeles<\/td>\n",
       "      <td>...<\/td>\n",
       "      <td>90032<\/td>\n",
       "      <td>West<\/td>\n",
       "      <td>FUR-FU-10001487<\/td>\n",
       "      <td>Furniture<\/td>\n",
       "      <td>Furnishings<\/td>\n",
       "      <td>Eldon Expressions Wood and Plastic Desk Access...<\/td>\n",
       "      <td>48.860<\/td>\n",
       "      <td>7<\/td>\n",
       "      <td>0.0<\/td>\n",
       "      <td>14.1694<\/td>\n",
       "    <\/tr>\n",
       "    <tr>\n",
       "      <th>10<\/th>\n",
       "      <td>11<\/td>\n",
       "      <td>CA-2014-115812<\/td>\n",
       "      <td>2014-06-09<\/td>\n",
       "      <td>2014-06-14<\/td>\n",
       "      <td>Standard Class<\/td>\n",
       "      <td>BH-11710<\/td>\n",
       "      <td>Brosina Hoffman<\/td>\n",
       "      <td>Consumer<\/td>\n",
       "      <td>United States<\/td>\n",
       "      <td>Los Angeles<\/td>\n",
       "      <td>...<\/td>\n",
       "      <td>90032<\/td>\n",
       "      <td>West<\/td>\n",
       "      <td>FUR-TA-10001539<\/td>\n",
       "      <td>Furniture<\/td>\n",
       "      <td>Tables<\/td>\n",
       "      <td>Chromcraft Rectangular Conference Tables<\/td>\n",
       "      <td>1706.184<\/td>\n",
       "      <td>9<\/td>\n",
       "      <td>0.2<\/td>\n",
       "      <td>85.3092<\/td>\n",
       "    <\/tr>\n",
       "    <tr>\n",
       "      <th>65<\/th>\n",
       "      <td>66<\/td>\n",
       "      <td>CA-2015-135545<\/td>\n",
       "      <td>2015-11-24<\/td>\n",
       "      <td>2015-11-30<\/td>\n",
       "      <td>Standard Class<\/td>\n",
       "      <td>KM-16720<\/td>\n",
       "      <td>Kunst Miller<\/td>\n",
       "      <td>Consumer<\/td>\n",
       "      <td>United States<\/td>\n",
       "      <td>Los Angeles<\/td>\n",
       "      <td>...<\/td>\n",
       "      <td>90004<\/td>\n",
       "      <td>West<\/td>\n",
       "      <td>FUR-FU-10000397<\/td>\n",
       "      <td>Furniture<\/td>\n",
       "      <td>Furnishings<\/td>\n",
       "      <td>Luxo Economy Swing Arm Lamp<\/td>\n",
       "      <td>79.760<\/td>\n",
       "      <td>4<\/td>\n",
       "      <td>0.0<\/td>\n",
       "      <td>22.3328<\/td>\n",
       "    <\/tr>\n",
       "    <tr>\n",
       "      <th>128<\/th>\n",
       "      <td>129<\/td>\n",
       "      <td>US-2016-125969<\/td>\n",
       "      <td>2016-11-06<\/td>\n",
       "      <td>2016-11-10<\/td>\n",
       "      <td>Second Class<\/td>\n",
       "      <td>LS-16975<\/td>\n",
       "      <td>Lindsay Shagiari<\/td>\n",
       "      <td>Home Office<\/td>\n",
       "      <td>United States<\/td>\n",
       "      <td>Los Angeles<\/td>\n",
       "      <td>...<\/td>\n",
       "      <td>90004<\/td>\n",
       "      <td>West<\/td>\n",
       "      <td>FUR-CH-10001146<\/td>\n",
       "      <td>Furniture<\/td>\n",
       "      <td>Chairs<\/td>\n",
       "      <td>Global Task Chair, Black<\/td>\n",
       "      <td>81.424<\/td>\n",
       "      <td>2<\/td>\n",
       "      <td>0.2<\/td>\n",
       "      <td>-9.1602<\/td>\n",
       "    <\/tr>\n",
       "    <tr>\n",
       "      <th>129<\/th>\n",
       "      <td>130<\/td>\n",
       "      <td>US-2016-125969<\/td>\n",
       "      <td>2016-11-06<\/td>\n",
       "      <td>2016-11-10<\/td>\n",
       "      <td>Second Class<\/td>\n",
       "      <td>LS-16975<\/td>\n",
       "      <td>Lindsay Shagiari<\/td>\n",
       "      <td>Home Office<\/td>\n",
       "      <td>United States<\/td>\n",
       "      <td>Los Angeles<\/td>\n",
       "      <td>...<\/td>\n",
       "      <td>90004<\/td>\n",
       "      <td>West<\/td>\n",
       "      <td>FUR-FU-10003773<\/td>\n",
       "      <td>Furniture<\/td>\n",
       "      <td>Furnishings<\/td>\n",
       "      <td>Eldon Cleatmat Plus Chair Mats for High Pile C...<\/td>\n",
       "      <td>238.560<\/td>\n",
       "      <td>3<\/td>\n",
       "      <td>0.0<\/td>\n",
       "      <td>26.2416<\/td>\n",
       "    <\/tr>\n",
       "  <\/tbody>\n",
       "<\/table>\n",
       "<p>5 rows × 21 columns<\/p>\n",
       "<\/div>"
      ]
     },
     "metadata":{},
     "output_type":"display_data"
    }
   ],
   "metadata":{
    "datalore":{
     "node_id":"jK4Juf37FkhUUU2EO5V2lr",
     "type":"CODE",
     "hide_input_from_viewers":true,
     "hide_output_from_viewers":true
    }
   }
  },
  {
   "cell_type":"code",
   "source":[
    "# query => filter rows with conditions\n",
    "df.query(\" city == 'Los Angeles' and category == 'Furniture' \")[[\"customer_name\", \"segment\", \"city\"]].head()"
   ],
   "execution_count":62,
   "outputs":[
    {
     "data":{
      "text\/html":[
       "<div>\n",
       "<style scoped>\n",
       "    .dataframe tbody tr th:only-of-type {\n",
       "        vertical-align: middle;\n",
       "    }\n",
       "\n",
       "    .dataframe tbody tr th {\n",
       "        vertical-align: top;\n",
       "    }\n",
       "\n",
       "    .dataframe thead th {\n",
       "        text-align: right;\n",
       "    }\n",
       "<\/style>\n",
       "<table border=\"1\" class=\"dataframe\">\n",
       "  <thead>\n",
       "    <tr style=\"text-align: right;\">\n",
       "      <th><\/th>\n",
       "      <th>customer_name<\/th>\n",
       "      <th>segment<\/th>\n",
       "      <th>city<\/th>\n",
       "    <\/tr>\n",
       "  <\/thead>\n",
       "  <tbody>\n",
       "    <tr>\n",
       "      <th>5<\/th>\n",
       "      <td>Brosina Hoffman<\/td>\n",
       "      <td>Consumer<\/td>\n",
       "      <td>Los Angeles<\/td>\n",
       "    <\/tr>\n",
       "    <tr>\n",
       "      <th>10<\/th>\n",
       "      <td>Brosina Hoffman<\/td>\n",
       "      <td>Consumer<\/td>\n",
       "      <td>Los Angeles<\/td>\n",
       "    <\/tr>\n",
       "    <tr>\n",
       "      <th>65<\/th>\n",
       "      <td>Kunst Miller<\/td>\n",
       "      <td>Consumer<\/td>\n",
       "      <td>Los Angeles<\/td>\n",
       "    <\/tr>\n",
       "    <tr>\n",
       "      <th>128<\/th>\n",
       "      <td>Lindsay Shagiari<\/td>\n",
       "      <td>Home Office<\/td>\n",
       "      <td>Los Angeles<\/td>\n",
       "    <\/tr>\n",
       "    <tr>\n",
       "      <th>129<\/th>\n",
       "      <td>Lindsay Shagiari<\/td>\n",
       "      <td>Home Office<\/td>\n",
       "      <td>Los Angeles<\/td>\n",
       "    <\/tr>\n",
       "  <\/tbody>\n",
       "<\/table>\n",
       "<\/div>"
      ]
     },
     "metadata":{},
     "output_type":"display_data"
    }
   ],
   "metadata":{
    "datalore":{
     "node_id":"f0VEH0jnjsV4K283P5RSbo",
     "type":"CODE",
     "hide_input_from_viewers":true,
     "hide_output_from_viewers":true
    }
   }
  },
  {
   "cell_type":"code",
   "source":[
    "## aggregate data\n",
    "df.groupby(\"segment\")[\"sales\"].sum()"
   ],
   "execution_count":63,
   "outputs":[
    {
     "data":{
      "text\/html":[
       "<pre>segment\n",
       "Consumer       1.161401e+06\n",
       "Corporate      7.061464e+05\n",
       "Home Office    4.296531e+05\n",
       "Name: sales, dtype: float64<\/pre>"
      ]
     },
     "metadata":{},
     "output_type":"display_data"
    }
   ],
   "metadata":{
    "datalore":{
     "node_id":"SASAvSHYOk72F4Gj0Q3iHy",
     "type":"CODE",
     "hide_input_from_viewers":true,
     "hide_output_from_viewers":true
    }
   }
  },
  {
   "cell_type":"code",
   "source":[
    "## aggregate data\n",
    "df.groupby([\"segment\", \"region\"])[\"sales\"].sum()"
   ],
   "execution_count":64,
   "outputs":[
    {
     "data":{
      "text\/html":[
       "<pre>segment      region \n",
       "Consumer     Central    252031.4340\n",
       "             East       350908.1670\n",
       "             South      195580.9710\n",
       "             West       362880.7730\n",
       "Corporate    Central    157995.8128\n",
       "             East       200409.3470\n",
       "             South      121885.9325\n",
       "             West       225855.2745\n",
       "Home Office  Central     91212.6440\n",
       "             East       127463.7260\n",
       "             South       74255.0015\n",
       "             West       136721.7770\n",
       "Name: sales, dtype: float64<\/pre>"
      ]
     },
     "metadata":{},
     "output_type":"display_data"
    }
   ],
   "metadata":{
    "datalore":{
     "node_id":"Gs60c50Yd3BHJqZd1r1pKs",
     "type":"CODE",
     "hide_input_from_viewers":true,
     "hide_output_from_viewers":true
    }
   }
  },
  {
   "cell_type":"code",
   "source":[
    "## aggregate data\n",
    "df.groupby([\"segment\", \"region\"])[[\"sales\", \"profit\"]].sum()"
   ],
   "execution_count":65,
   "outputs":[
    {
     "data":{
      "text\/html":[
       "<div>\n",
       "<style scoped>\n",
       "    .dataframe tbody tr th:only-of-type {\n",
       "        vertical-align: middle;\n",
       "    }\n",
       "\n",
       "    .dataframe tbody tr th {\n",
       "        vertical-align: top;\n",
       "    }\n",
       "\n",
       "    .dataframe thead th {\n",
       "        text-align: right;\n",
       "    }\n",
       "<\/style>\n",
       "<table border=\"1\" class=\"dataframe\">\n",
       "  <thead>\n",
       "    <tr style=\"text-align: right;\">\n",
       "      <th><\/th>\n",
       "      <th><\/th>\n",
       "      <th>sales<\/th>\n",
       "      <th>profit<\/th>\n",
       "    <\/tr>\n",
       "    <tr>\n",
       "      <th>segment<\/th>\n",
       "      <th>region<\/th>\n",
       "      <th><\/th>\n",
       "      <th><\/th>\n",
       "    <\/tr>\n",
       "  <\/thead>\n",
       "  <tbody>\n",
       "    <tr>\n",
       "      <th rowspan=\"4\" valign=\"top\">Consumer<\/th>\n",
       "      <th>Central<\/th>\n",
       "      <td>252031.4340<\/td>\n",
       "      <td>8564.0481<\/td>\n",
       "    <\/tr>\n",
       "    <tr>\n",
       "      <th>East<\/th>\n",
       "      <td>350908.1670<\/td>\n",
       "      <td>41190.9843<\/td>\n",
       "    <\/tr>\n",
       "    <tr>\n",
       "      <th>South<\/th>\n",
       "      <td>195580.9710<\/td>\n",
       "      <td>26913.5728<\/td>\n",
       "    <\/tr>\n",
       "    <tr>\n",
       "      <th>West<\/th>\n",
       "      <td>362880.7730<\/td>\n",
       "      <td>57450.6040<\/td>\n",
       "    <\/tr>\n",
       "    <tr>\n",
       "      <th rowspan=\"4\" valign=\"top\">Corporate<\/th>\n",
       "      <th>Central<\/th>\n",
       "      <td>157995.8128<\/td>\n",
       "      <td>18703.9020<\/td>\n",
       "    <\/tr>\n",
       "    <tr>\n",
       "      <th>East<\/th>\n",
       "      <td>200409.3470<\/td>\n",
       "      <td>23622.5789<\/td>\n",
       "    <\/tr>\n",
       "    <tr>\n",
       "      <th>South<\/th>\n",
       "      <td>121885.9325<\/td>\n",
       "      <td>15215.2232<\/td>\n",
       "    <\/tr>\n",
       "    <tr>\n",
       "      <th>West<\/th>\n",
       "      <td>225855.2745<\/td>\n",
       "      <td>34437.4299<\/td>\n",
       "    <\/tr>\n",
       "    <tr>\n",
       "      <th rowspan=\"4\" valign=\"top\">Home Office<\/th>\n",
       "      <th>Central<\/th>\n",
       "      <td>91212.6440<\/td>\n",
       "      <td>12438.4124<\/td>\n",
       "    <\/tr>\n",
       "    <tr>\n",
       "      <th>East<\/th>\n",
       "      <td>127463.7260<\/td>\n",
       "      <td>26709.2168<\/td>\n",
       "    <\/tr>\n",
       "    <tr>\n",
       "      <th>South<\/th>\n",
       "      <td>74255.0015<\/td>\n",
       "      <td>4620.6343<\/td>\n",
       "    <\/tr>\n",
       "    <tr>\n",
       "      <th>West<\/th>\n",
       "      <td>136721.7770<\/td>\n",
       "      <td>16530.4150<\/td>\n",
       "    <\/tr>\n",
       "  <\/tbody>\n",
       "<\/table>\n",
       "<\/div>"
      ]
     },
     "metadata":{},
     "output_type":"display_data"
    }
   ],
   "metadata":{
    "datalore":{
     "node_id":"nHcIn1Ru6msqrQfJaF8fqy",
     "type":"CODE",
     "hide_input_from_viewers":true,
     "hide_output_from_viewers":true
    }
   }
  },
  {
   "cell_type":"code",
   "source":[
    "## aggregate data\n",
    "df.groupby([\"segment\", \"region\"])[[\"sales\", \"profit\"]].agg(['sum', 'mean'])"
   ],
   "execution_count":66,
   "outputs":[
    {
     "data":{
      "text\/html":[
       "<div>\n",
       "<style scoped>\n",
       "    .dataframe tbody tr th:only-of-type {\n",
       "        vertical-align: middle;\n",
       "    }\n",
       "\n",
       "    .dataframe tbody tr th {\n",
       "        vertical-align: top;\n",
       "    }\n",
       "\n",
       "    .dataframe thead tr th {\n",
       "        text-align: left;\n",
       "    }\n",
       "\n",
       "    .dataframe thead tr:last-of-type th {\n",
       "        text-align: right;\n",
       "    }\n",
       "<\/style>\n",
       "<table border=\"1\" class=\"dataframe\">\n",
       "  <thead>\n",
       "    <tr>\n",
       "      <th><\/th>\n",
       "      <th><\/th>\n",
       "      <th colspan=\"2\" halign=\"left\">sales<\/th>\n",
       "      <th colspan=\"2\" halign=\"left\">profit<\/th>\n",
       "    <\/tr>\n",
       "    <tr>\n",
       "      <th><\/th>\n",
       "      <th><\/th>\n",
       "      <th>sum<\/th>\n",
       "      <th>mean<\/th>\n",
       "      <th>sum<\/th>\n",
       "      <th>mean<\/th>\n",
       "    <\/tr>\n",
       "    <tr>\n",
       "      <th>segment<\/th>\n",
       "      <th>region<\/th>\n",
       "      <th><\/th>\n",
       "      <th><\/th>\n",
       "      <th><\/th>\n",
       "      <th><\/th>\n",
       "    <\/tr>\n",
       "  <\/thead>\n",
       "  <tbody>\n",
       "    <tr>\n",
       "      <th rowspan=\"4\" valign=\"top\">Consumer<\/th>\n",
       "      <th>Central<\/th>\n",
       "      <td>252031.4340<\/td>\n",
       "      <td>207.946728<\/td>\n",
       "      <td>8564.0481<\/td>\n",
       "      <td>7.066046<\/td>\n",
       "    <\/tr>\n",
       "    <tr>\n",
       "      <th>East<\/th>\n",
       "      <td>350908.1670<\/td>\n",
       "      <td>238.875539<\/td>\n",
       "      <td>41190.9843<\/td>\n",
       "      <td>28.040153<\/td>\n",
       "    <\/tr>\n",
       "    <tr>\n",
       "      <th>South<\/th>\n",
       "      <td>195580.9710<\/td>\n",
       "      <td>233.390180<\/td>\n",
       "      <td>26913.5728<\/td>\n",
       "      <td>32.116435<\/td>\n",
       "    <\/tr>\n",
       "    <tr>\n",
       "      <th>West<\/th>\n",
       "      <td>362880.7730<\/td>\n",
       "      <td>217.033955<\/td>\n",
       "      <td>57450.6040<\/td>\n",
       "      <td>34.360409<\/td>\n",
       "    <\/tr>\n",
       "    <tr>\n",
       "      <th rowspan=\"4\" valign=\"top\">Corporate<\/th>\n",
       "      <th>Central<\/th>\n",
       "      <td>157995.8128<\/td>\n",
       "      <td>234.763466<\/td>\n",
       "      <td>18703.9020<\/td>\n",
       "      <td>27.791831<\/td>\n",
       "    <\/tr>\n",
       "    <tr>\n",
       "      <th>East<\/th>\n",
       "      <td>200409.3470<\/td>\n",
       "      <td>228.516929<\/td>\n",
       "      <td>23622.5789<\/td>\n",
       "      <td>26.935666<\/td>\n",
       "    <\/tr>\n",
       "    <tr>\n",
       "      <th>South<\/th>\n",
       "      <td>121885.9325<\/td>\n",
       "      <td>238.992025<\/td>\n",
       "      <td>15215.2232<\/td>\n",
       "      <td>29.833771<\/td>\n",
       "    <\/tr>\n",
       "    <tr>\n",
       "      <th>West<\/th>\n",
       "      <td>225855.2745<\/td>\n",
       "      <td>235.265911<\/td>\n",
       "      <td>34437.4299<\/td>\n",
       "      <td>35.872323<\/td>\n",
       "    <\/tr>\n",
       "    <tr>\n",
       "      <th rowspan=\"4\" valign=\"top\">Home Office<\/th>\n",
       "      <th>Central<\/th>\n",
       "      <td>91212.6440<\/td>\n",
       "      <td>208.248046<\/td>\n",
       "      <td>12438.4124<\/td>\n",
       "      <td>28.398202<\/td>\n",
       "    <\/tr>\n",
       "    <tr>\n",
       "      <th>East<\/th>\n",
       "      <td>127463.7260<\/td>\n",
       "      <td>253.911805<\/td>\n",
       "      <td>26709.2168<\/td>\n",
       "      <td>53.205611<\/td>\n",
       "    <\/tr>\n",
       "    <tr>\n",
       "      <th>South<\/th>\n",
       "      <td>74255.0015<\/td>\n",
       "      <td>272.996329<\/td>\n",
       "      <td>4620.6343<\/td>\n",
       "      <td>16.987626<\/td>\n",
       "    <\/tr>\n",
       "    <tr>\n",
       "      <th>West<\/th>\n",
       "      <td>136721.7770<\/td>\n",
       "      <td>239.442692<\/td>\n",
       "      <td>16530.4150<\/td>\n",
       "      <td>28.949939<\/td>\n",
       "    <\/tr>\n",
       "  <\/tbody>\n",
       "<\/table>\n",
       "<\/div>"
      ]
     },
     "metadata":{},
     "output_type":"display_data"
    }
   ],
   "metadata":{
    "datalore":{
     "node_id":"Sdxel5SpG7j0OAoybanKNg",
     "type":"CODE",
     "hide_input_from_viewers":true,
     "hide_output_from_viewers":true
    }
   }
  },
  {
   "cell_type":"code",
   "source":[
    "## aggregate data\n",
    "df.groupby([\"segment\", \"region\"])[[\"sales\", \"profit\"]].agg(['sum', 'mean']).reset_index()"
   ],
   "execution_count":67,
   "outputs":[
    {
     "data":{
      "text\/html":[
       "<div>\n",
       "<style scoped>\n",
       "    .dataframe tbody tr th:only-of-type {\n",
       "        vertical-align: middle;\n",
       "    }\n",
       "\n",
       "    .dataframe tbody tr th {\n",
       "        vertical-align: top;\n",
       "    }\n",
       "\n",
       "    .dataframe thead tr th {\n",
       "        text-align: left;\n",
       "    }\n",
       "<\/style>\n",
       "<table border=\"1\" class=\"dataframe\">\n",
       "  <thead>\n",
       "    <tr>\n",
       "      <th><\/th>\n",
       "      <th>segment<\/th>\n",
       "      <th>region<\/th>\n",
       "      <th colspan=\"2\" halign=\"left\">sales<\/th>\n",
       "      <th colspan=\"2\" halign=\"left\">profit<\/th>\n",
       "    <\/tr>\n",
       "    <tr>\n",
       "      <th><\/th>\n",
       "      <th><\/th>\n",
       "      <th><\/th>\n",
       "      <th>sum<\/th>\n",
       "      <th>mean<\/th>\n",
       "      <th>sum<\/th>\n",
       "      <th>mean<\/th>\n",
       "    <\/tr>\n",
       "  <\/thead>\n",
       "  <tbody>\n",
       "    <tr>\n",
       "      <th>0<\/th>\n",
       "      <td>Consumer<\/td>\n",
       "      <td>Central<\/td>\n",
       "      <td>252031.4340<\/td>\n",
       "      <td>207.946728<\/td>\n",
       "      <td>8564.0481<\/td>\n",
       "      <td>7.066046<\/td>\n",
       "    <\/tr>\n",
       "    <tr>\n",
       "      <th>1<\/th>\n",
       "      <td>Consumer<\/td>\n",
       "      <td>East<\/td>\n",
       "      <td>350908.1670<\/td>\n",
       "      <td>238.875539<\/td>\n",
       "      <td>41190.9843<\/td>\n",
       "      <td>28.040153<\/td>\n",
       "    <\/tr>\n",
       "    <tr>\n",
       "      <th>2<\/th>\n",
       "      <td>Consumer<\/td>\n",
       "      <td>South<\/td>\n",
       "      <td>195580.9710<\/td>\n",
       "      <td>233.390180<\/td>\n",
       "      <td>26913.5728<\/td>\n",
       "      <td>32.116435<\/td>\n",
       "    <\/tr>\n",
       "    <tr>\n",
       "      <th>3<\/th>\n",
       "      <td>Consumer<\/td>\n",
       "      <td>West<\/td>\n",
       "      <td>362880.7730<\/td>\n",
       "      <td>217.033955<\/td>\n",
       "      <td>57450.6040<\/td>\n",
       "      <td>34.360409<\/td>\n",
       "    <\/tr>\n",
       "    <tr>\n",
       "      <th>4<\/th>\n",
       "      <td>Corporate<\/td>\n",
       "      <td>Central<\/td>\n",
       "      <td>157995.8128<\/td>\n",
       "      <td>234.763466<\/td>\n",
       "      <td>18703.9020<\/td>\n",
       "      <td>27.791831<\/td>\n",
       "    <\/tr>\n",
       "    <tr>\n",
       "      <th>5<\/th>\n",
       "      <td>Corporate<\/td>\n",
       "      <td>East<\/td>\n",
       "      <td>200409.3470<\/td>\n",
       "      <td>228.516929<\/td>\n",
       "      <td>23622.5789<\/td>\n",
       "      <td>26.935666<\/td>\n",
       "    <\/tr>\n",
       "    <tr>\n",
       "      <th>6<\/th>\n",
       "      <td>Corporate<\/td>\n",
       "      <td>South<\/td>\n",
       "      <td>121885.9325<\/td>\n",
       "      <td>238.992025<\/td>\n",
       "      <td>15215.2232<\/td>\n",
       "      <td>29.833771<\/td>\n",
       "    <\/tr>\n",
       "    <tr>\n",
       "      <th>7<\/th>\n",
       "      <td>Corporate<\/td>\n",
       "      <td>West<\/td>\n",
       "      <td>225855.2745<\/td>\n",
       "      <td>235.265911<\/td>\n",
       "      <td>34437.4299<\/td>\n",
       "      <td>35.872323<\/td>\n",
       "    <\/tr>\n",
       "    <tr>\n",
       "      <th>8<\/th>\n",
       "      <td>Home Office<\/td>\n",
       "      <td>Central<\/td>\n",
       "      <td>91212.6440<\/td>\n",
       "      <td>208.248046<\/td>\n",
       "      <td>12438.4124<\/td>\n",
       "      <td>28.398202<\/td>\n",
       "    <\/tr>\n",
       "    <tr>\n",
       "      <th>9<\/th>\n",
       "      <td>Home Office<\/td>\n",
       "      <td>East<\/td>\n",
       "      <td>127463.7260<\/td>\n",
       "      <td>253.911805<\/td>\n",
       "      <td>26709.2168<\/td>\n",
       "      <td>53.205611<\/td>\n",
       "    <\/tr>\n",
       "    <tr>\n",
       "      <th>10<\/th>\n",
       "      <td>Home Office<\/td>\n",
       "      <td>South<\/td>\n",
       "      <td>74255.0015<\/td>\n",
       "      <td>272.996329<\/td>\n",
       "      <td>4620.6343<\/td>\n",
       "      <td>16.987626<\/td>\n",
       "    <\/tr>\n",
       "    <tr>\n",
       "      <th>11<\/th>\n",
       "      <td>Home Office<\/td>\n",
       "      <td>West<\/td>\n",
       "      <td>136721.7770<\/td>\n",
       "      <td>239.442692<\/td>\n",
       "      <td>16530.4150<\/td>\n",
       "      <td>28.949939<\/td>\n",
       "    <\/tr>\n",
       "  <\/tbody>\n",
       "<\/table>\n",
       "<\/div>"
      ]
     },
     "metadata":{},
     "output_type":"display_data"
    }
   ],
   "metadata":{
    "datalore":{
     "node_id":"AyFbeHyjxOMxr6bG6x2JF9",
     "type":"CODE",
     "hide_input_from_viewers":true,
     "hide_output_from_viewers":true
    }
   }
  },
  {
   "cell_type":"code",
   "source":[
    "## aggregate data\n",
    "df.groupby([\"segment\", \"region\"])[[\"sales\", \"profit\"]].agg(['sum', 'mean', 'count']).reset_index()"
   ],
   "execution_count":68,
   "outputs":[
    {
     "data":{
      "text\/html":[
       "<div>\n",
       "<style scoped>\n",
       "    .dataframe tbody tr th:only-of-type {\n",
       "        vertical-align: middle;\n",
       "    }\n",
       "\n",
       "    .dataframe tbody tr th {\n",
       "        vertical-align: top;\n",
       "    }\n",
       "\n",
       "    .dataframe thead tr th {\n",
       "        text-align: left;\n",
       "    }\n",
       "<\/style>\n",
       "<table border=\"1\" class=\"dataframe\">\n",
       "  <thead>\n",
       "    <tr>\n",
       "      <th><\/th>\n",
       "      <th>segment<\/th>\n",
       "      <th>region<\/th>\n",
       "      <th colspan=\"3\" halign=\"left\">sales<\/th>\n",
       "      <th colspan=\"3\" halign=\"left\">profit<\/th>\n",
       "    <\/tr>\n",
       "    <tr>\n",
       "      <th><\/th>\n",
       "      <th><\/th>\n",
       "      <th><\/th>\n",
       "      <th>sum<\/th>\n",
       "      <th>mean<\/th>\n",
       "      <th>count<\/th>\n",
       "      <th>sum<\/th>\n",
       "      <th>mean<\/th>\n",
       "      <th>count<\/th>\n",
       "    <\/tr>\n",
       "  <\/thead>\n",
       "  <tbody>\n",
       "    <tr>\n",
       "      <th>0<\/th>\n",
       "      <td>Consumer<\/td>\n",
       "      <td>Central<\/td>\n",
       "      <td>252031.4340<\/td>\n",
       "      <td>207.946728<\/td>\n",
       "      <td>1212<\/td>\n",
       "      <td>8564.0481<\/td>\n",
       "      <td>7.066046<\/td>\n",
       "      <td>1212<\/td>\n",
       "    <\/tr>\n",
       "    <tr>\n",
       "      <th>1<\/th>\n",
       "      <td>Consumer<\/td>\n",
       "      <td>East<\/td>\n",
       "      <td>350908.1670<\/td>\n",
       "      <td>238.875539<\/td>\n",
       "      <td>1469<\/td>\n",
       "      <td>41190.9843<\/td>\n",
       "      <td>28.040153<\/td>\n",
       "      <td>1469<\/td>\n",
       "    <\/tr>\n",
       "    <tr>\n",
       "      <th>2<\/th>\n",
       "      <td>Consumer<\/td>\n",
       "      <td>South<\/td>\n",
       "      <td>195580.9710<\/td>\n",
       "      <td>233.390180<\/td>\n",
       "      <td>838<\/td>\n",
       "      <td>26913.5728<\/td>\n",
       "      <td>32.116435<\/td>\n",
       "      <td>838<\/td>\n",
       "    <\/tr>\n",
       "    <tr>\n",
       "      <th>3<\/th>\n",
       "      <td>Consumer<\/td>\n",
       "      <td>West<\/td>\n",
       "      <td>362880.7730<\/td>\n",
       "      <td>217.033955<\/td>\n",
       "      <td>1672<\/td>\n",
       "      <td>57450.6040<\/td>\n",
       "      <td>34.360409<\/td>\n",
       "      <td>1672<\/td>\n",
       "    <\/tr>\n",
       "    <tr>\n",
       "      <th>4<\/th>\n",
       "      <td>Corporate<\/td>\n",
       "      <td>Central<\/td>\n",
       "      <td>157995.8128<\/td>\n",
       "      <td>234.763466<\/td>\n",
       "      <td>673<\/td>\n",
       "      <td>18703.9020<\/td>\n",
       "      <td>27.791831<\/td>\n",
       "      <td>673<\/td>\n",
       "    <\/tr>\n",
       "    <tr>\n",
       "      <th>5<\/th>\n",
       "      <td>Corporate<\/td>\n",
       "      <td>East<\/td>\n",
       "      <td>200409.3470<\/td>\n",
       "      <td>228.516929<\/td>\n",
       "      <td>877<\/td>\n",
       "      <td>23622.5789<\/td>\n",
       "      <td>26.935666<\/td>\n",
       "      <td>877<\/td>\n",
       "    <\/tr>\n",
       "    <tr>\n",
       "      <th>6<\/th>\n",
       "      <td>Corporate<\/td>\n",
       "      <td>South<\/td>\n",
       "      <td>121885.9325<\/td>\n",
       "      <td>238.992025<\/td>\n",
       "      <td>510<\/td>\n",
       "      <td>15215.2232<\/td>\n",
       "      <td>29.833771<\/td>\n",
       "      <td>510<\/td>\n",
       "    <\/tr>\n",
       "    <tr>\n",
       "      <th>7<\/th>\n",
       "      <td>Corporate<\/td>\n",
       "      <td>West<\/td>\n",
       "      <td>225855.2745<\/td>\n",
       "      <td>235.265911<\/td>\n",
       "      <td>960<\/td>\n",
       "      <td>34437.4299<\/td>\n",
       "      <td>35.872323<\/td>\n",
       "      <td>960<\/td>\n",
       "    <\/tr>\n",
       "    <tr>\n",
       "      <th>8<\/th>\n",
       "      <td>Home Office<\/td>\n",
       "      <td>Central<\/td>\n",
       "      <td>91212.6440<\/td>\n",
       "      <td>208.248046<\/td>\n",
       "      <td>438<\/td>\n",
       "      <td>12438.4124<\/td>\n",
       "      <td>28.398202<\/td>\n",
       "      <td>438<\/td>\n",
       "    <\/tr>\n",
       "    <tr>\n",
       "      <th>9<\/th>\n",
       "      <td>Home Office<\/td>\n",
       "      <td>East<\/td>\n",
       "      <td>127463.7260<\/td>\n",
       "      <td>253.911805<\/td>\n",
       "      <td>502<\/td>\n",
       "      <td>26709.2168<\/td>\n",
       "      <td>53.205611<\/td>\n",
       "      <td>502<\/td>\n",
       "    <\/tr>\n",
       "    <tr>\n",
       "      <th>10<\/th>\n",
       "      <td>Home Office<\/td>\n",
       "      <td>South<\/td>\n",
       "      <td>74255.0015<\/td>\n",
       "      <td>272.996329<\/td>\n",
       "      <td>272<\/td>\n",
       "      <td>4620.6343<\/td>\n",
       "      <td>16.987626<\/td>\n",
       "      <td>272<\/td>\n",
       "    <\/tr>\n",
       "    <tr>\n",
       "      <th>11<\/th>\n",
       "      <td>Home Office<\/td>\n",
       "      <td>West<\/td>\n",
       "      <td>136721.7770<\/td>\n",
       "      <td>239.442692<\/td>\n",
       "      <td>571<\/td>\n",
       "      <td>16530.4150<\/td>\n",
       "      <td>28.949939<\/td>\n",
       "      <td>571<\/td>\n",
       "    <\/tr>\n",
       "  <\/tbody>\n",
       "<\/table>\n",
       "<\/div>"
      ]
     },
     "metadata":{},
     "output_type":"display_data"
    }
   ],
   "metadata":{
    "datalore":{
     "node_id":"QNPkjq9PKNTSDtVyK9ap5j",
     "type":"CODE",
     "hide_input_from_viewers":true,
     "hide_output_from_viewers":true
    }
   }
  },
  {
   "cell_type":"code",
   "source":[
    "## aggregate data\n",
    "res = df.groupby([\"segment\", \"region\"])[[\"sales\", \"profit\"]] \\\n",
    "        .agg(['sum', 'mean', 'count']) \\\n",
    "        .reset_index()\n",
    "print(res)\n",
    "\n",
    "res.to_csv(\"agg_data.csv\")"
   ],
   "execution_count":69,
   "outputs":[
    {
     "name":"stdout",
     "text":[
      "        segment   region        sales                        profit  \\\n",
      "                                  sum        mean count         sum   \n",
      "0      Consumer  Central  252031.4340  207.946728  1212   8564.0481   \n",
      "1      Consumer     East  350908.1670  238.875539  1469  41190.9843   \n",
      "2      Consumer    South  195580.9710  233.390180   838  26913.5728   \n",
      "3      Consumer     West  362880.7730  217.033955  1672  57450.6040   \n",
      "4     Corporate  Central  157995.8128  234.763466   673  18703.9020   \n",
      "5     Corporate     East  200409.3470  228.516929   877  23622.5789   \n",
      "6     Corporate    South  121885.9325  238.992025   510  15215.2232   \n",
      "7     Corporate     West  225855.2745  235.265911   960  34437.4299   \n",
      "8   Home Office  Central   91212.6440  208.248046   438  12438.4124   \n",
      "9   Home Office     East  127463.7260  253.911805   502  26709.2168   \n",
      "10  Home Office    South   74255.0015  272.996329   272   4620.6343   \n",
      "11  Home Office     West  136721.7770  239.442692   571  16530.4150   \n",
      "\n",
      "                     \n",
      "         mean count  \n",
      "0    7.066046  1212  \n",
      "1   28.040153  1469  \n",
      "2   32.116435   838  \n",
      "3   34.360409  1672  \n",
      "4   27.791831   673  \n",
      "5   26.935666   877  \n",
      "6   29.833771   510  \n",
      "7   35.872323   960  \n",
      "8   28.398202   438  \n",
      "9   53.205611   502  \n",
      "10  16.987626   272  \n",
      "11  28.949939   571  \n"
     ],
     "output_type":"stream"
    }
   ],
   "metadata":{
    "datalore":{
     "node_id":"MRE2mSCdtZeV1vcDZmd5ht",
     "type":"CODE",
     "hide_input_from_viewers":true,
     "hide_output_from_viewers":true
    }
   }
  },
  {
   "cell_type":"code",
   "source":[
    "## aggregate data\n",
    "res = df.query(\" region == 'West' \") \\\n",
    "\t\t.groupby([\"segment\", \"region\"])[[\"sales\", \"profit\"]] \\\n",
    "        .agg(['sum', 'mean', 'count']) \\\n",
    "        .reset_index()\n",
    "res"
   ],
   "execution_count":70,
   "outputs":[
    {
     "data":{
      "text\/html":[
       "<div>\n",
       "<style scoped>\n",
       "    .dataframe tbody tr th:only-of-type {\n",
       "        vertical-align: middle;\n",
       "    }\n",
       "\n",
       "    .dataframe tbody tr th {\n",
       "        vertical-align: top;\n",
       "    }\n",
       "\n",
       "    .dataframe thead tr th {\n",
       "        text-align: left;\n",
       "    }\n",
       "<\/style>\n",
       "<table border=\"1\" class=\"dataframe\">\n",
       "  <thead>\n",
       "    <tr>\n",
       "      <th><\/th>\n",
       "      <th>segment<\/th>\n",
       "      <th>region<\/th>\n",
       "      <th colspan=\"3\" halign=\"left\">sales<\/th>\n",
       "      <th colspan=\"3\" halign=\"left\">profit<\/th>\n",
       "    <\/tr>\n",
       "    <tr>\n",
       "      <th><\/th>\n",
       "      <th><\/th>\n",
       "      <th><\/th>\n",
       "      <th>sum<\/th>\n",
       "      <th>mean<\/th>\n",
       "      <th>count<\/th>\n",
       "      <th>sum<\/th>\n",
       "      <th>mean<\/th>\n",
       "      <th>count<\/th>\n",
       "    <\/tr>\n",
       "  <\/thead>\n",
       "  <tbody>\n",
       "    <tr>\n",
       "      <th>0<\/th>\n",
       "      <td>Consumer<\/td>\n",
       "      <td>West<\/td>\n",
       "      <td>362880.7730<\/td>\n",
       "      <td>217.033955<\/td>\n",
       "      <td>1672<\/td>\n",
       "      <td>57450.6040<\/td>\n",
       "      <td>34.360409<\/td>\n",
       "      <td>1672<\/td>\n",
       "    <\/tr>\n",
       "    <tr>\n",
       "      <th>1<\/th>\n",
       "      <td>Corporate<\/td>\n",
       "      <td>West<\/td>\n",
       "      <td>225855.2745<\/td>\n",
       "      <td>235.265911<\/td>\n",
       "      <td>960<\/td>\n",
       "      <td>34437.4299<\/td>\n",
       "      <td>35.872323<\/td>\n",
       "      <td>960<\/td>\n",
       "    <\/tr>\n",
       "    <tr>\n",
       "      <th>2<\/th>\n",
       "      <td>Home Office<\/td>\n",
       "      <td>West<\/td>\n",
       "      <td>136721.7770<\/td>\n",
       "      <td>239.442692<\/td>\n",
       "      <td>571<\/td>\n",
       "      <td>16530.4150<\/td>\n",
       "      <td>28.949939<\/td>\n",
       "      <td>571<\/td>\n",
       "    <\/tr>\n",
       "  <\/tbody>\n",
       "<\/table>\n",
       "<\/div>"
      ]
     },
     "metadata":{},
     "output_type":"display_data"
    }
   ],
   "metadata":{
    "datalore":{
     "node_id":"WRObkX7C7jlJux7E9JBC74",
     "type":"CODE",
     "hide_input_from_viewers":true,
     "hide_output_from_viewers":true
    }
   }
  },
  {
   "cell_type":"markdown",
   "source":[
    "# Load data from SQLite"
   ],
   "attachments":{},
   "metadata":{
    "datalore":{
     "node_id":"4JjgSzt0VH5YYOG6XAvyDZ",
     "type":"MD",
     "hide_input_from_viewers":true,
     "hide_output_from_viewers":true
    }
   }
  },
  {
   "cell_type":"code",
   "source":[
    "import sqlite3\n",
    "import pandas as pd\n",
    "\n",
    "## create connection\n",
    "con = sqlite3.connect(\"chinook.db\")"
   ],
   "execution_count":71,
   "outputs":[],
   "metadata":{
    "datalore":{
     "node_id":"Akda9VXX3tAyYY5iyiYh4T",
     "type":"CODE",
     "hide_input_from_viewers":true,
     "hide_output_from_viewers":true
    }
   }
  },
  {
   "cell_type":"code",
   "source":[
    "con"
   ],
   "execution_count":72,
   "outputs":[
    {
     "data":{
      "text\/plain":[
       "<sqlite3.Connection at 0x7fde064f4d50>"
      ]
     },
     "metadata":{},
     "output_type":"display_data"
    }
   ],
   "metadata":{
    "datalore":{
     "node_id":"AFMWK2AqUhewl7UUDexld4",
     "type":"CODE",
     "hide_input_from_viewers":true,
     "hide_output_from_viewers":true
    }
   }
  },
  {
   "cell_type":"code",
   "source":[
    "custs = pd.read_sql(\"select * from customers where country='USA'\", con)\n",
    "custs"
   ],
   "execution_count":73,
   "outputs":[
    {
     "data":{
      "text\/html":[
       "<div>\n",
       "<style scoped>\n",
       "    .dataframe tbody tr th:only-of-type {\n",
       "        vertical-align: middle;\n",
       "    }\n",
       "\n",
       "    .dataframe tbody tr th {\n",
       "        vertical-align: top;\n",
       "    }\n",
       "\n",
       "    .dataframe thead th {\n",
       "        text-align: right;\n",
       "    }\n",
       "<\/style>\n",
       "<table border=\"1\" class=\"dataframe\">\n",
       "  <thead>\n",
       "    <tr style=\"text-align: right;\">\n",
       "      <th><\/th>\n",
       "      <th>CustomerId<\/th>\n",
       "      <th>FirstName<\/th>\n",
       "      <th>LastName<\/th>\n",
       "      <th>Company<\/th>\n",
       "      <th>Address<\/th>\n",
       "      <th>City<\/th>\n",
       "      <th>State<\/th>\n",
       "      <th>Country<\/th>\n",
       "      <th>PostalCode<\/th>\n",
       "      <th>Phone<\/th>\n",
       "      <th>Fax<\/th>\n",
       "      <th>Email<\/th>\n",
       "      <th>SupportRepId<\/th>\n",
       "    <\/tr>\n",
       "  <\/thead>\n",
       "  <tbody>\n",
       "    <tr>\n",
       "      <th>0<\/th>\n",
       "      <td>16<\/td>\n",
       "      <td>Frank<\/td>\n",
       "      <td>Harris<\/td>\n",
       "      <td>Google Inc.<\/td>\n",
       "      <td>1600 Amphitheatre Parkway<\/td>\n",
       "      <td>Mountain View<\/td>\n",
       "      <td>CA<\/td>\n",
       "      <td>USA<\/td>\n",
       "      <td>94043-1351<\/td>\n",
       "      <td>+1 (650) 253-0000<\/td>\n",
       "      <td>+1 (650) 253-0000<\/td>\n",
       "      <td>fharris@google.com<\/td>\n",
       "      <td>4<\/td>\n",
       "    <\/tr>\n",
       "    <tr>\n",
       "      <th>1<\/th>\n",
       "      <td>17<\/td>\n",
       "      <td>Jack<\/td>\n",
       "      <td>Smith<\/td>\n",
       "      <td>Microsoft Corporation<\/td>\n",
       "      <td>1 Microsoft Way<\/td>\n",
       "      <td>Redmond<\/td>\n",
       "      <td>WA<\/td>\n",
       "      <td>USA<\/td>\n",
       "      <td>98052-8300<\/td>\n",
       "      <td>+1 (425) 882-8080<\/td>\n",
       "      <td>+1 (425) 882-8081<\/td>\n",
       "      <td>jacksmith@microsoft.com<\/td>\n",
       "      <td>5<\/td>\n",
       "    <\/tr>\n",
       "    <tr>\n",
       "      <th>2<\/th>\n",
       "      <td>18<\/td>\n",
       "      <td>Michelle<\/td>\n",
       "      <td>Brooks<\/td>\n",
       "      <td>None<\/td>\n",
       "      <td>627 Broadway<\/td>\n",
       "      <td>New York<\/td>\n",
       "      <td>NY<\/td>\n",
       "      <td>USA<\/td>\n",
       "      <td>10012-2612<\/td>\n",
       "      <td>+1 (212) 221-3546<\/td>\n",
       "      <td>+1 (212) 221-4679<\/td>\n",
       "      <td>michelleb@aol.com<\/td>\n",
       "      <td>3<\/td>\n",
       "    <\/tr>\n",
       "    <tr>\n",
       "      <th>3<\/th>\n",
       "      <td>19<\/td>\n",
       "      <td>Tim<\/td>\n",
       "      <td>Goyer<\/td>\n",
       "      <td>Apple Inc.<\/td>\n",
       "      <td>1 Infinite Loop<\/td>\n",
       "      <td>Cupertino<\/td>\n",
       "      <td>CA<\/td>\n",
       "      <td>USA<\/td>\n",
       "      <td>95014<\/td>\n",
       "      <td>+1 (408) 996-1010<\/td>\n",
       "      <td>+1 (408) 996-1011<\/td>\n",
       "      <td>tgoyer@apple.com<\/td>\n",
       "      <td>3<\/td>\n",
       "    <\/tr>\n",
       "    <tr>\n",
       "      <th>4<\/th>\n",
       "      <td>20<\/td>\n",
       "      <td>Dan<\/td>\n",
       "      <td>Miller<\/td>\n",
       "      <td>None<\/td>\n",
       "      <td>541 Del Medio Avenue<\/td>\n",
       "      <td>Mountain View<\/td>\n",
       "      <td>CA<\/td>\n",
       "      <td>USA<\/td>\n",
       "      <td>94040-111<\/td>\n",
       "      <td>+1 (650) 644-3358<\/td>\n",
       "      <td>None<\/td>\n",
       "      <td>dmiller@comcast.com<\/td>\n",
       "      <td>4<\/td>\n",
       "    <\/tr>\n",
       "    <tr>\n",
       "      <th>5<\/th>\n",
       "      <td>21<\/td>\n",
       "      <td>Kathy<\/td>\n",
       "      <td>Chase<\/td>\n",
       "      <td>None<\/td>\n",
       "      <td>801 W 4th Street<\/td>\n",
       "      <td>Reno<\/td>\n",
       "      <td>NV<\/td>\n",
       "      <td>USA<\/td>\n",
       "      <td>89503<\/td>\n",
       "      <td>+1 (775) 223-7665<\/td>\n",
       "      <td>None<\/td>\n",
       "      <td>kachase@hotmail.com<\/td>\n",
       "      <td>5<\/td>\n",
       "    <\/tr>\n",
       "    <tr>\n",
       "      <th>6<\/th>\n",
       "      <td>22<\/td>\n",
       "      <td>Heather<\/td>\n",
       "      <td>Leacock<\/td>\n",
       "      <td>None<\/td>\n",
       "      <td>120 S Orange Ave<\/td>\n",
       "      <td>Orlando<\/td>\n",
       "      <td>FL<\/td>\n",
       "      <td>USA<\/td>\n",
       "      <td>32801<\/td>\n",
       "      <td>+1 (407) 999-7788<\/td>\n",
       "      <td>None<\/td>\n",
       "      <td>hleacock@gmail.com<\/td>\n",
       "      <td>4<\/td>\n",
       "    <\/tr>\n",
       "    <tr>\n",
       "      <th>7<\/th>\n",
       "      <td>23<\/td>\n",
       "      <td>John<\/td>\n",
       "      <td>Gordon<\/td>\n",
       "      <td>None<\/td>\n",
       "      <td>69 Salem Street<\/td>\n",
       "      <td>Boston<\/td>\n",
       "      <td>MA<\/td>\n",
       "      <td>USA<\/td>\n",
       "      <td>2113<\/td>\n",
       "      <td>+1 (617) 522-1333<\/td>\n",
       "      <td>None<\/td>\n",
       "      <td>johngordon22@yahoo.com<\/td>\n",
       "      <td>4<\/td>\n",
       "    <\/tr>\n",
       "    <tr>\n",
       "      <th>8<\/th>\n",
       "      <td>24<\/td>\n",
       "      <td>Frank<\/td>\n",
       "      <td>Ralston<\/td>\n",
       "      <td>None<\/td>\n",
       "      <td>162 E Superior Street<\/td>\n",
       "      <td>Chicago<\/td>\n",
       "      <td>IL<\/td>\n",
       "      <td>USA<\/td>\n",
       "      <td>60611<\/td>\n",
       "      <td>+1 (312) 332-3232<\/td>\n",
       "      <td>None<\/td>\n",
       "      <td>fralston@gmail.com<\/td>\n",
       "      <td>3<\/td>\n",
       "    <\/tr>\n",
       "    <tr>\n",
       "      <th>9<\/th>\n",
       "      <td>25<\/td>\n",
       "      <td>Victor<\/td>\n",
       "      <td>Stevens<\/td>\n",
       "      <td>None<\/td>\n",
       "      <td>319 N. Frances Street<\/td>\n",
       "      <td>Madison<\/td>\n",
       "      <td>WI<\/td>\n",
       "      <td>USA<\/td>\n",
       "      <td>53703<\/td>\n",
       "      <td>+1 (608) 257-0597<\/td>\n",
       "      <td>None<\/td>\n",
       "      <td>vstevens@yahoo.com<\/td>\n",
       "      <td>5<\/td>\n",
       "    <\/tr>\n",
       "    <tr>\n",
       "      <th>10<\/th>\n",
       "      <td>26<\/td>\n",
       "      <td>Richard<\/td>\n",
       "      <td>Cunningham<\/td>\n",
       "      <td>None<\/td>\n",
       "      <td>2211 W Berry Street<\/td>\n",
       "      <td>Fort Worth<\/td>\n",
       "      <td>TX<\/td>\n",
       "      <td>USA<\/td>\n",
       "      <td>76110<\/td>\n",
       "      <td>+1 (817) 924-7272<\/td>\n",
       "      <td>None<\/td>\n",
       "      <td>ricunningham@hotmail.com<\/td>\n",
       "      <td>4<\/td>\n",
       "    <\/tr>\n",
       "    <tr>\n",
       "      <th>11<\/th>\n",
       "      <td>27<\/td>\n",
       "      <td>Patrick<\/td>\n",
       "      <td>Gray<\/td>\n",
       "      <td>None<\/td>\n",
       "      <td>1033 N Park Ave<\/td>\n",
       "      <td>Tucson<\/td>\n",
       "      <td>AZ<\/td>\n",
       "      <td>USA<\/td>\n",
       "      <td>85719<\/td>\n",
       "      <td>+1 (520) 622-4200<\/td>\n",
       "      <td>None<\/td>\n",
       "      <td>patrick.gray@aol.com<\/td>\n",
       "      <td>4<\/td>\n",
       "    <\/tr>\n",
       "    <tr>\n",
       "      <th>12<\/th>\n",
       "      <td>28<\/td>\n",
       "      <td>Julia<\/td>\n",
       "      <td>Barnett<\/td>\n",
       "      <td>None<\/td>\n",
       "      <td>302 S 700 E<\/td>\n",
       "      <td>Salt Lake City<\/td>\n",
       "      <td>UT<\/td>\n",
       "      <td>USA<\/td>\n",
       "      <td>84102<\/td>\n",
       "      <td>+1 (801) 531-7272<\/td>\n",
       "      <td>None<\/td>\n",
       "      <td>jubarnett@gmail.com<\/td>\n",
       "      <td>5<\/td>\n",
       "    <\/tr>\n",
       "  <\/tbody>\n",
       "<\/table>\n",
       "<\/div>"
      ]
     },
     "metadata":{},
     "output_type":"display_data"
    }
   ],
   "metadata":{
    "datalore":{
     "node_id":"BL6ILLujoJbtXTAOY9ghiS",
     "type":"CODE",
     "hide_input_from_viewers":true,
     "hide_output_from_viewers":true
    }
   }
  },
  {
   "cell_type":"code",
   "source":[
    "con.close()"
   ],
   "execution_count":74,
   "outputs":[],
   "metadata":{
    "datalore":{
     "node_id":"UUSOelIOFSktERhqwxVxgO",
     "type":"CODE",
     "hide_input_from_viewers":true,
     "hide_output_from_viewers":true
    }
   }
  },
  {
   "cell_type":"markdown",
   "source":[
    "# Sklearn Foundation"
   ],
   "attachments":{},
   "metadata":{
    "datalore":{
     "node_id":"r2HMIgcDTI2HlGworkADAv",
     "type":"MD",
     "hide_input_from_viewers":true,
     "hide_output_from_viewers":true
    }
   }
  },
  {
   "cell_type":"code",
   "source":[
    "import pandas as pd\n",
    "\n",
    "url = \"https:\/\/gist.githubusercontent.com\/seankross\/a412dfbd88b3db70b74b\/raw\/5f23f993cd87c283ce766e7ac6b329ee7cc2e1d1\/mtcars.csv\"\n",
    "mtcars = pd.read_csv(url)"
   ],
   "execution_count":75,
   "outputs":[],
   "metadata":{
    "datalore":{
     "node_id":"tvriWGm0Emvnya3jioHsTe",
     "type":"CODE",
     "hide_input_from_viewers":true,
     "hide_output_from_viewers":true
    }
   }
  },
  {
   "cell_type":"code",
   "source":[
    "mtcars.head(3)"
   ],
   "execution_count":76,
   "outputs":[
    {
     "data":{
      "text\/html":[
       "<div>\n",
       "<style scoped>\n",
       "    .dataframe tbody tr th:only-of-type {\n",
       "        vertical-align: middle;\n",
       "    }\n",
       "\n",
       "    .dataframe tbody tr th {\n",
       "        vertical-align: top;\n",
       "    }\n",
       "\n",
       "    .dataframe thead th {\n",
       "        text-align: right;\n",
       "    }\n",
       "<\/style>\n",
       "<table border=\"1\" class=\"dataframe\">\n",
       "  <thead>\n",
       "    <tr style=\"text-align: right;\">\n",
       "      <th><\/th>\n",
       "      <th>model<\/th>\n",
       "      <th>mpg<\/th>\n",
       "      <th>cyl<\/th>\n",
       "      <th>disp<\/th>\n",
       "      <th>hp<\/th>\n",
       "      <th>drat<\/th>\n",
       "      <th>wt<\/th>\n",
       "      <th>qsec<\/th>\n",
       "      <th>vs<\/th>\n",
       "      <th>am<\/th>\n",
       "      <th>gear<\/th>\n",
       "      <th>carb<\/th>\n",
       "    <\/tr>\n",
       "  <\/thead>\n",
       "  <tbody>\n",
       "    <tr>\n",
       "      <th>0<\/th>\n",
       "      <td>Mazda RX4<\/td>\n",
       "      <td>21.0<\/td>\n",
       "      <td>6<\/td>\n",
       "      <td>160.0<\/td>\n",
       "      <td>110<\/td>\n",
       "      <td>3.90<\/td>\n",
       "      <td>2.620<\/td>\n",
       "      <td>16.46<\/td>\n",
       "      <td>0<\/td>\n",
       "      <td>1<\/td>\n",
       "      <td>4<\/td>\n",
       "      <td>4<\/td>\n",
       "    <\/tr>\n",
       "    <tr>\n",
       "      <th>1<\/th>\n",
       "      <td>Mazda RX4 Wag<\/td>\n",
       "      <td>21.0<\/td>\n",
       "      <td>6<\/td>\n",
       "      <td>160.0<\/td>\n",
       "      <td>110<\/td>\n",
       "      <td>3.90<\/td>\n",
       "      <td>2.875<\/td>\n",
       "      <td>17.02<\/td>\n",
       "      <td>0<\/td>\n",
       "      <td>1<\/td>\n",
       "      <td>4<\/td>\n",
       "      <td>4<\/td>\n",
       "    <\/tr>\n",
       "    <tr>\n",
       "      <th>2<\/th>\n",
       "      <td>Datsun 710<\/td>\n",
       "      <td>22.8<\/td>\n",
       "      <td>4<\/td>\n",
       "      <td>108.0<\/td>\n",
       "      <td>93<\/td>\n",
       "      <td>3.85<\/td>\n",
       "      <td>2.320<\/td>\n",
       "      <td>18.61<\/td>\n",
       "      <td>1<\/td>\n",
       "      <td>1<\/td>\n",
       "      <td>4<\/td>\n",
       "      <td>1<\/td>\n",
       "    <\/tr>\n",
       "  <\/tbody>\n",
       "<\/table>\n",
       "<\/div>"
      ]
     },
     "metadata":{},
     "output_type":"display_data"
    }
   ],
   "metadata":{
    "datalore":{
     "node_id":"RDRU4HrLQZUq6i37k7F7gV",
     "type":"CODE",
     "hide_input_from_viewers":true,
     "hide_output_from_viewers":true
    }
   }
  },
  {
   "cell_type":"markdown",
   "source":[
    "## Regression problem"
   ],
   "attachments":{},
   "metadata":{
    "datalore":{
     "node_id":"CGmlzRZ7Tkw9qa7KUAg5BM",
     "type":"MD",
     "hide_input_from_viewers":true,
     "hide_output_from_viewers":true
    }
   }
  },
  {
   "cell_type":"code",
   "source":[
    "from sklearn.linear_model import LinearRegression\n",
    "from sklearn.model_selection import train_test_split\n",
    "\n",
    "## 1. split data\n",
    "y = mtcars[\"mpg\"]\n",
    "X = mtcars[[\"hp\", \"wt\", \"am\"]]\n",
    "\n",
    "X_train, X_test, y_train, y_test = train_test_split(\n",
    "    X, y, test_size=0.20, random_state=19\n",
    ")\n",
    "\n",
    "## 2. train model\n",
    "model = LinearRegression()\n",
    "model.fit(X_train, y_train) ## model fitting\n",
    "\n",
    "## 3. score (predict data)\n",
    "train_error = model.score(X_train, y_train)\n",
    "\n",
    "## 4. evaluate\n",
    "test_error = model.score(X_test, y_test)\n",
    "\n",
    "print(train_error, test_error)"
   ],
   "execution_count":78,
   "outputs":[
    {
     "name":"stdout",
     "text":[
      "0.8237392186558011 0.8955384159803106\n"
     ],
     "output_type":"stream"
    }
   ],
   "metadata":{
    "datalore":{
     "node_id":"UuhGUfjF7e1YGfME9G2nLr",
     "type":"CODE",
     "hide_input_from_viewers":true,
     "hide_output_from_viewers":true
    }
   }
  },
  {
   "cell_type":"code",
   "source":[
    "from sklearn.linear_model import LinearRegression\n",
    "from sklearn.model_selection import train_test_split\n",
    "\n",
    "## 1. split data\n",
    "y = mtcars[\"mpg\"]\n",
    "X = mtcars[[\"hp\", \"wt\", \"am\"]]\n",
    "\n",
    "X_train, X_test, y_train, y_test = train_test_split(\n",
    "    X, y, test_size=0.20, random_state=19\n",
    ")\n",
    "\n",
    "## 2. train model\n",
    "model = LinearRegression()\n",
    "model.fit(X_train, y_train) ## model fitting\n",
    "\n",
    "## 3. score (predict data)\n",
    "train_error = model.score(X_train, y_train)\n",
    "\n",
    "## 4. evaluate\n",
    "test_error = model.score(X_test, y_test)\n",
    "\n",
    "print(train_error, test_error)"
   ],
   "execution_count":79,
   "outputs":[
    {
     "name":"stdout",
     "text":[
      "0.8237392186558011 0.8955384159803106\n"
     ],
     "output_type":"stream"
    }
   ],
   "metadata":{
    "datalore":{
     "node_id":"n1IjFKxt3bnmJ4F1EiMyp3",
     "type":"CODE",
     "hide_input_from_viewers":true,
     "hide_output_from_viewers":true
    }
   }
  },
  {
   "cell_type":"code",
   "source":[
    "from sklearn.tree import DecisionTreeRegressor\n",
    "from sklearn.model_selection import train_test_split\n",
    "\n",
    "## 1. split data\n",
    "y = mtcars[\"mpg\"]\n",
    "X = mtcars[[\"hp\", \"wt\", \"am\"]]\n",
    "\n",
    "X_train, X_test, y_train, y_test = train_test_split(\n",
    "    X, y, test_size=0.20, random_state=19\n",
    ")\n",
    "\n",
    "## 2. train model\n",
    "model = DecisionTreeRegressor()\n",
    "model.fit(X_train, y_train) ## model fitting\n",
    "\n",
    "## 3. score (predict data)\n",
    "train_error = model.score(X_train, y_train)\n",
    "\n",
    "## 4. evaluate\n",
    "test_error = model.score(X_test, y_test)\n",
    "\n",
    "print(train_error, test_error)"
   ],
   "execution_count":80,
   "outputs":[
    {
     "name":"stdout",
     "text":[
      "0.9989225398506333 0.47372447952321517\n"
     ],
     "output_type":"stream"
    }
   ],
   "metadata":{
    "datalore":{
     "node_id":"Jzs0TQrWyFrhY5anZ5gqu1",
     "type":"CODE",
     "hide_input_from_viewers":true,
     "hide_output_from_viewers":true
    }
   }
  },
  {
   "cell_type":"code",
   "source":[
    "def rmse(actual, pred):\n",
    "    error = actual - pred\n",
    "    return np.sqrt(np.mean((error ** 2)))"
   ],
   "execution_count":81,
   "outputs":[],
   "metadata":{
    "datalore":{
     "node_id":"pgJ483GzAMRj3t2vuYYyYr",
     "type":"CODE",
     "hide_input_from_viewers":true,
     "hide_output_from_viewers":true
    }
   }
  },
  {
   "cell_type":"code",
   "source":[
    "actual = np.array([1,2,3])\n",
    "pred = np.array([1,2,1])\n",
    "\n",
    "rmse(actual, pred)"
   ],
   "execution_count":82,
   "outputs":[
    {
     "data":{
      "text\/plain":[
       "1.1547005383792515"
      ]
     },
     "metadata":{},
     "output_type":"display_data"
    }
   ],
   "metadata":{
    "datalore":{
     "node_id":"DcpuO75ZRN7z2JwgQUHp1i",
     "type":"CODE",
     "hide_input_from_viewers":true,
     "hide_output_from_viewers":true
    }
   }
  },
  {
   "cell_type":"markdown",
   "source":[
    "## Classification problem"
   ],
   "attachments":{},
   "metadata":{
    "datalore":{
     "node_id":"dMjA1r196ASO3m0ZCPWco3",
     "type":"MD",
     "hide_input_from_viewers":true,
     "hide_output_from_viewers":true
    }
   }
  },
  {
   "cell_type":"code",
   "source":[
    "from sklearn.linear_model import LogisticRegression\n",
    "from sklearn.model_selection import train_test_split\n",
    "\n",
    "## 1. split data\n",
    "y = mtcars[\"am\"]\n",
    "X = mtcars[[\"hp\", \"wt\", \"cyl\"]]\n",
    "\n",
    "X_train, X_test, y_train, y_test = train_test_split(\n",
    "    X, y, test_size=0.20, random_state=19\n",
    ")\n",
    "\n",
    "## 2. train model\n",
    "model = LogisticRegression()\n",
    "model.fit(X_train, y_train) ## model fitting\n",
    "\n",
    "## 3. score (predict data)\n",
    "train_error = model.score(X_train, y_train)\n",
    "\n",
    "## 4. evaluate\n",
    "test_error = model.score(X_test, y_test)\n",
    "\n",
    "print(train_error, test_error)"
   ],
   "execution_count":83,
   "outputs":[
    {
     "name":"stdout",
     "text":[
      "0.88 1.0\n"
     ],
     "output_type":"stream"
    }
   ],
   "metadata":{
    "datalore":{
     "node_id":"QjhzHlKCrOYWTU7yPXc4qO",
     "type":"CODE",
     "hide_input_from_viewers":true,
     "hide_output_from_viewers":true
    }
   }
  }
 ],
 "metadata":{
  "kernelspec":{
   "display_name":"Python",
   "language":"python",
   "name":"python"
  },
  "datalore":{
   "computation_mode":"JUPYTER",
   "package_manager":"pip",
   "base_environment":"default",
   "packages":[],
   "report_row_ids":[],
   "version":3
  }
 },
 "nbformat":4,
 "nbformat_minor":4
}