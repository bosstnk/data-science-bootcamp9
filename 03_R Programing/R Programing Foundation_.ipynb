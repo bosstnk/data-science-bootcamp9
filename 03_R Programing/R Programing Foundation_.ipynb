{
  "nbformat": 4,
  "nbformat_minor": 0,
  "metadata": {
    "colab": {
      "provenance": [],
      "toc_visible": true
    },
    "kernelspec": {
      "name": "ir",
      "display_name": "R"
    },
    "language_info": {
      "name": "R"
    }
  },
  "cells": [
    {
      "cell_type": "markdown",
      "source": [
        "# Programing Foundation\n",
        "\n",
        "- variable\n",
        "- data type\n",
        "- data structure\n",
        "- function\n",
        "- control flow"
      ],
      "metadata": {
        "id": "aUlJhcTaKK27"
      }
    },
    {
      "cell_type": "markdown",
      "source": [
        "## **Variable**"
      ],
      "metadata": {
        "id": "yPRjvU0gKj1i"
      }
    },
    {
      "cell_type": "code",
      "source": [
        "income <- 35000\n",
        "expense <- 25000\n",
        "saving <- income - expense\n",
        "\n",
        "print(saving)"
      ],
      "metadata": {
        "colab": {
          "base_uri": "https://localhost:8080/"
        },
        "id": "a_YZNNnSKndB",
        "outputId": "8bf5da12-9ce7-4c7f-9e9f-0402ed133e71"
      },
      "execution_count": null,
      "outputs": [
        {
          "output_type": "stream",
          "name": "stdout",
          "text": [
            "[1] 10000\n"
          ]
        }
      ]
    },
    {
      "cell_type": "code",
      "source": [
        "print(income)\n",
        "print(expense)\n",
        "print(saving)"
      ],
      "metadata": {
        "colab": {
          "base_uri": "https://localhost:8080/"
        },
        "id": "-QQi1McOLTyK",
        "outputId": "45b5a9c7-95ee-40fa-d46d-3cb6876278ed"
      },
      "execution_count": null,
      "outputs": [
        {
          "output_type": "stream",
          "name": "stdout",
          "text": [
            "[1] 35000\n",
            "[1] 25000\n",
            "[1] 10000\n"
          ]
        }
      ]
    },
    {
      "cell_type": "code",
      "source": [
        "my_name <- \"Boss\""
      ],
      "metadata": {
        "id": "skh15MXKL4Zk"
      },
      "execution_count": null,
      "outputs": []
    },
    {
      "cell_type": "code",
      "source": [
        "my_name"
      ],
      "metadata": {
        "colab": {
          "base_uri": "https://localhost:8080/",
          "height": 34
        },
        "id": "w3hAUlRGMAF7",
        "outputId": "f4807fdd-d038-48e1-b400-c4e5b9d6367c"
      },
      "execution_count": null,
      "outputs": [
        {
          "output_type": "display_data",
          "data": {
            "text/html": [
              "'Boss'"
            ],
            "text/markdown": "'Boss'",
            "text/latex": "'Boss'",
            "text/plain": [
              "[1] \"Boss\""
            ]
          },
          "metadata": {}
        }
      ]
    },
    {
      "cell_type": "code",
      "source": [
        "# remove\n",
        "rm(my_name)"
      ],
      "metadata": {
        "id": "-d25_Lx7MBeC"
      },
      "execution_count": null,
      "outputs": []
    },
    {
      "cell_type": "code",
      "source": [
        "# saving income for 10 year, interest rate 5%\n",
        "\n",
        "income * (1+0.05)**10"
      ],
      "metadata": {
        "colab": {
          "base_uri": "https://localhost:8080/",
          "height": 34
        },
        "id": "S1k8USnNMVDi",
        "outputId": "159b03c7-4daa-4cfd-9639-be3ca576f95e"
      },
      "execution_count": null,
      "outputs": [
        {
          "output_type": "display_data",
          "data": {
            "text/html": [
              "57011.3119372105"
            ],
            "text/markdown": "57011.3119372105",
            "text/latex": "57011.3119372105",
            "text/plain": [
              "[1] 57011.31"
            ]
          },
          "metadata": {}
        }
      ]
    },
    {
      "cell_type": "code",
      "source": [],
      "metadata": {
        "id": "uWINJFkFNSK6"
      },
      "execution_count": null,
      "outputs": []
    },
    {
      "cell_type": "markdown",
      "source": [
        "## **Data type**\n",
        "\n",
        "- numeric\n",
        "- charecter(text,string)\n",
        "- logical(TRUE,FALSE)\n",
        "- date"
      ],
      "metadata": {
        "id": "vK0lbRzdNn68"
      }
    },
    {
      "cell_type": "code",
      "source": [
        "# numeric\n",
        "gpa <- 3.41\n",
        "print(gpa)"
      ],
      "metadata": {
        "colab": {
          "base_uri": "https://localhost:8080/"
        },
        "id": "54j0RsItNrqa",
        "outputId": "884a39d8-2536-45bf-ad1f-247f60ab3865"
      },
      "execution_count": null,
      "outputs": [
        {
          "output_type": "stream",
          "name": "stdout",
          "text": [
            "[1] 3.41\n"
          ]
        }
      ]
    },
    {
      "cell_type": "code",
      "source": [
        "age <- 23\n",
        "print(age)\n",
        "print(class(age))"
      ],
      "metadata": {
        "colab": {
          "base_uri": "https://localhost:8080/"
        },
        "id": "nStNRVeUOaB6",
        "outputId": "7be1bc68-0a14-4974-aef5-bc85e9de614f"
      },
      "execution_count": null,
      "outputs": [
        {
          "output_type": "stream",
          "name": "stdout",
          "text": [
            "[1] 23\n",
            "[1] \"numeric\"\n"
          ]
        }
      ]
    },
    {
      "cell_type": "code",
      "source": [
        "# charecter\n",
        "class(\"hello world\")"
      ],
      "metadata": {
        "colab": {
          "base_uri": "https://localhost:8080/",
          "height": 34
        },
        "id": "dAAXKo7kOiea",
        "outputId": "815279d8-b1a3-4360-e888-69c1279c4a72"
      },
      "execution_count": null,
      "outputs": [
        {
          "output_type": "display_data",
          "data": {
            "text/html": [
              "'character'"
            ],
            "text/markdown": "'character'",
            "text/latex": "'character'",
            "text/plain": [
              "[1] \"character\""
            ]
          },
          "metadata": {}
        }
      ]
    },
    {
      "cell_type": "code",
      "source": [
        "## concat two charecter\n",
        "paste0(\"hello\",\"world\")"
      ],
      "metadata": {
        "colab": {
          "base_uri": "https://localhost:8080/",
          "height": 34
        },
        "id": "Lb8BE7NMRRl7",
        "outputId": "b0207d0a-156f-480d-b1d6-31682764aed7"
      },
      "execution_count": null,
      "outputs": [
        {
          "output_type": "display_data",
          "data": {
            "text/html": [
              "'helloworld'"
            ],
            "text/markdown": "'helloworld'",
            "text/latex": "'helloworld'",
            "text/plain": [
              "[1] \"helloworld\""
            ]
          },
          "metadata": {}
        }
      ]
    },
    {
      "cell_type": "code",
      "source": [
        "paste(\"hello\",\"world\",\"hahahah\")"
      ],
      "metadata": {
        "colab": {
          "base_uri": "https://localhost:8080/",
          "height": 34
        },
        "id": "qQzQrWfHRke0",
        "outputId": "f34e7173-be3a-46ed-bf78-bae4fb7de65b"
      },
      "execution_count": null,
      "outputs": [
        {
          "output_type": "display_data",
          "data": {
            "text/html": [
              "'hello world hahahah'"
            ],
            "text/markdown": "'hello world hahahah'",
            "text/latex": "'hello world hahahah'",
            "text/plain": [
              "[1] \"hello world hahahah\""
            ]
          },
          "metadata": {}
        }
      ]
    },
    {
      "cell_type": "code",
      "source": [
        "# logical (TRUE,FALSE)\n",
        "class(TRUE)\n",
        "class(T)"
      ],
      "metadata": {
        "colab": {
          "base_uri": "https://localhost:8080/",
          "height": 52
        },
        "id": "97yGOD7dRyCF",
        "outputId": "7bf1fdfb-d451-4640-8b68-d3ba906a1cd5"
      },
      "execution_count": null,
      "outputs": [
        {
          "output_type": "display_data",
          "data": {
            "text/html": [
              "'logical'"
            ],
            "text/markdown": "'logical'",
            "text/latex": "'logical'",
            "text/plain": [
              "[1] \"logical\""
            ]
          },
          "metadata": {}
        },
        {
          "output_type": "display_data",
          "data": {
            "text/html": [
              "'logical'"
            ],
            "text/markdown": "'logical'",
            "text/latex": "'logical'",
            "text/plain": [
              "[1] \"logical\""
            ]
          },
          "metadata": {}
        }
      ]
    },
    {
      "cell_type": "code",
      "source": [
        "1+1==2"
      ],
      "metadata": {
        "colab": {
          "base_uri": "https://localhost:8080/",
          "height": 34
        },
        "id": "kNLKnLstR-6r",
        "outputId": "8731ba31-1f5f-42d1-b197-f1e4b5a4fbb0"
      },
      "execution_count": null,
      "outputs": [
        {
          "output_type": "display_data",
          "data": {
            "text/html": [
              "TRUE"
            ],
            "text/markdown": "TRUE",
            "text/latex": "TRUE",
            "text/plain": [
              "[1] TRUE"
            ]
          },
          "metadata": {}
        }
      ]
    },
    {
      "cell_type": "code",
      "source": [
        "5>3"
      ],
      "metadata": {
        "colab": {
          "base_uri": "https://localhost:8080/",
          "height": 34
        },
        "id": "DzRumdltSKF7",
        "outputId": "71fcb176-139e-4f82-b180-73a86a672769"
      },
      "execution_count": null,
      "outputs": [
        {
          "output_type": "display_data",
          "data": {
            "text/html": [
              "TRUE"
            ],
            "text/markdown": "TRUE",
            "text/latex": "TRUE",
            "text/plain": [
              "[1] TRUE"
            ]
          },
          "metadata": {}
        }
      ]
    },
    {
      "cell_type": "code",
      "source": [
        "# date\n",
        "today_date <- as.Date(\"2023-11-11\")\n",
        "print(today_date)\n",
        "print(class(today_date))"
      ],
      "metadata": {
        "colab": {
          "base_uri": "https://localhost:8080/"
        },
        "id": "g18f0EUFSPfy",
        "outputId": "cacabc38-1281-4b2e-b188-c1912742959b"
      },
      "execution_count": null,
      "outputs": [
        {
          "output_type": "stream",
          "name": "stdout",
          "text": [
            "[1] \"2023-11-11\"\n",
            "[1] \"Date\"\n"
          ]
        }
      ]
    },
    {
      "cell_type": "code",
      "source": [
        "## as.____() chang data type\n",
        "as.integer(FALSE)"
      ],
      "metadata": {
        "colab": {
          "base_uri": "https://localhost:8080/",
          "height": 34
        },
        "id": "2SB4Hlr0Sprr",
        "outputId": "8bb9ac50-0940-4602-e464-23ba29bc4caf"
      },
      "execution_count": null,
      "outputs": [
        {
          "output_type": "display_data",
          "data": {
            "text/html": [
              "0"
            ],
            "text/markdown": "0",
            "text/latex": "0",
            "text/plain": [
              "[1] 0"
            ]
          },
          "metadata": {}
        }
      ]
    },
    {
      "cell_type": "markdown",
      "source": [
        "## **Data stucture**\n",
        "- vector (sigle data type)\n",
        "- matirx (sigle data type)\n",
        "- list\n",
        "- dataframe"
      ],
      "metadata": {
        "id": "ZKv4c-ShVaNF"
      }
    },
    {
      "cell_type": "code",
      "source": [
        "# vector\n",
        "score <- c(88, 90, 50, 65, 76)"
      ],
      "metadata": {
        "id": "coqfNTHxVfMU"
      },
      "execution_count": null,
      "outputs": []
    },
    {
      "cell_type": "code",
      "source": [
        "## vectorization (no need to write loop)\n",
        "score > 80"
      ],
      "metadata": {
        "colab": {
          "base_uri": "https://localhost:8080/",
          "height": 34
        },
        "id": "SuzOLesgWuTm",
        "outputId": "3e58959a-c54a-43d0-84d5-deac78336571"
      },
      "execution_count": null,
      "outputs": [
        {
          "output_type": "display_data",
          "data": {
            "text/html": [
              "<style>\n",
              ".list-inline {list-style: none; margin:0; padding: 0}\n",
              ".list-inline>li {display: inline-block}\n",
              ".list-inline>li:not(:last-child)::after {content: \"\\00b7\"; padding: 0 .5ex}\n",
              "</style>\n",
              "<ol class=list-inline><li>TRUE</li><li>TRUE</li><li>FALSE</li><li>FALSE</li><li>FALSE</li></ol>\n"
            ],
            "text/markdown": "1. TRUE\n2. TRUE\n3. FALSE\n4. FALSE\n5. FALSE\n\n\n",
            "text/latex": "\\begin{enumerate*}\n\\item TRUE\n\\item TRUE\n\\item FALSE\n\\item FALSE\n\\item FALSE\n\\end{enumerate*}\n",
            "text/plain": [
              "[1]  TRUE  TRUE FALSE FALSE FALSE"
            ]
          },
          "metadata": {}
        }
      ]
    },
    {
      "cell_type": "code",
      "source": [
        "## subset\n",
        "score <- c(john = 88,\n",
        "          minnie = 90,\n",
        "          david = 50,\n",
        "          marry = 65,\n",
        "          anna = 76)\n",
        "score"
      ],
      "metadata": {
        "colab": {
          "base_uri": "https://localhost:8080/",
          "height": 34
        },
        "id": "rjyQOs-4WwVc",
        "outputId": "96f8eb9e-d7f7-4aa2-9873-9b7481826a53"
      },
      "execution_count": null,
      "outputs": [
        {
          "output_type": "display_data",
          "data": {
            "text/html": [
              "<style>\n",
              ".dl-inline {width: auto; margin:0; padding: 0}\n",
              ".dl-inline>dt, .dl-inline>dd {float: none; width: auto; display: inline-block}\n",
              ".dl-inline>dt::after {content: \":\\0020\"; padding-right: .5ex}\n",
              ".dl-inline>dt:not(:first-of-type) {padding-left: .5ex}\n",
              "</style><dl class=dl-inline><dt>john</dt><dd>88</dd><dt>minnie</dt><dd>90</dd><dt>david</dt><dd>50</dd><dt>marry</dt><dd>65</dd><dt>anna</dt><dd>76</dd></dl>\n"
            ],
            "text/markdown": "john\n:   88minnie\n:   90david\n:   50marry\n:   65anna\n:   76\n\n",
            "text/latex": "\\begin{description*}\n\\item[john] 88\n\\item[minnie] 90\n\\item[david] 50\n\\item[marry] 65\n\\item[anna] 76\n\\end{description*}\n",
            "text/plain": [
              "  john minnie  david  marry   anna \n",
              "    88     90     50     65     76 "
            ]
          },
          "metadata": {}
        }
      ]
    },
    {
      "cell_type": "code",
      "source": [
        "### index start at 1\n",
        "### by name\n",
        "### by position\n",
        "### by condition\n",
        "score[\"marry\"]\n",
        "score[1]\n",
        "score[score > 80]"
      ],
      "metadata": {
        "colab": {
          "base_uri": "https://localhost:8080/",
          "height": 69
        },
        "id": "K8PTwX8nYexM",
        "outputId": "aae44a35-8fe7-4359-ae87-7063115b0bd5"
      },
      "execution_count": null,
      "outputs": [
        {
          "output_type": "display_data",
          "data": {
            "text/html": [
              "<strong>marry:</strong> 65"
            ],
            "text/markdown": "**marry:** 65",
            "text/latex": "\\textbf{marry:} 65",
            "text/plain": [
              "marry \n",
              "   65 "
            ]
          },
          "metadata": {}
        },
        {
          "output_type": "display_data",
          "data": {
            "text/html": [
              "<strong>john:</strong> 88"
            ],
            "text/markdown": "**john:** 88",
            "text/latex": "\\textbf{john:} 88",
            "text/plain": [
              "john \n",
              "  88 "
            ]
          },
          "metadata": {}
        },
        {
          "output_type": "display_data",
          "data": {
            "text/html": [
              "<style>\n",
              ".dl-inline {width: auto; margin:0; padding: 0}\n",
              ".dl-inline>dt, .dl-inline>dd {float: none; width: auto; display: inline-block}\n",
              ".dl-inline>dt::after {content: \":\\0020\"; padding-right: .5ex}\n",
              ".dl-inline>dt:not(:first-of-type) {padding-left: .5ex}\n",
              "</style><dl class=dl-inline><dt>john</dt><dd>88</dd><dt>minnie</dt><dd>90</dd></dl>\n"
            ],
            "text/markdown": "john\n:   88minnie\n:   90\n\n",
            "text/latex": "\\begin{description*}\n\\item[john] 88\n\\item[minnie] 90\n\\end{description*}\n",
            "text/plain": [
              "  john minnie \n",
              "    88     90 "
            ]
          },
          "metadata": {}
        }
      ]
    },
    {
      "cell_type": "code",
      "source": [
        "## update value\n",
        "score[\"anna\"] <- 70"
      ],
      "metadata": {
        "id": "02CnkGZ5YiCM"
      },
      "execution_count": null,
      "outputs": []
    },
    {
      "cell_type": "code",
      "source": [
        "## friends 5 persons\n",
        "friends <- c(\"boss\",\"toy\",\"john\",\"marry\",\"non\")"
      ],
      "metadata": {
        "id": "s7AfOc4dZTfP"
      },
      "execution_count": null,
      "outputs": []
    },
    {
      "cell_type": "code",
      "source": [
        "paste(\"hi\",friends)"
      ],
      "metadata": {
        "colab": {
          "base_uri": "https://localhost:8080/",
          "height": 34
        },
        "id": "GO-gInYIZ3lu",
        "outputId": "aef18cf0-a546-4f38-f05e-d6793e29a521"
      },
      "execution_count": null,
      "outputs": [
        {
          "output_type": "display_data",
          "data": {
            "text/html": [
              "<style>\n",
              ".list-inline {list-style: none; margin:0; padding: 0}\n",
              ".list-inline>li {display: inline-block}\n",
              ".list-inline>li:not(:last-child)::after {content: \"\\00b7\"; padding: 0 .5ex}\n",
              "</style>\n",
              "<ol class=list-inline><li>'hi boss'</li><li>'hi toy'</li><li>'hi john'</li><li>'hi marry'</li><li>'hi non'</li></ol>\n"
            ],
            "text/markdown": "1. 'hi boss'\n2. 'hi toy'\n3. 'hi john'\n4. 'hi marry'\n5. 'hi non'\n\n\n",
            "text/latex": "\\begin{enumerate*}\n\\item 'hi boss'\n\\item 'hi toy'\n\\item 'hi john'\n\\item 'hi marry'\n\\item 'hi non'\n\\end{enumerate*}\n",
            "text/plain": [
              "[1] \"hi boss\"  \"hi toy\"   \"hi john\"  \"hi marry\" \"hi non\"  "
            ]
          },
          "metadata": {}
        }
      ]
    },
    {
      "cell_type": "code",
      "source": [
        "# matrix => 2 dimensions\n",
        "m <- matrix(1:10, ncol = 5)\n",
        "m1 <- matrix(1:10, ncol = 5, byrow = T)\n",
        "m\n",
        "m1"
      ],
      "metadata": {
        "colab": {
          "base_uri": "https://localhost:8080/",
          "height": 212
        },
        "id": "d0alUiwQaBy8",
        "outputId": "53f0ed69-c182-48fc-c195-f19d9024afe2"
      },
      "execution_count": null,
      "outputs": [
        {
          "output_type": "display_data",
          "data": {
            "text/html": [
              "<table class=\"dataframe\">\n",
              "<caption>A matrix: 2 × 5 of type int</caption>\n",
              "<tbody>\n",
              "\t<tr><td>1</td><td>3</td><td>5</td><td>7</td><td> 9</td></tr>\n",
              "\t<tr><td>2</td><td>4</td><td>6</td><td>8</td><td>10</td></tr>\n",
              "</tbody>\n",
              "</table>\n"
            ],
            "text/markdown": "\nA matrix: 2 × 5 of type int\n\n| 1 | 3 | 5 | 7 |  9 |\n| 2 | 4 | 6 | 8 | 10 |\n\n",
            "text/latex": "A matrix: 2 × 5 of type int\n\\begin{tabular}{lllll}\n\t 1 & 3 & 5 & 7 &  9\\\\\n\t 2 & 4 & 6 & 8 & 10\\\\\n\\end{tabular}\n",
            "text/plain": [
              "     [,1] [,2] [,3] [,4] [,5]\n",
              "[1,] 1    3    5    7     9  \n",
              "[2,] 2    4    6    8    10  "
            ]
          },
          "metadata": {}
        },
        {
          "output_type": "display_data",
          "data": {
            "text/html": [
              "<table class=\"dataframe\">\n",
              "<caption>A matrix: 2 × 5 of type int</caption>\n",
              "<tbody>\n",
              "\t<tr><td>1</td><td>2</td><td>3</td><td>4</td><td> 5</td></tr>\n",
              "\t<tr><td>6</td><td>7</td><td>8</td><td>9</td><td>10</td></tr>\n",
              "</tbody>\n",
              "</table>\n"
            ],
            "text/markdown": "\nA matrix: 2 × 5 of type int\n\n| 1 | 2 | 3 | 4 |  5 |\n| 6 | 7 | 8 | 9 | 10 |\n\n",
            "text/latex": "A matrix: 2 × 5 of type int\n\\begin{tabular}{lllll}\n\t 1 & 2 & 3 & 4 &  5\\\\\n\t 6 & 7 & 8 & 9 & 10\\\\\n\\end{tabular}\n",
            "text/plain": [
              "     [,1] [,2] [,3] [,4] [,5]\n",
              "[1,] 1    2    3    4     5  \n",
              "[2,] 6    7    8    9    10  "
            ]
          },
          "metadata": {}
        }
      ]
    },
    {
      "cell_type": "code",
      "source": [
        "## matrix mutiplication\n",
        "m1 <- matrix(c(2,4,5,10), ncol = 2)\n",
        "m2 <- matrix(c(1,1,5,2), ncol = 2)\n",
        "\n",
        "m1;m2"
      ],
      "metadata": {
        "id": "QHJIrj1vaq6F",
        "colab": {
          "base_uri": "https://localhost:8080/",
          "height": 299
        },
        "outputId": "fab2e2fa-52fd-471a-b41f-5331881a78f5"
      },
      "execution_count": null,
      "outputs": [
        {
          "output_type": "display_data",
          "data": {
            "text/html": [
              "<table class=\"dataframe\">\n",
              "<caption>A matrix: 2 × 2 of type dbl</caption>\n",
              "<tbody>\n",
              "\t<tr><td>2</td><td> 5</td></tr>\n",
              "\t<tr><td>4</td><td>10</td></tr>\n",
              "</tbody>\n",
              "</table>\n"
            ],
            "text/markdown": "\nA matrix: 2 × 2 of type dbl\n\n| 2 |  5 |\n| 4 | 10 |\n\n",
            "text/latex": "A matrix: 2 × 2 of type dbl\n\\begin{tabular}{ll}\n\t 2 &  5\\\\\n\t 4 & 10\\\\\n\\end{tabular}\n",
            "text/plain": [
              "     [,1] [,2]\n",
              "[1,] 2     5  \n",
              "[2,] 4    10  "
            ]
          },
          "metadata": {}
        },
        {
          "output_type": "display_data",
          "data": {
            "text/html": [
              "<table class=\"dataframe\">\n",
              "<caption>A matrix: 2 × 2 of type dbl</caption>\n",
              "<tbody>\n",
              "\t<tr><td>1</td><td>5</td></tr>\n",
              "\t<tr><td>1</td><td>2</td></tr>\n",
              "</tbody>\n",
              "</table>\n"
            ],
            "text/markdown": "\nA matrix: 2 × 2 of type dbl\n\n| 1 | 5 |\n| 1 | 2 |\n\n",
            "text/latex": "A matrix: 2 × 2 of type dbl\n\\begin{tabular}{ll}\n\t 1 & 5\\\\\n\t 1 & 2\\\\\n\\end{tabular}\n",
            "text/plain": [
              "     [,1] [,2]\n",
              "[1,] 1    5   \n",
              "[2,] 1    2   "
            ]
          },
          "metadata": {}
        }
      ]
    },
    {
      "cell_type": "code",
      "source": [
        "m1*m2"
      ],
      "metadata": {
        "colab": {
          "base_uri": "https://localhost:8080/",
          "height": 149
        },
        "id": "kEaHQiTpKXWp",
        "outputId": "f176d7ad-4d1a-4394-a917-dfb7c9eb73b6"
      },
      "execution_count": null,
      "outputs": [
        {
          "output_type": "display_data",
          "data": {
            "text/html": [
              "<table class=\"dataframe\">\n",
              "<caption>A matrix: 2 × 2 of type dbl</caption>\n",
              "<tbody>\n",
              "\t<tr><td>2</td><td>25</td></tr>\n",
              "\t<tr><td>4</td><td>20</td></tr>\n",
              "</tbody>\n",
              "</table>\n"
            ],
            "text/markdown": "\nA matrix: 2 × 2 of type dbl\n\n| 2 | 25 |\n| 4 | 20 |\n\n",
            "text/latex": "A matrix: 2 × 2 of type dbl\n\\begin{tabular}{ll}\n\t 2 & 25\\\\\n\t 4 & 20\\\\\n\\end{tabular}\n",
            "text/plain": [
              "     [,1] [,2]\n",
              "[1,] 2    25  \n",
              "[2,] 4    20  "
            ]
          },
          "metadata": {}
        }
      ]
    },
    {
      "cell_type": "code",
      "source": [
        "## dot operation\n",
        "m1 %*% m2"
      ],
      "metadata": {
        "colab": {
          "base_uri": "https://localhost:8080/",
          "height": 132
        },
        "id": "Ggw7yvqGKqhP",
        "outputId": "a5457a4e-98b9-462e-fe83-9ff7f88756f2"
      },
      "execution_count": null,
      "outputs": [
        {
          "output_type": "display_data",
          "data": {
            "text/html": [
              "<table class=\"dataframe\">\n",
              "<caption>A matrix: 2 × 2 of type dbl</caption>\n",
              "<tbody>\n",
              "\t<tr><td> 7</td><td>20</td></tr>\n",
              "\t<tr><td>14</td><td>40</td></tr>\n",
              "</tbody>\n",
              "</table>\n"
            ],
            "text/markdown": "\nA matrix: 2 × 2 of type dbl\n\n|  7 | 20 |\n| 14 | 40 |\n\n",
            "text/latex": "A matrix: 2 × 2 of type dbl\n\\begin{tabular}{ll}\n\t  7 & 20\\\\\n\t 14 & 40\\\\\n\\end{tabular}\n",
            "text/plain": [
              "     [,1] [,2]\n",
              "[1,]  7   20  \n",
              "[2,] 14   40  "
            ]
          },
          "metadata": {}
        }
      ]
    },
    {
      "cell_type": "code",
      "source": [
        "## dim (dimension)\n",
        "dim(m1)"
      ],
      "metadata": {
        "colab": {
          "base_uri": "https://localhost:8080/",
          "height": 34
        },
        "id": "zN69Fx3xLA8G",
        "outputId": "13c1c29d-ec49-45ec-e7e2-507d5d3f1a35"
      },
      "execution_count": null,
      "outputs": [
        {
          "output_type": "display_data",
          "data": {
            "text/html": [
              "<style>\n",
              ".list-inline {list-style: none; margin:0; padding: 0}\n",
              ".list-inline>li {display: inline-block}\n",
              ".list-inline>li:not(:last-child)::after {content: \"\\00b7\"; padding: 0 .5ex}\n",
              "</style>\n",
              "<ol class=list-inline><li>2</li><li>2</li></ol>\n"
            ],
            "text/markdown": "1. 2\n2. 2\n\n\n",
            "text/latex": "\\begin{enumerate*}\n\\item 2\n\\item 2\n\\end{enumerate*}\n",
            "text/plain": [
              "[1] 2 2"
            ]
          },
          "metadata": {}
        }
      ]
    },
    {
      "cell_type": "code",
      "source": [
        "# list , dataframe\n",
        "customer01 <- list(\n",
        "  name = \"boss\",\n",
        "  age = 23,\n",
        "  city = \"bangkok\",\n",
        "  favorite_films = c(\"Dark knight\",\"Iron man\")\n",
        ")\n",
        "\n",
        "customer02 <- list(\n",
        "  name = \"lisa\",\n",
        "  age = 21,\n",
        "  city = \"bangkok\",\n",
        "  favorite_films = c(\"About time\",\"The conjuring\")\n",
        ")\n",
        "## nested list\n",
        "list_customers <- list(customer01,customer02)"
      ],
      "metadata": {
        "id": "1LXaGdybLKy-"
      },
      "execution_count": null,
      "outputs": []
    },
    {
      "cell_type": "code",
      "source": [
        "my_list[\"age\"] ## return list"
      ],
      "metadata": {
        "colab": {
          "base_uri": "https://localhost:8080/",
          "height": 34
        },
        "id": "m0s7OxdlL-iY",
        "outputId": "a3fc42a6-34b6-4a80-e811-1ec41d63cd3a"
      },
      "execution_count": null,
      "outputs": [
        {
          "output_type": "display_data",
          "data": {
            "text/html": [
              "<strong>$age</strong> = 23"
            ],
            "text/markdown": "**$age** = 23",
            "text/latex": "\\textbf{\\$age} = 23",
            "text/plain": [
              "$age\n",
              "[1] 23\n"
            ]
          },
          "metadata": {}
        }
      ]
    },
    {
      "cell_type": "code",
      "source": [
        "my_list[[\"age\"]] ## return value"
      ],
      "metadata": {
        "id": "v570NtxBMId_",
        "colab": {
          "base_uri": "https://localhost:8080/",
          "height": 34
        },
        "outputId": "7fcbbaf8-92b3-4cc6-9c0b-5c8fd5c32cc9"
      },
      "execution_count": null,
      "outputs": [
        {
          "output_type": "display_data",
          "data": {
            "text/html": [
              "23"
            ],
            "text/markdown": "23",
            "text/latex": "23",
            "text/plain": [
              "[1] 23"
            ]
          },
          "metadata": {}
        }
      ]
    },
    {
      "cell_type": "code",
      "source": [
        "my_list[\"favorite_films\"]"
      ],
      "metadata": {
        "colab": {
          "base_uri": "https://localhost:8080/",
          "height": 52
        },
        "id": "wGCcgEYuMksw",
        "outputId": "843c091f-f753-45a1-9286-8c4b19abac03"
      },
      "execution_count": null,
      "outputs": [
        {
          "output_type": "display_data",
          "data": {
            "text/html": [
              "<strong>$favorite_films</strong> = <style>\n",
              ".list-inline {list-style: none; margin:0; padding: 0}\n",
              ".list-inline>li {display: inline-block}\n",
              ".list-inline>li:not(:last-child)::after {content: \"\\00b7\"; padding: 0 .5ex}\n",
              "</style>\n",
              "<ol class=list-inline><li>'Dark knight'</li><li>'Iron man'</li></ol>\n"
            ],
            "text/markdown": "**$favorite_films** = 1. 'Dark knight'\n2. 'Iron man'\n\n\n",
            "text/latex": "\\textbf{\\$favorite\\_films} = \\begin{enumerate*}\n\\item 'Dark knight'\n\\item 'Iron man'\n\\end{enumerate*}\n",
            "text/plain": [
              "$favorite_films\n",
              "[1] \"Dark knight\" \"Iron man\"   \n"
            ]
          },
          "metadata": {}
        }
      ]
    },
    {
      "cell_type": "code",
      "source": [
        "my_list[[\"favorite_films\"]][1]"
      ],
      "metadata": {
        "id": "e9AxtDXcMWUv",
        "colab": {
          "base_uri": "https://localhost:8080/",
          "height": 34
        },
        "outputId": "f47a822c-225d-4b0b-8631-ae239ff5759e"
      },
      "execution_count": null,
      "outputs": [
        {
          "output_type": "display_data",
          "data": {
            "text/html": [
              "'Dark knight'"
            ],
            "text/markdown": "'Dark knight'",
            "text/latex": "'Dark knight'",
            "text/plain": [
              "[1] \"Dark knight\""
            ]
          },
          "metadata": {}
        }
      ]
    },
    {
      "cell_type": "code",
      "source": [
        "list_customers[[1]][\"age\"]"
      ],
      "metadata": {
        "colab": {
          "base_uri": "https://localhost:8080/",
          "height": 34
        },
        "id": "4WG4VJ5-M1kQ",
        "outputId": "b7e070a4-9ea3-40a4-a3b4-5e88458d1c0b"
      },
      "execution_count": null,
      "outputs": [
        {
          "output_type": "display_data",
          "data": {
            "text/html": [
              "<strong>$age</strong> = 23"
            ],
            "text/markdown": "**$age** = 23",
            "text/latex": "\\textbf{\\$age} = 23",
            "text/plain": [
              "$age\n",
              "[1] 23\n"
            ]
          },
          "metadata": {}
        }
      ]
    },
    {
      "cell_type": "code",
      "source": [
        "# dataframe (the most important in data analyst role)\n",
        "\n",
        "## create  a new dataframe from scratch\n",
        "df <- data.frame(\n",
        "    id = 1:5,\n",
        "    name = c(\"toy\",\"john\",\"marry\",\"jane\",\"anne\"),\n",
        "    age = c(28,30,31,22,25),\n",
        "    movie_lover = c(T,T,F,F,T)\n",
        ")\n"
      ],
      "metadata": {
        "id": "tVEJtY_lOAnJ"
      },
      "execution_count": null,
      "outputs": []
    },
    {
      "cell_type": "code",
      "source": [
        "df"
      ],
      "metadata": {
        "colab": {
          "base_uri": "https://localhost:8080/",
          "height": 255
        },
        "id": "Y5vwZHqudj-0",
        "outputId": "d0f16cd2-dd84-42bf-b9b4-c7dacf1f66ec"
      },
      "execution_count": null,
      "outputs": [
        {
          "output_type": "display_data",
          "data": {
            "text/html": [
              "<table class=\"dataframe\">\n",
              "<caption>A data.frame: 5 × 4</caption>\n",
              "<thead>\n",
              "\t<tr><th scope=col>id</th><th scope=col>name</th><th scope=col>age</th><th scope=col>movie_lover</th></tr>\n",
              "\t<tr><th scope=col>&lt;int&gt;</th><th scope=col>&lt;chr&gt;</th><th scope=col>&lt;dbl&gt;</th><th scope=col>&lt;lgl&gt;</th></tr>\n",
              "</thead>\n",
              "<tbody>\n",
              "\t<tr><td>1</td><td>toy  </td><td>28</td><td> TRUE</td></tr>\n",
              "\t<tr><td>2</td><td>john </td><td>30</td><td> TRUE</td></tr>\n",
              "\t<tr><td>3</td><td>marry</td><td>31</td><td>FALSE</td></tr>\n",
              "\t<tr><td>4</td><td>jane </td><td>22</td><td>FALSE</td></tr>\n",
              "\t<tr><td>5</td><td>anne </td><td>25</td><td> TRUE</td></tr>\n",
              "</tbody>\n",
              "</table>\n"
            ],
            "text/markdown": "\nA data.frame: 5 × 4\n\n| id &lt;int&gt; | name &lt;chr&gt; | age &lt;dbl&gt; | movie_lover &lt;lgl&gt; |\n|---|---|---|---|\n| 1 | toy   | 28 |  TRUE |\n| 2 | john  | 30 |  TRUE |\n| 3 | marry | 31 | FALSE |\n| 4 | jane  | 22 | FALSE |\n| 5 | anne  | 25 |  TRUE |\n\n",
            "text/latex": "A data.frame: 5 × 4\n\\begin{tabular}{llll}\n id & name & age & movie\\_lover\\\\\n <int> & <chr> & <dbl> & <lgl>\\\\\n\\hline\n\t 1 & toy   & 28 &  TRUE\\\\\n\t 2 & john  & 30 &  TRUE\\\\\n\t 3 & marry & 31 & FALSE\\\\\n\t 4 & jane  & 22 & FALSE\\\\\n\t 5 & anne  & 25 &  TRUE\\\\\n\\end{tabular}\n",
            "text/plain": [
              "  id name  age movie_lover\n",
              "1 1  toy   28   TRUE      \n",
              "2 2  john  30   TRUE      \n",
              "3 3  marry 31  FALSE      \n",
              "4 4  jane  22  FALSE      \n",
              "5 5  anne  25   TRUE      "
            ]
          },
          "metadata": {}
        }
      ]
    },
    {
      "cell_type": "code",
      "source": [
        "## subset dataframe\n",
        "df[1:3,1]"
      ],
      "metadata": {
        "colab": {
          "base_uri": "https://localhost:8080/",
          "height": 34
        },
        "id": "_EKBV8NXdm4x",
        "outputId": "67a4339e-8950-4663-ba98-842bb4109fc8"
      },
      "execution_count": null,
      "outputs": [
        {
          "output_type": "display_data",
          "data": {
            "text/html": [
              "<style>\n",
              ".list-inline {list-style: none; margin:0; padding: 0}\n",
              ".list-inline>li {display: inline-block}\n",
              ".list-inline>li:not(:last-child)::after {content: \"\\00b7\"; padding: 0 .5ex}\n",
              "</style>\n",
              "<ol class=list-inline><li>1</li><li>2</li><li>3</li></ol>\n"
            ],
            "text/markdown": "1. 1\n2. 2\n3. 3\n\n\n",
            "text/latex": "\\begin{enumerate*}\n\\item 1\n\\item 2\n\\item 3\n\\end{enumerate*}\n",
            "text/plain": [
              "[1] 1 2 3"
            ]
          },
          "metadata": {}
        }
      ]
    },
    {
      "cell_type": "code",
      "source": [
        "df[1:3, ]"
      ],
      "metadata": {
        "colab": {
          "base_uri": "https://localhost:8080/",
          "height": 192
        },
        "id": "W9wcPB1AeKnS",
        "outputId": "741043ca-88c0-4cce-fc47-15f5df7959ea"
      },
      "execution_count": null,
      "outputs": [
        {
          "output_type": "display_data",
          "data": {
            "text/html": [
              "<table class=\"dataframe\">\n",
              "<caption>A data.frame: 3 × 4</caption>\n",
              "<thead>\n",
              "\t<tr><th></th><th scope=col>id</th><th scope=col>name</th><th scope=col>age</th><th scope=col>movie_lover</th></tr>\n",
              "\t<tr><th></th><th scope=col>&lt;int&gt;</th><th scope=col>&lt;chr&gt;</th><th scope=col>&lt;dbl&gt;</th><th scope=col>&lt;lgl&gt;</th></tr>\n",
              "</thead>\n",
              "<tbody>\n",
              "\t<tr><th scope=row>1</th><td>1</td><td>toy  </td><td>28</td><td> TRUE</td></tr>\n",
              "\t<tr><th scope=row>2</th><td>2</td><td>john </td><td>30</td><td> TRUE</td></tr>\n",
              "\t<tr><th scope=row>3</th><td>3</td><td>marry</td><td>31</td><td>FALSE</td></tr>\n",
              "</tbody>\n",
              "</table>\n"
            ],
            "text/markdown": "\nA data.frame: 3 × 4\n\n| <!--/--> | id &lt;int&gt; | name &lt;chr&gt; | age &lt;dbl&gt; | movie_lover &lt;lgl&gt; |\n|---|---|---|---|---|\n| 1 | 1 | toy   | 28 |  TRUE |\n| 2 | 2 | john  | 30 |  TRUE |\n| 3 | 3 | marry | 31 | FALSE |\n\n",
            "text/latex": "A data.frame: 3 × 4\n\\begin{tabular}{r|llll}\n  & id & name & age & movie\\_lover\\\\\n  & <int> & <chr> & <dbl> & <lgl>\\\\\n\\hline\n\t1 & 1 & toy   & 28 &  TRUE\\\\\n\t2 & 2 & john  & 30 &  TRUE\\\\\n\t3 & 3 & marry & 31 & FALSE\\\\\n\\end{tabular}\n",
            "text/plain": [
              "  id name  age movie_lover\n",
              "1 1  toy   28   TRUE      \n",
              "2 2  john  30   TRUE      \n",
              "3 3  marry 31  FALSE      "
            ]
          },
          "metadata": {}
        }
      ]
    },
    {
      "cell_type": "code",
      "source": [
        "df[c(1,3,5), ]"
      ],
      "metadata": {
        "colab": {
          "base_uri": "https://localhost:8080/",
          "height": 192
        },
        "id": "Dq8x4MwHeN_b",
        "outputId": "7beaaf1e-a57b-4736-f48a-2714cfc2ab4b"
      },
      "execution_count": null,
      "outputs": [
        {
          "output_type": "display_data",
          "data": {
            "text/html": [
              "<table class=\"dataframe\">\n",
              "<caption>A data.frame: 3 × 4</caption>\n",
              "<thead>\n",
              "\t<tr><th></th><th scope=col>id</th><th scope=col>name</th><th scope=col>age</th><th scope=col>movie_lover</th></tr>\n",
              "\t<tr><th></th><th scope=col>&lt;int&gt;</th><th scope=col>&lt;chr&gt;</th><th scope=col>&lt;dbl&gt;</th><th scope=col>&lt;lgl&gt;</th></tr>\n",
              "</thead>\n",
              "<tbody>\n",
              "\t<tr><th scope=row>1</th><td>1</td><td>toy  </td><td>28</td><td> TRUE</td></tr>\n",
              "\t<tr><th scope=row>3</th><td>3</td><td>marry</td><td>31</td><td>FALSE</td></tr>\n",
              "\t<tr><th scope=row>5</th><td>5</td><td>anne </td><td>25</td><td> TRUE</td></tr>\n",
              "</tbody>\n",
              "</table>\n"
            ],
            "text/markdown": "\nA data.frame: 3 × 4\n\n| <!--/--> | id &lt;int&gt; | name &lt;chr&gt; | age &lt;dbl&gt; | movie_lover &lt;lgl&gt; |\n|---|---|---|---|---|\n| 1 | 1 | toy   | 28 |  TRUE |\n| 3 | 3 | marry | 31 | FALSE |\n| 5 | 5 | anne  | 25 |  TRUE |\n\n",
            "text/latex": "A data.frame: 3 × 4\n\\begin{tabular}{r|llll}\n  & id & name & age & movie\\_lover\\\\\n  & <int> & <chr> & <dbl> & <lgl>\\\\\n\\hline\n\t1 & 1 & toy   & 28 &  TRUE\\\\\n\t3 & 3 & marry & 31 & FALSE\\\\\n\t5 & 5 & anne  & 25 &  TRUE\\\\\n\\end{tabular}\n",
            "text/plain": [
              "  id name  age movie_lover\n",
              "1 1  toy   28   TRUE      \n",
              "3 3  marry 31  FALSE      \n",
              "5 5  anne  25   TRUE      "
            ]
          },
          "metadata": {}
        }
      ]
    },
    {
      "cell_type": "code",
      "source": [
        "df[!df$movie_lover, ]"
      ],
      "metadata": {
        "colab": {
          "base_uri": "https://localhost:8080/",
          "height": 161
        },
        "id": "fBDh0-0SeYAb",
        "outputId": "e3d4fbef-b302-4acd-aa5b-e380f65e5498"
      },
      "execution_count": null,
      "outputs": [
        {
          "output_type": "display_data",
          "data": {
            "text/html": [
              "<table class=\"dataframe\">\n",
              "<caption>A data.frame: 2 × 4</caption>\n",
              "<thead>\n",
              "\t<tr><th></th><th scope=col>id</th><th scope=col>name</th><th scope=col>age</th><th scope=col>movie_lover</th></tr>\n",
              "\t<tr><th></th><th scope=col>&lt;int&gt;</th><th scope=col>&lt;chr&gt;</th><th scope=col>&lt;dbl&gt;</th><th scope=col>&lt;lgl&gt;</th></tr>\n",
              "</thead>\n",
              "<tbody>\n",
              "\t<tr><th scope=row>3</th><td>3</td><td>marry</td><td>31</td><td>FALSE</td></tr>\n",
              "\t<tr><th scope=row>4</th><td>4</td><td>jane </td><td>22</td><td>FALSE</td></tr>\n",
              "</tbody>\n",
              "</table>\n"
            ],
            "text/markdown": "\nA data.frame: 2 × 4\n\n| <!--/--> | id &lt;int&gt; | name &lt;chr&gt; | age &lt;dbl&gt; | movie_lover &lt;lgl&gt; |\n|---|---|---|---|---|\n| 3 | 3 | marry | 31 | FALSE |\n| 4 | 4 | jane  | 22 | FALSE |\n\n",
            "text/latex": "A data.frame: 2 × 4\n\\begin{tabular}{r|llll}\n  & id & name & age & movie\\_lover\\\\\n  & <int> & <chr> & <dbl> & <lgl>\\\\\n\\hline\n\t3 & 3 & marry & 31 & FALSE\\\\\n\t4 & 4 & jane  & 22 & FALSE\\\\\n\\end{tabular}\n",
            "text/plain": [
              "  id name  age movie_lover\n",
              "3 3  marry 31  FALSE      \n",
              "4 4  jane  22  FALSE      "
            ]
          },
          "metadata": {}
        }
      ]
    },
    {
      "cell_type": "code",
      "source": [
        "### by condition\n",
        "#### AND\n",
        "df[df$age >= 30 & df$movie_lover, ]"
      ],
      "metadata": {
        "colab": {
          "base_uri": "https://localhost:8080/",
          "height": 129
        },
        "id": "2x9lNTtKefxa",
        "outputId": "cfc754a8-e575-4264-f164-f8ce2cc6479f"
      },
      "execution_count": null,
      "outputs": [
        {
          "output_type": "display_data",
          "data": {
            "text/html": [
              "<table class=\"dataframe\">\n",
              "<caption>A data.frame: 1 × 4</caption>\n",
              "<thead>\n",
              "\t<tr><th></th><th scope=col>id</th><th scope=col>name</th><th scope=col>age</th><th scope=col>movie_lover</th></tr>\n",
              "\t<tr><th></th><th scope=col>&lt;int&gt;</th><th scope=col>&lt;chr&gt;</th><th scope=col>&lt;dbl&gt;</th><th scope=col>&lt;lgl&gt;</th></tr>\n",
              "</thead>\n",
              "<tbody>\n",
              "\t<tr><th scope=row>2</th><td>2</td><td>john</td><td>30</td><td>TRUE</td></tr>\n",
              "</tbody>\n",
              "</table>\n"
            ],
            "text/markdown": "\nA data.frame: 1 × 4\n\n| <!--/--> | id &lt;int&gt; | name &lt;chr&gt; | age &lt;dbl&gt; | movie_lover &lt;lgl&gt; |\n|---|---|---|---|---|\n| 2 | 2 | john | 30 | TRUE |\n\n",
            "text/latex": "A data.frame: 1 × 4\n\\begin{tabular}{r|llll}\n  & id & name & age & movie\\_lover\\\\\n  & <int> & <chr> & <dbl> & <lgl>\\\\\n\\hline\n\t2 & 2 & john & 30 & TRUE\\\\\n\\end{tabular}\n",
            "text/plain": [
              "  id name age movie_lover\n",
              "2 2  john 30  TRUE       "
            ]
          },
          "metadata": {}
        }
      ]
    },
    {
      "cell_type": "code",
      "source": [
        "#### OR\n",
        "df[df$age >= 30 | df$movie_lover, ]\n"
      ],
      "metadata": {
        "colab": {
          "base_uri": "https://localhost:8080/",
          "height": 223
        },
        "id": "XtUewF27fIH8",
        "outputId": "67a6bfc5-6835-401f-9763-2654225b4c9a"
      },
      "execution_count": null,
      "outputs": [
        {
          "output_type": "display_data",
          "data": {
            "text/html": [
              "<table class=\"dataframe\">\n",
              "<caption>A data.frame: 4 × 4</caption>\n",
              "<thead>\n",
              "\t<tr><th></th><th scope=col>id</th><th scope=col>name</th><th scope=col>age</th><th scope=col>movie_lover</th></tr>\n",
              "\t<tr><th></th><th scope=col>&lt;int&gt;</th><th scope=col>&lt;chr&gt;</th><th scope=col>&lt;dbl&gt;</th><th scope=col>&lt;lgl&gt;</th></tr>\n",
              "</thead>\n",
              "<tbody>\n",
              "\t<tr><th scope=row>1</th><td>1</td><td>toy  </td><td>28</td><td> TRUE</td></tr>\n",
              "\t<tr><th scope=row>2</th><td>2</td><td>john </td><td>30</td><td> TRUE</td></tr>\n",
              "\t<tr><th scope=row>3</th><td>3</td><td>marry</td><td>31</td><td>FALSE</td></tr>\n",
              "\t<tr><th scope=row>5</th><td>5</td><td>anne </td><td>25</td><td> TRUE</td></tr>\n",
              "</tbody>\n",
              "</table>\n"
            ],
            "text/markdown": "\nA data.frame: 4 × 4\n\n| <!--/--> | id &lt;int&gt; | name &lt;chr&gt; | age &lt;dbl&gt; | movie_lover &lt;lgl&gt; |\n|---|---|---|---|---|\n| 1 | 1 | toy   | 28 |  TRUE |\n| 2 | 2 | john  | 30 |  TRUE |\n| 3 | 3 | marry | 31 | FALSE |\n| 5 | 5 | anne  | 25 |  TRUE |\n\n",
            "text/latex": "A data.frame: 4 × 4\n\\begin{tabular}{r|llll}\n  & id & name & age & movie\\_lover\\\\\n  & <int> & <chr> & <dbl> & <lgl>\\\\\n\\hline\n\t1 & 1 & toy   & 28 &  TRUE\\\\\n\t2 & 2 & john  & 30 &  TRUE\\\\\n\t3 & 3 & marry & 31 & FALSE\\\\\n\t5 & 5 & anne  & 25 &  TRUE\\\\\n\\end{tabular}\n",
            "text/plain": [
              "  id name  age movie_lover\n",
              "1 1  toy   28   TRUE      \n",
              "2 2  john  30   TRUE      \n",
              "3 3  marry 31  FALSE      \n",
              "5 5  anne  25   TRUE      "
            ]
          },
          "metadata": {}
        }
      ]
    },
    {
      "cell_type": "code",
      "source": [
        "## create city (new column)\n",
        "df$city <- c(rep(\"BKK\",3),rep(\"London\",2))\n",
        "df"
      ],
      "metadata": {
        "colab": {
          "base_uri": "https://localhost:8080/",
          "height": 255
        },
        "id": "R0Re5PjbfnW0",
        "outputId": "2ff59036-c142-40ff-e78f-f0430f65cab2"
      },
      "execution_count": null,
      "outputs": [
        {
          "output_type": "display_data",
          "data": {
            "text/html": [
              "<table class=\"dataframe\">\n",
              "<caption>A data.frame: 5 × 5</caption>\n",
              "<thead>\n",
              "\t<tr><th scope=col>id</th><th scope=col>name</th><th scope=col>age</th><th scope=col>movie_lover</th><th scope=col>city</th></tr>\n",
              "\t<tr><th scope=col>&lt;int&gt;</th><th scope=col>&lt;chr&gt;</th><th scope=col>&lt;dbl&gt;</th><th scope=col>&lt;lgl&gt;</th><th scope=col>&lt;chr&gt;</th></tr>\n",
              "</thead>\n",
              "<tbody>\n",
              "\t<tr><td>1</td><td>toy  </td><td>28</td><td> TRUE</td><td>BKK   </td></tr>\n",
              "\t<tr><td>2</td><td>john </td><td>30</td><td> TRUE</td><td>BKK   </td></tr>\n",
              "\t<tr><td>3</td><td>marry</td><td>31</td><td>FALSE</td><td>BKK   </td></tr>\n",
              "\t<tr><td>4</td><td>jane </td><td>22</td><td>FALSE</td><td>London</td></tr>\n",
              "\t<tr><td>5</td><td>anne </td><td>25</td><td> TRUE</td><td>London</td></tr>\n",
              "</tbody>\n",
              "</table>\n"
            ],
            "text/markdown": "\nA data.frame: 5 × 5\n\n| id &lt;int&gt; | name &lt;chr&gt; | age &lt;dbl&gt; | movie_lover &lt;lgl&gt; | city &lt;chr&gt; |\n|---|---|---|---|---|\n| 1 | toy   | 28 |  TRUE | BKK    |\n| 2 | john  | 30 |  TRUE | BKK    |\n| 3 | marry | 31 | FALSE | BKK    |\n| 4 | jane  | 22 | FALSE | London |\n| 5 | anne  | 25 |  TRUE | London |\n\n",
            "text/latex": "A data.frame: 5 × 5\n\\begin{tabular}{lllll}\n id & name & age & movie\\_lover & city\\\\\n <int> & <chr> & <dbl> & <lgl> & <chr>\\\\\n\\hline\n\t 1 & toy   & 28 &  TRUE & BKK   \\\\\n\t 2 & john  & 30 &  TRUE & BKK   \\\\\n\t 3 & marry & 31 & FALSE & BKK   \\\\\n\t 4 & jane  & 22 & FALSE & London\\\\\n\t 5 & anne  & 25 &  TRUE & London\\\\\n\\end{tabular}\n",
            "text/plain": [
              "  id name  age movie_lover city  \n",
              "1 1  toy   28   TRUE       BKK   \n",
              "2 2  john  30   TRUE       BKK   \n",
              "3 3  marry 31  FALSE       BKK   \n",
              "4 4  jane  22  FALSE       London\n",
              "5 5  anne  25   TRUE       London"
            ]
          },
          "metadata": {}
        }
      ]
    },
    {
      "cell_type": "code",
      "source": [
        "df$random <- 100\n",
        "df"
      ],
      "metadata": {
        "colab": {
          "base_uri": "https://localhost:8080/",
          "height": 255
        },
        "id": "VYwhQHo2gLNj",
        "outputId": "d2a02c32-5561-483a-f954-4392e93252b0"
      },
      "execution_count": null,
      "outputs": [
        {
          "output_type": "display_data",
          "data": {
            "text/html": [
              "<table class=\"dataframe\">\n",
              "<caption>A data.frame: 5 × 6</caption>\n",
              "<thead>\n",
              "\t<tr><th scope=col>id</th><th scope=col>name</th><th scope=col>age</th><th scope=col>movie_lover</th><th scope=col>city</th><th scope=col>random</th></tr>\n",
              "\t<tr><th scope=col>&lt;int&gt;</th><th scope=col>&lt;chr&gt;</th><th scope=col>&lt;dbl&gt;</th><th scope=col>&lt;lgl&gt;</th><th scope=col>&lt;chr&gt;</th><th scope=col>&lt;dbl&gt;</th></tr>\n",
              "</thead>\n",
              "<tbody>\n",
              "\t<tr><td>1</td><td>toy  </td><td>28</td><td> TRUE</td><td>BKK   </td><td>100</td></tr>\n",
              "\t<tr><td>2</td><td>john </td><td>30</td><td> TRUE</td><td>BKK   </td><td>100</td></tr>\n",
              "\t<tr><td>3</td><td>marry</td><td>31</td><td>FALSE</td><td>BKK   </td><td>100</td></tr>\n",
              "\t<tr><td>4</td><td>jane </td><td>22</td><td>FALSE</td><td>London</td><td>100</td></tr>\n",
              "\t<tr><td>5</td><td>anne </td><td>25</td><td> TRUE</td><td>London</td><td>100</td></tr>\n",
              "</tbody>\n",
              "</table>\n"
            ],
            "text/markdown": "\nA data.frame: 5 × 6\n\n| id &lt;int&gt; | name &lt;chr&gt; | age &lt;dbl&gt; | movie_lover &lt;lgl&gt; | city &lt;chr&gt; | random &lt;dbl&gt; |\n|---|---|---|---|---|---|\n| 1 | toy   | 28 |  TRUE | BKK    | 100 |\n| 2 | john  | 30 |  TRUE | BKK    | 100 |\n| 3 | marry | 31 | FALSE | BKK    | 100 |\n| 4 | jane  | 22 | FALSE | London | 100 |\n| 5 | anne  | 25 |  TRUE | London | 100 |\n\n",
            "text/latex": "A data.frame: 5 × 6\n\\begin{tabular}{llllll}\n id & name & age & movie\\_lover & city & random\\\\\n <int> & <chr> & <dbl> & <lgl> & <chr> & <dbl>\\\\\n\\hline\n\t 1 & toy   & 28 &  TRUE & BKK    & 100\\\\\n\t 2 & john  & 30 &  TRUE & BKK    & 100\\\\\n\t 3 & marry & 31 & FALSE & BKK    & 100\\\\\n\t 4 & jane  & 22 & FALSE & London & 100\\\\\n\t 5 & anne  & 25 &  TRUE & London & 100\\\\\n\\end{tabular}\n",
            "text/plain": [
              "  id name  age movie_lover city   random\n",
              "1 1  toy   28   TRUE       BKK    100   \n",
              "2 2  john  30   TRUE       BKK    100   \n",
              "3 3  marry 31  FALSE       BKK    100   \n",
              "4 4  jane  22  FALSE       London 100   \n",
              "5 5  anne  25   TRUE       London 100   "
            ]
          },
          "metadata": {}
        }
      ]
    },
    {
      "cell_type": "code",
      "source": [
        "## remove column\n",
        "df$random <- NULL\n",
        "df"
      ],
      "metadata": {
        "colab": {
          "base_uri": "https://localhost:8080/",
          "height": 255
        },
        "id": "e2HtCpwqgcsi",
        "outputId": "12e8dc93-98cf-4907-ea59-e13841500bf0"
      },
      "execution_count": null,
      "outputs": [
        {
          "output_type": "display_data",
          "data": {
            "text/html": [
              "<table class=\"dataframe\">\n",
              "<caption>A data.frame: 5 × 5</caption>\n",
              "<thead>\n",
              "\t<tr><th scope=col>id</th><th scope=col>name</th><th scope=col>age</th><th scope=col>movie_lover</th><th scope=col>city</th></tr>\n",
              "\t<tr><th scope=col>&lt;int&gt;</th><th scope=col>&lt;chr&gt;</th><th scope=col>&lt;dbl&gt;</th><th scope=col>&lt;lgl&gt;</th><th scope=col>&lt;chr&gt;</th></tr>\n",
              "</thead>\n",
              "<tbody>\n",
              "\t<tr><td>1</td><td>toy  </td><td>28</td><td> TRUE</td><td>BKK   </td></tr>\n",
              "\t<tr><td>2</td><td>john </td><td>30</td><td> TRUE</td><td>BKK   </td></tr>\n",
              "\t<tr><td>3</td><td>marry</td><td>31</td><td>FALSE</td><td>BKK   </td></tr>\n",
              "\t<tr><td>4</td><td>jane </td><td>22</td><td>FALSE</td><td>London</td></tr>\n",
              "\t<tr><td>5</td><td>anne </td><td>25</td><td> TRUE</td><td>London</td></tr>\n",
              "</tbody>\n",
              "</table>\n"
            ],
            "text/markdown": "\nA data.frame: 5 × 5\n\n| id &lt;int&gt; | name &lt;chr&gt; | age &lt;dbl&gt; | movie_lover &lt;lgl&gt; | city &lt;chr&gt; |\n|---|---|---|---|---|\n| 1 | toy   | 28 |  TRUE | BKK    |\n| 2 | john  | 30 |  TRUE | BKK    |\n| 3 | marry | 31 | FALSE | BKK    |\n| 4 | jane  | 22 | FALSE | London |\n| 5 | anne  | 25 |  TRUE | London |\n\n",
            "text/latex": "A data.frame: 5 × 5\n\\begin{tabular}{lllll}\n id & name & age & movie\\_lover & city\\\\\n <int> & <chr> & <dbl> & <lgl> & <chr>\\\\\n\\hline\n\t 1 & toy   & 28 &  TRUE & BKK   \\\\\n\t 2 & john  & 30 &  TRUE & BKK   \\\\\n\t 3 & marry & 31 & FALSE & BKK   \\\\\n\t 4 & jane  & 22 & FALSE & London\\\\\n\t 5 & anne  & 25 &  TRUE & London\\\\\n\\end{tabular}\n",
            "text/plain": [
              "  id name  age movie_lover city  \n",
              "1 1  toy   28   TRUE       BKK   \n",
              "2 2  john  30   TRUE       BKK   \n",
              "3 3  marry 31  FALSE       BKK   \n",
              "4 4  jane  22  FALSE       London\n",
              "5 5  anne  25   TRUE       London"
            ]
          },
          "metadata": {}
        }
      ]
    },
    {
      "cell_type": "code",
      "source": [
        "## write csv file\n",
        "###(if you don't want a new column name set row.name is false)\n",
        "write.csv(df,\"movie.csv\",row.names = FALSE)"
      ],
      "metadata": {
        "id": "perNLwaaglwa"
      },
      "execution_count": null,
      "outputs": []
    },
    {
      "cell_type": "code",
      "source": [
        "## read csv file\n",
        "movie <- read.csv(\"movie.csv\")\n",
        "movie"
      ],
      "metadata": {
        "colab": {
          "base_uri": "https://localhost:8080/",
          "height": 255
        },
        "id": "UhSu0xPSh15S",
        "outputId": "bbce13cb-93a7-4ed5-9652-fca9d80d96c8"
      },
      "execution_count": null,
      "outputs": [
        {
          "output_type": "display_data",
          "data": {
            "text/html": [
              "<table class=\"dataframe\">\n",
              "<caption>A data.frame: 5 × 5</caption>\n",
              "<thead>\n",
              "\t<tr><th scope=col>id</th><th scope=col>name</th><th scope=col>age</th><th scope=col>movie_lover</th><th scope=col>city</th></tr>\n",
              "\t<tr><th scope=col>&lt;int&gt;</th><th scope=col>&lt;chr&gt;</th><th scope=col>&lt;int&gt;</th><th scope=col>&lt;lgl&gt;</th><th scope=col>&lt;chr&gt;</th></tr>\n",
              "</thead>\n",
              "<tbody>\n",
              "\t<tr><td>1</td><td>toy  </td><td>28</td><td> TRUE</td><td>BKK   </td></tr>\n",
              "\t<tr><td>2</td><td>john </td><td>30</td><td> TRUE</td><td>BKK   </td></tr>\n",
              "\t<tr><td>3</td><td>marry</td><td>31</td><td>FALSE</td><td>BKK   </td></tr>\n",
              "\t<tr><td>4</td><td>jane </td><td>22</td><td>FALSE</td><td>London</td></tr>\n",
              "\t<tr><td>5</td><td>anne </td><td>25</td><td> TRUE</td><td>London</td></tr>\n",
              "</tbody>\n",
              "</table>\n"
            ],
            "text/markdown": "\nA data.frame: 5 × 5\n\n| id &lt;int&gt; | name &lt;chr&gt; | age &lt;int&gt; | movie_lover &lt;lgl&gt; | city &lt;chr&gt; |\n|---|---|---|---|---|\n| 1 | toy   | 28 |  TRUE | BKK    |\n| 2 | john  | 30 |  TRUE | BKK    |\n| 3 | marry | 31 | FALSE | BKK    |\n| 4 | jane  | 22 | FALSE | London |\n| 5 | anne  | 25 |  TRUE | London |\n\n",
            "text/latex": "A data.frame: 5 × 5\n\\begin{tabular}{lllll}\n id & name & age & movie\\_lover & city\\\\\n <int> & <chr> & <int> & <lgl> & <chr>\\\\\n\\hline\n\t 1 & toy   & 28 &  TRUE & BKK   \\\\\n\t 2 & john  & 30 &  TRUE & BKK   \\\\\n\t 3 & marry & 31 & FALSE & BKK   \\\\\n\t 4 & jane  & 22 & FALSE & London\\\\\n\t 5 & anne  & 25 &  TRUE & London\\\\\n\\end{tabular}\n",
            "text/plain": [
              "  id name  age movie_lover city  \n",
              "1 1  toy   28   TRUE       BKK   \n",
              "2 2  john  30   TRUE       BKK   \n",
              "3 3  marry 31  FALSE       BKK   \n",
              "4 4  jane  22  FALSE       London\n",
              "5 5  anne  25   TRUE       London"
            ]
          },
          "metadata": {}
        }
      ]
    },
    {
      "cell_type": "code",
      "source": [
        "## preview top row of data\n",
        "head(movie,2)"
      ],
      "metadata": {
        "colab": {
          "base_uri": "https://localhost:8080/",
          "height": 161
        },
        "id": "yel2b4K3iWmE",
        "outputId": "b17160bf-79e1-4390-dcce-9c5414fd2c14"
      },
      "execution_count": null,
      "outputs": [
        {
          "output_type": "display_data",
          "data": {
            "text/html": [
              "<table class=\"dataframe\">\n",
              "<caption>A data.frame: 2 × 5</caption>\n",
              "<thead>\n",
              "\t<tr><th></th><th scope=col>id</th><th scope=col>name</th><th scope=col>age</th><th scope=col>movie_lover</th><th scope=col>city</th></tr>\n",
              "\t<tr><th></th><th scope=col>&lt;int&gt;</th><th scope=col>&lt;chr&gt;</th><th scope=col>&lt;int&gt;</th><th scope=col>&lt;lgl&gt;</th><th scope=col>&lt;chr&gt;</th></tr>\n",
              "</thead>\n",
              "<tbody>\n",
              "\t<tr><th scope=row>1</th><td>1</td><td>toy </td><td>28</td><td>TRUE</td><td>BKK</td></tr>\n",
              "\t<tr><th scope=row>2</th><td>2</td><td>john</td><td>30</td><td>TRUE</td><td>BKK</td></tr>\n",
              "</tbody>\n",
              "</table>\n"
            ],
            "text/markdown": "\nA data.frame: 2 × 5\n\n| <!--/--> | id &lt;int&gt; | name &lt;chr&gt; | age &lt;int&gt; | movie_lover &lt;lgl&gt; | city &lt;chr&gt; |\n|---|---|---|---|---|---|\n| 1 | 1 | toy  | 28 | TRUE | BKK |\n| 2 | 2 | john | 30 | TRUE | BKK |\n\n",
            "text/latex": "A data.frame: 2 × 5\n\\begin{tabular}{r|lllll}\n  & id & name & age & movie\\_lover & city\\\\\n  & <int> & <chr> & <int> & <lgl> & <chr>\\\\\n\\hline\n\t1 & 1 & toy  & 28 & TRUE & BKK\\\\\n\t2 & 2 & john & 30 & TRUE & BKK\\\\\n\\end{tabular}\n",
            "text/plain": [
              "  id name age movie_lover city\n",
              "1 1  toy  28  TRUE        BKK \n",
              "2 2  john 30  TRUE        BKK "
            ]
          },
          "metadata": {}
        }
      ]
    },
    {
      "cell_type": "code",
      "source": [
        "## preview bottom row of data\n",
        "tail(movie,2)"
      ],
      "metadata": {
        "colab": {
          "base_uri": "https://localhost:8080/",
          "height": 161
        },
        "id": "16Mu8bDujIQj",
        "outputId": "9d4f3433-4e0f-4e26-8f44-5560f8a1fcf3"
      },
      "execution_count": null,
      "outputs": [
        {
          "output_type": "display_data",
          "data": {
            "text/html": [
              "<table class=\"dataframe\">\n",
              "<caption>A data.frame: 2 × 5</caption>\n",
              "<thead>\n",
              "\t<tr><th></th><th scope=col>id</th><th scope=col>name</th><th scope=col>age</th><th scope=col>movie_lover</th><th scope=col>city</th></tr>\n",
              "\t<tr><th></th><th scope=col>&lt;int&gt;</th><th scope=col>&lt;chr&gt;</th><th scope=col>&lt;int&gt;</th><th scope=col>&lt;lgl&gt;</th><th scope=col>&lt;chr&gt;</th></tr>\n",
              "</thead>\n",
              "<tbody>\n",
              "\t<tr><th scope=row>4</th><td>4</td><td>jane</td><td>22</td><td>FALSE</td><td>London</td></tr>\n",
              "\t<tr><th scope=row>5</th><td>5</td><td>anne</td><td>25</td><td> TRUE</td><td>London</td></tr>\n",
              "</tbody>\n",
              "</table>\n"
            ],
            "text/markdown": "\nA data.frame: 2 × 5\n\n| <!--/--> | id &lt;int&gt; | name &lt;chr&gt; | age &lt;int&gt; | movie_lover &lt;lgl&gt; | city &lt;chr&gt; |\n|---|---|---|---|---|---|\n| 4 | 4 | jane | 22 | FALSE | London |\n| 5 | 5 | anne | 25 |  TRUE | London |\n\n",
            "text/latex": "A data.frame: 2 × 5\n\\begin{tabular}{r|lllll}\n  & id & name & age & movie\\_lover & city\\\\\n  & <int> & <chr> & <int> & <lgl> & <chr>\\\\\n\\hline\n\t4 & 4 & jane & 22 & FALSE & London\\\\\n\t5 & 5 & anne & 25 &  TRUE & London\\\\\n\\end{tabular}\n",
            "text/plain": [
              "  id name age movie_lover city  \n",
              "4 4  jane 22  FALSE       London\n",
              "5 5  anne 25   TRUE       London"
            ]
          },
          "metadata": {}
        }
      ]
    },
    {
      "cell_type": "code",
      "source": [
        "## preview data\n",
        "str(movie)"
      ],
      "metadata": {
        "colab": {
          "base_uri": "https://localhost:8080/"
        },
        "id": "P4PEXiTbjK80",
        "outputId": "b5dede15-1bfe-4aba-a668-95476e304c39"
      },
      "execution_count": null,
      "outputs": [
        {
          "output_type": "stream",
          "name": "stdout",
          "text": [
            "'data.frame':\t5 obs. of  5 variables:\n",
            " $ id         : int  1 2 3 4 5\n",
            " $ name       : chr  \"toy\" \"john\" \"marry\" \"jane\" ...\n",
            " $ age        : int  28 30 31 22 25\n",
            " $ movie_lover: logi  TRUE TRUE FALSE FALSE TRUE\n",
            " $ city       : chr  \"BKK\" \"BKK\" \"BKK\" \"London\" ...\n"
          ]
        }
      ]
    },
    {
      "cell_type": "code",
      "source": [],
      "metadata": {
        "id": "uWXK99INjYtz"
      },
      "execution_count": null,
      "outputs": []
    },
    {
      "cell_type": "markdown",
      "source": [
        "##**Function**"
      ],
      "metadata": {
        "id": "z6nntQyujjGb"
      }
    },
    {
      "cell_type": "code",
      "source": [
        "sum(1:100)"
      ],
      "metadata": {
        "colab": {
          "base_uri": "https://localhost:8080/",
          "height": 34
        },
        "id": "BurfEQw6joBT",
        "outputId": "1bcb6e7f-776b-4fc9-fef6-c1d1bb081290"
      },
      "execution_count": null,
      "outputs": [
        {
          "output_type": "display_data",
          "data": {
            "text/html": [
              "5050"
            ],
            "text/markdown": "5050",
            "text/latex": "5050",
            "text/plain": [
              "[1] 5050"
            ]
          },
          "metadata": {}
        }
      ]
    },
    {
      "cell_type": "code",
      "source": [
        "my_secret_formula <- function(start,end){\n",
        "      (start + end)*end/2\n",
        "}\n",
        "my_secret_formula(1,100)"
      ],
      "metadata": {
        "colab": {
          "base_uri": "https://localhost:8080/",
          "height": 34
        },
        "id": "_8Cjf6YDkjjj",
        "outputId": "af212196-7413-4332-b79c-aed87ded949a"
      },
      "execution_count": null,
      "outputs": [
        {
          "output_type": "display_data",
          "data": {
            "text/html": [
              "5050"
            ],
            "text/markdown": "5050",
            "text/latex": "5050",
            "text/plain": [
              "[1] 5050"
            ]
          },
          "metadata": {}
        }
      ]
    },
    {
      "cell_type": "code",
      "source": [
        "greeting <- function(name){\n",
        "  print(paste(\"hi\",name))\n",
        "}\n",
        "greeting(\"boss\")"
      ],
      "metadata": {
        "colab": {
          "base_uri": "https://localhost:8080/"
        },
        "id": "M-E1no-mk7Q9",
        "outputId": "681ca47b-d0ba-4174-9f0b-484aa4480df7"
      },
      "execution_count": null,
      "outputs": [
        {
          "output_type": "stream",
          "name": "stdout",
          "text": [
            "[1] \"hi boss\"\n"
          ]
        }
      ]
    },
    {
      "cell_type": "markdown",
      "source": [
        "### **function take user input**"
      ],
      "metadata": {
        "id": "rkUZo8zQp2n3"
      }
    },
    {
      "cell_type": "code",
      "source": [
        "## get input charecter\n",
        "user <- readline(\"What is your name: \")\n",
        "password <- as.integer(readline(\"Password: \"))"
      ],
      "metadata": {
        "colab": {
          "base_uri": "https://localhost:8080/"
        },
        "id": "V1YrqN_Ap7hF",
        "outputId": "5b5191c5-2ac2-499e-ef99-827978af77c9"
      },
      "execution_count": null,
      "outputs": [
        {
          "name": "stdout",
          "output_type": "stream",
          "text": [
            "what is your name: boss\n",
            "Password: 123123\n"
          ]
        }
      ]
    },
    {
      "cell_type": "code",
      "source": [
        "class(user)\n",
        "class(password)"
      ],
      "metadata": {
        "colab": {
          "base_uri": "https://localhost:8080/",
          "height": 52
        },
        "id": "piHhvpxXqC99",
        "outputId": "28b310e8-afec-4332-efe8-3b31cdecb40e"
      },
      "execution_count": null,
      "outputs": [
        {
          "output_type": "display_data",
          "data": {
            "text/html": [
              "'character'"
            ],
            "text/markdown": "'character'",
            "text/latex": "'character'",
            "text/plain": [
              "[1] \"character\""
            ]
          },
          "metadata": {}
        },
        {
          "output_type": "display_data",
          "data": {
            "text/html": [
              "'integer'"
            ],
            "text/markdown": "'integer'",
            "text/latex": "'integer'",
            "text/plain": [
              "[1] \"integer\""
            ]
          },
          "metadata": {}
        }
      ]
    },
    {
      "cell_type": "code",
      "source": [
        "greetingv2 <- function(){\n",
        "    user_name <- readline(\"What is your name: \")\n",
        "    text = paste(\"Good moring!\",user_name)\n",
        "    return(text)\n",
        "}"
      ],
      "metadata": {
        "id": "GipUM7rEtjGN"
      },
      "execution_count": null,
      "outputs": []
    },
    {
      "cell_type": "code",
      "source": [
        "greetingv2()"
      ],
      "metadata": {
        "colab": {
          "base_uri": "https://localhost:8080/",
          "height": 53
        },
        "id": "7mapEeA32Hwf",
        "outputId": "42deefec-27b4-4e3a-83c9-c53db5801a3c"
      },
      "execution_count": null,
      "outputs": [
        {
          "name": "stdout",
          "output_type": "stream",
          "text": [
            "What is your name: boss\n"
          ]
        },
        {
          "output_type": "display_data",
          "data": {
            "text/html": [
              "'Goodmoring boss'"
            ],
            "text/markdown": "'Goodmoring boss'",
            "text/latex": "'Goodmoring boss'",
            "text/plain": [
              "[1] \"Goodmoring boss\""
            ]
          },
          "metadata": {}
        }
      ]
    },
    {
      "cell_type": "markdown",
      "source": [
        "## **Control Flow**\n",
        "- if\n",
        "- for loop\n",
        "- while loop"
      ],
      "metadata": {
        "id": "IoIbyzpS4sGb"
      }
    },
    {
      "cell_type": "code",
      "source": [
        "# if\n",
        "# ifelse\n",
        "# = IF() in google sheet\n",
        "\n",
        "score <- 79\n",
        "ifelse(score >= 80,\"passed\",\"failed\")"
      ],
      "metadata": {
        "colab": {
          "base_uri": "https://localhost:8080/",
          "height": 34
        },
        "id": "kOMP53Op4zkT",
        "outputId": "40a98fee-26db-4dff-f511-2b0e9b0711f0"
      },
      "execution_count": null,
      "outputs": [
        {
          "output_type": "display_data",
          "data": {
            "text/html": [
              "'failed'"
            ],
            "text/markdown": "'failed'",
            "text/latex": "'failed'",
            "text/plain": [
              "[1] \"failed\""
            ]
          },
          "metadata": {}
        }
      ]
    },
    {
      "cell_type": "code",
      "source": [
        "## if-else\n",
        "grading <- function(score){\n",
        "  if(score >= 80){\n",
        "    return(\"A\")\n",
        "  }   else if(score >=70){\n",
        "    return(\"B\")\n",
        "  }   else if(score >= 60){\n",
        "    return(\"C\")\n",
        "  }   else if (score >= 50){\n",
        "    return(\"D\")\n",
        "  }   else{\n",
        "    return(\"Failed\")\n",
        "  }\n",
        "}"
      ],
      "metadata": {
        "id": "vLONcyel5UwU"
      },
      "execution_count": null,
      "outputs": []
    },
    {
      "cell_type": "code",
      "source": [
        "## function is re-usable\n",
        "grading(88)"
      ],
      "metadata": {
        "colab": {
          "base_uri": "https://localhost:8080/",
          "height": 34
        },
        "id": "M_ICefSs57Qy",
        "outputId": "40d78866-ebde-4aa7-ba02-2fafa9c6d31c"
      },
      "execution_count": null,
      "outputs": [
        {
          "output_type": "display_data",
          "data": {
            "text/html": [
              "'A'"
            ],
            "text/markdown": "'A'",
            "text/latex": "'A'",
            "text/plain": [
              "[1] \"A\""
            ]
          },
          "metadata": {}
        }
      ]
    },
    {
      "cell_type": "code",
      "source": [
        "# for loop\n",
        "#(ไม่จำเป็นต้องใช้ใน R)\n",
        "# (cause vectorization)\n",
        "\n",
        "fruits <- c(\"banana\", \"apple\", \"pineapple\")"
      ],
      "metadata": {
        "id": "EnhMVBPa82p4"
      },
      "execution_count": null,
      "outputs": []
    },
    {
      "cell_type": "code",
      "source": [
        "for (fruit in fruits) {\n",
        "  print(toupper(fruit))\n",
        "}"
      ],
      "metadata": {
        "colab": {
          "base_uri": "https://localhost:8080/"
        },
        "id": "-WYPrWFm9gyN",
        "outputId": "fca82b7c-a9a0-4289-ac51-ec3823c9363b"
      },
      "execution_count": null,
      "outputs": [
        {
          "output_type": "stream",
          "name": "stdout",
          "text": [
            "[1] \"BANANA\"\n",
            "[1] \"APPLE\"\n",
            "[1] \"PINEAPPLE\"\n"
          ]
        }
      ]
    },
    {
      "cell_type": "code",
      "source": [
        "toupper(fruits)"
      ],
      "metadata": {
        "colab": {
          "base_uri": "https://localhost:8080/",
          "height": 34
        },
        "id": "x0Ngz9gC_EMD",
        "outputId": "c9fe0885-f0bd-47f8-c74c-802f29279c33"
      },
      "execution_count": null,
      "outputs": [
        {
          "output_type": "display_data",
          "data": {
            "text/html": [
              "<style>\n",
              ".list-inline {list-style: none; margin:0; padding: 0}\n",
              ".list-inline>li {display: inline-block}\n",
              ".list-inline>li:not(:last-child)::after {content: \"\\00b7\"; padding: 0 .5ex}\n",
              "</style>\n",
              "<ol class=list-inline><li>'BANANA'</li><li>'APPLE'</li><li>'PINEAPPLE'</li></ol>\n"
            ],
            "text/markdown": "1. 'BANANA'\n2. 'APPLE'\n3. 'PINEAPPLE'\n\n\n",
            "text/latex": "\\begin{enumerate*}\n\\item 'BANANA'\n\\item 'APPLE'\n\\item 'PINEAPPLE'\n\\end{enumerate*}\n",
            "text/plain": [
              "[1] \"BANANA\"    \"APPLE\"     \"PINEAPPLE\""
            ]
          },
          "metadata": {}
        }
      ]
    },
    {
      "cell_type": "code",
      "source": [
        "# while loop\n",
        "count <- 0\n",
        "while(count < 5) {\n",
        "  print(\"Hi!\")\n",
        "  count <- count + 1\n",
        "}"
      ],
      "metadata": {
        "colab": {
          "base_uri": "https://localhost:8080/"
        },
        "id": "RchBOt1A_XMM",
        "outputId": "d01c37ae-1c42-44ed-94c8-2f152cc307ce"
      },
      "execution_count": null,
      "outputs": [
        {
          "output_type": "stream",
          "name": "stdout",
          "text": [
            "[1] \"Hi!\"\n",
            "[1] \"Hi!\"\n",
            "[1] \"Hi!\"\n",
            "[1] \"Hi!\"\n",
            "[1] \"Hi!\"\n"
          ]
        }
      ]
    }
  ]
}