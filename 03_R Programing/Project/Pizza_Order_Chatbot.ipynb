{
  "nbformat": 4,
  "nbformat_minor": 0,
  "metadata": {
    "colab": {
      "provenance": []
    },
    "kernelspec": {
      "name": "ir",
      "display_name": "R"
    },
    "language_info": {
      "name": "R"
    }
  },
  "cells": [
    {
      "cell_type": "code",
      "execution_count": null,
      "metadata": {
        "id": "0h3NRNHSK_zy"
      },
      "outputs": [],
      "source": [
        "## menu\n",
        "df_pizza <- data.frame(\n",
        "  id = 1:5,\n",
        "  name_pizza = c(\"Pepperoni Pizza\",\"Hawaiian Pizza\",\"Cheese Pizza\",\"Veggie Pizza\",\"MeatLover Pizza\"),\n",
        "  price = c(14,15,12,13,17)\n",
        ")\n",
        "chatbot <- function(){\n",
        "  #greeting user\n",
        "  user_name <- readline(\"What is your name?: \")\n",
        "  print(paste(\"Hi!\",user_name,\"Welcome to Yummy Pizza😊\"))\n",
        "  print(df_pizza)\n",
        "\n",
        "  #set\n",
        "  order_detail <- list()\n",
        "  total <- 0\n",
        "  process <- c(\"O\", \"D\", \"C\")\n",
        "\n",
        "  #process\n",
        "  while(TRUE){\n",
        "    flush.console()\n",
        "    process <- readline(\"Type O to order , Type D as Done and Type C to Cancel :\")\n",
        "    if(process == \"o\"| process == \"O\"){\n",
        "      user_order <- as.numeric(readline(\"What would you like to order for today?(Pleas enter id of menu): \"))\n",
        "      quan <- as.numeric(readline(\"How many set?: \"))\n",
        "      show_order <- df_pizza[user_order,]\n",
        "      print(show_order)\n",
        "      item_name <- df_pizza[[user_order,2]]\n",
        "      total_amout <- df_pizza[[user_order,3]] * quan\n",
        "      print(paste(\"Price for\", quan, item_name, \"is\", total_amout))\n",
        "      total <- total + total_amout\n",
        "    }\n",
        "    if(process == \"d\"| process == \"D\"){\n",
        "      print(paste(\"Total price is\", total))\n",
        "      print(paste(\"Thank you.\", user_name,\"Have a good meal\"))\n",
        "      break\n",
        "    }else if(process == \"c\"| process == \"C\"){\n",
        "       print(paste(\"I hope to see you later.Good bye.\", user_name))\n",
        "      break\n",
        "    }\n",
        "      }\n",
        "}"
      ]
    },
    {
      "cell_type": "code",
      "source": [
        "chatbot()"
      ],
      "metadata": {
        "colab": {
          "base_uri": "https://localhost:8080/"
        },
        "id": "8g4pZIq3LSlb",
        "outputId": "dee176c1-f890-4cca-e896-c5b0ea0e4a3d"
      },
      "execution_count": null,
      "outputs": [
        {
          "output_type": "stream",
          "name": "stdout",
          "text": [
            "What is your name?: boss\n",
            "[1] \"Hi! boss Welcome to Yummy Pizza😊\"\n",
            "  id      name_pizza price\n",
            "1  1 Pepperoni Pizza    14\n",
            "2  2  Hawaiian Pizza    15\n",
            "3  3    Cheese Pizza    12\n",
            "4  4    Veggie Pizza    13\n",
            "5  5 MeatLover Pizza    17\n",
            "Type O to order , Type D as Done and Type C to Cancel :o\n",
            "What would you like to order for today?(Pleas enter id of menu): 2\n",
            "How many set?: 4\n",
            "  id     name_pizza price\n",
            "2  2 Hawaiian Pizza    15\n",
            "[1] \"Price for 4 Hawaiian Pizza is 60\"\n",
            "Type O to order , Type D as Done and Type C to Cancel :o\n",
            "What would you like to order for today?(Pleas enter id of menu): 1\n",
            "How many set?: 2\n",
            "  id      name_pizza price\n",
            "1  1 Pepperoni Pizza    14\n",
            "[1] \"Price for 2 Pepperoni Pizza is 28\"\n",
            "Type O to order , Type D as Done and Type C to Cancel :d\n",
            "[1] \"Total price is 88\"\n",
            "[1] \"Thank you. boss Have a good meal\"\n"
          ]
        }
      ]
    }
  ]
}