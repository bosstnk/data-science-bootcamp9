{
  "nbformat": 4,
  "nbformat_minor": 0,
  "metadata": {
    "colab": {
      "provenance": []
    },
    "kernelspec": {
      "name": "ir",
      "display_name": "R"
    },
    "language_info": {
      "name": "R"
    }
  },
  "cells": [
    {
      "cell_type": "code",
      "execution_count": null,
      "metadata": {
        "id": "uoYx-YJ_JV6O"
      },
      "outputs": [],
      "source": [
        "game <- function(){\n",
        "    # Intro game\n",
        "    print(\"Hello, Welcome to the game RPS!\")\n",
        "    user_name <- readline(\"What is your name ?: \")\n",
        "    print(\"Let's play game!\")\n",
        "    cat(\"1: rock\\n2: scissor\\n3: paper\\n4: end game\\n\")\n",
        "\n",
        "    # set value\n",
        "    hand <- c(\"rock\", \"scissor\", \"paper\")\n",
        "    user_score <- 0\n",
        "    com_score <- 0\n",
        "\n",
        "    # main code for game playing\n",
        "     while(1>0) {\n",
        "        com_hand <- sample(hand,1)\n",
        "        flush.console()\n",
        "        user_hand <- as.integer(readline(\"What is your hand (1-4): \"))\n",
        "        # error for out of range values we set and exiting game\n",
        "        if(user_hand > 4 | user_hand < 1 ){\n",
        "            cat(\"Invalid input, please enter a number between 1 and 4.\\n\")\n",
        "            next\n",
        "        }else if(user_hand == 4){\n",
        "            cat(\"Your score:\",user_score,\"Com score:\",com_score,\"\\n\")\n",
        "            if (user_score > com_score) {\n",
        "                cat(\"You Win\\nThank you for playing\\n\")\n",
        "            }else if (user_score < com_score){\n",
        "                cat(\"You lose\\nThank you for playing\\n\")\n",
        "            }else {\n",
        "                cat(\"We drew\\nThank you for playing\\n\")\n",
        "            }\n",
        "            break\n",
        "        }\n",
        "        # game play\n",
        "        user_hand_convert <- hand[[user_hand]]\n",
        "        cat(\"Your hand is:\",user_hand_convert,\"\\n\")\n",
        "        cat(\"Com hand is:\",com_hand,\"\\n\")\n",
        "        if (user_hand_convert == com_hand){\n",
        "            print(\"We draw\")\n",
        "        }else if ((user_hand_convert == \"rock\" & com_hand == \"scissor\") |\n",
        "                  (user_hand_convert == \"scissor\" & com_hand == \"paper\") |\n",
        "                  (user_hand_convert == \"paper\" & com_hand == \"rock\")){\n",
        "                      print(\"You win\")\n",
        "                      user_score <- user_score + 1\n",
        "                  }else {\n",
        "                      print(\"You lose\")\n",
        "                      com_score <- com_score + 1\n",
        "                  }\n",
        "\n",
        "        }\n",
        "}"
      ]
    },
    {
      "cell_type": "code",
      "source": [
        "game()"
      ],
      "metadata": {
        "colab": {
          "base_uri": "https://localhost:8080/"
        },
        "id": "sIWJ_R5bJtFL",
        "outputId": "c2baff2c-94df-44a5-eeaa-bdaff3cbe0a3"
      },
      "execution_count": null,
      "outputs": [
        {
          "output_type": "stream",
          "name": "stdout",
          "text": [
            "What is your name ?: Boss\n",
            "[1] \"Hello, Welcome to the game RPS!\"\n",
            "[1] \"Let's play game!\"\n",
            "1: rock\n",
            "2: scissor\n",
            "3: paper\n",
            "4: end game\n",
            "What is your hand (1-4): 1\n",
            "Your hand is: rock \n",
            "Com hand is: paper \n",
            "[1] \"You lose\"\n",
            "What is your hand (1-4): 2\n",
            "Your hand is: scissor \n",
            "Com hand is: scissor \n",
            "[1] \"We draw\"\n",
            "What is your hand (1-4): 3\n",
            "Your hand is: paper \n",
            "Com hand is: rock \n",
            "[1] \"You win\"\n",
            "What is your hand (1-4): 4\n",
            "Your score: 1 Com score: 1 \n",
            "We drew\n",
            "Thank you for playing\n"
          ]
        }
      ]
    }
  ]
}